{
 "cells": [
  {
   "cell_type": "markdown",
   "metadata": {},
   "source": [
    "# Sprint 4 Software Development Tools: Project"
   ]
  },
  {
   "cell_type": "markdown",
   "metadata": {},
   "source": [
    "## Project Description\n",
    "\n",
    "You are asked to to develop and deplot a web application to a cloud service so that it is accessible to the public.\n",
    "\n",
    "In this project, I will use the dataset from [[www.basketball-reference.com](https://www.basketball-reference.com)]. The goal is to find out in the decade of the 2020s regular season, who is the \"best\" player of this decade so far. With this, I will gather the dataset from each year starting from 2020-2021 season to the end of the season of 2023-2024 (can not do the 2025 season just yet because of the ongoing season). "
   ]
  },
  {
   "cell_type": "markdown",
   "metadata": {},
   "source": [
    "## Import Packages "
   ]
  },
  {
   "cell_type": "code",
   "execution_count": 438,
   "metadata": {},
   "outputs": [],
   "source": [
    "import pandas as pd\n",
    "import lxml\n",
    "import plotly.express as px"
   ]
  },
  {
   "cell_type": "markdown",
   "metadata": {},
   "source": [
    "## 2020-2021"
   ]
  },
  {
   "cell_type": "code",
   "execution_count": 439,
   "metadata": {},
   "outputs": [
    {
     "data": {
      "text/html": [
       "<div>\n",
       "<style scoped>\n",
       "    .dataframe tbody tr th:only-of-type {\n",
       "        vertical-align: middle;\n",
       "    }\n",
       "\n",
       "    .dataframe tbody tr th {\n",
       "        vertical-align: top;\n",
       "    }\n",
       "\n",
       "    .dataframe thead th {\n",
       "        text-align: right;\n",
       "    }\n",
       "</style>\n",
       "<table border=\"1\" class=\"dataframe\">\n",
       "  <thead>\n",
       "    <tr style=\"text-align: right;\">\n",
       "      <th></th>\n",
       "      <th>Rk</th>\n",
       "      <th>Player</th>\n",
       "      <th>Age</th>\n",
       "      <th>Team</th>\n",
       "      <th>Pos</th>\n",
       "      <th>G</th>\n",
       "      <th>GS</th>\n",
       "      <th>MP</th>\n",
       "      <th>FG</th>\n",
       "      <th>FGA</th>\n",
       "      <th>FG%</th>\n",
       "      <th>3P</th>\n",
       "      <th>3PA</th>\n",
       "      <th>3P%</th>\n",
       "      <th>2P</th>\n",
       "      <th>2PA</th>\n",
       "      <th>2P%</th>\n",
       "      <th>eFG%</th>\n",
       "      <th>FT</th>\n",
       "      <th>FTA</th>\n",
       "      <th>FT%</th>\n",
       "      <th>ORB</th>\n",
       "      <th>DRB</th>\n",
       "      <th>TRB</th>\n",
       "      <th>AST</th>\n",
       "      <th>STL</th>\n",
       "      <th>BLK</th>\n",
       "      <th>TOV</th>\n",
       "      <th>PF</th>\n",
       "      <th>PTS</th>\n",
       "      <th>Awards</th>\n",
       "    </tr>\n",
       "  </thead>\n",
       "  <tbody>\n",
       "    <tr>\n",
       "      <th>0</th>\n",
       "      <td>1.0</td>\n",
       "      <td>Stephen Curry</td>\n",
       "      <td>32.0</td>\n",
       "      <td>GSW</td>\n",
       "      <td>PG</td>\n",
       "      <td>63.0</td>\n",
       "      <td>63.0</td>\n",
       "      <td>34.2</td>\n",
       "      <td>10.4</td>\n",
       "      <td>21.7</td>\n",
       "      <td>0.482</td>\n",
       "      <td>5.3</td>\n",
       "      <td>12.7</td>\n",
       "      <td>0.421</td>\n",
       "      <td>5.1</td>\n",
       "      <td>9.0</td>\n",
       "      <td>0.569</td>\n",
       "      <td>0.605</td>\n",
       "      <td>5.7</td>\n",
       "      <td>6.3</td>\n",
       "      <td>0.916</td>\n",
       "      <td>0.5</td>\n",
       "      <td>5.0</td>\n",
       "      <td>5.5</td>\n",
       "      <td>5.8</td>\n",
       "      <td>1.2</td>\n",
       "      <td>0.1</td>\n",
       "      <td>3.4</td>\n",
       "      <td>1.9</td>\n",
       "      <td>32.0</td>\n",
       "      <td>MVP-3,AS,NBA1</td>\n",
       "    </tr>\n",
       "    <tr>\n",
       "      <th>1</th>\n",
       "      <td>2.0</td>\n",
       "      <td>Bradley Beal</td>\n",
       "      <td>27.0</td>\n",
       "      <td>WAS</td>\n",
       "      <td>SG</td>\n",
       "      <td>60.0</td>\n",
       "      <td>60.0</td>\n",
       "      <td>35.8</td>\n",
       "      <td>11.2</td>\n",
       "      <td>23.0</td>\n",
       "      <td>0.485</td>\n",
       "      <td>2.2</td>\n",
       "      <td>6.2</td>\n",
       "      <td>0.349</td>\n",
       "      <td>9.0</td>\n",
       "      <td>16.8</td>\n",
       "      <td>0.535</td>\n",
       "      <td>0.532</td>\n",
       "      <td>6.8</td>\n",
       "      <td>7.7</td>\n",
       "      <td>0.889</td>\n",
       "      <td>1.2</td>\n",
       "      <td>3.5</td>\n",
       "      <td>4.7</td>\n",
       "      <td>4.4</td>\n",
       "      <td>1.2</td>\n",
       "      <td>0.4</td>\n",
       "      <td>3.1</td>\n",
       "      <td>2.3</td>\n",
       "      <td>31.3</td>\n",
       "      <td>AS,NBA3</td>\n",
       "    </tr>\n",
       "    <tr>\n",
       "      <th>2</th>\n",
       "      <td>3.0</td>\n",
       "      <td>Damian Lillard</td>\n",
       "      <td>30.0</td>\n",
       "      <td>POR</td>\n",
       "      <td>PG</td>\n",
       "      <td>67.0</td>\n",
       "      <td>67.0</td>\n",
       "      <td>35.8</td>\n",
       "      <td>9.0</td>\n",
       "      <td>19.9</td>\n",
       "      <td>0.451</td>\n",
       "      <td>4.1</td>\n",
       "      <td>10.5</td>\n",
       "      <td>0.391</td>\n",
       "      <td>4.9</td>\n",
       "      <td>9.4</td>\n",
       "      <td>0.519</td>\n",
       "      <td>0.554</td>\n",
       "      <td>6.7</td>\n",
       "      <td>7.2</td>\n",
       "      <td>0.928</td>\n",
       "      <td>0.5</td>\n",
       "      <td>3.7</td>\n",
       "      <td>4.2</td>\n",
       "      <td>7.5</td>\n",
       "      <td>0.9</td>\n",
       "      <td>0.3</td>\n",
       "      <td>3.0</td>\n",
       "      <td>1.5</td>\n",
       "      <td>28.8</td>\n",
       "      <td>MVP-7,AS,NBA2</td>\n",
       "    </tr>\n",
       "    <tr>\n",
       "      <th>3</th>\n",
       "      <td>4.0</td>\n",
       "      <td>Joel Embiid</td>\n",
       "      <td>26.0</td>\n",
       "      <td>PHI</td>\n",
       "      <td>C</td>\n",
       "      <td>51.0</td>\n",
       "      <td>51.0</td>\n",
       "      <td>31.1</td>\n",
       "      <td>9.0</td>\n",
       "      <td>17.6</td>\n",
       "      <td>0.513</td>\n",
       "      <td>1.1</td>\n",
       "      <td>3.0</td>\n",
       "      <td>0.377</td>\n",
       "      <td>7.9</td>\n",
       "      <td>14.6</td>\n",
       "      <td>0.541</td>\n",
       "      <td>0.545</td>\n",
       "      <td>9.2</td>\n",
       "      <td>10.7</td>\n",
       "      <td>0.859</td>\n",
       "      <td>2.2</td>\n",
       "      <td>8.4</td>\n",
       "      <td>10.6</td>\n",
       "      <td>2.8</td>\n",
       "      <td>1.0</td>\n",
       "      <td>1.4</td>\n",
       "      <td>3.1</td>\n",
       "      <td>2.4</td>\n",
       "      <td>28.5</td>\n",
       "      <td>MVP-2,DPOY-7,AS,NBA2</td>\n",
       "    </tr>\n",
       "    <tr>\n",
       "      <th>4</th>\n",
       "      <td>5.0</td>\n",
       "      <td>Giannis Antetokounmpo</td>\n",
       "      <td>26.0</td>\n",
       "      <td>MIL</td>\n",
       "      <td>PF</td>\n",
       "      <td>61.0</td>\n",
       "      <td>61.0</td>\n",
       "      <td>33.0</td>\n",
       "      <td>10.3</td>\n",
       "      <td>18.0</td>\n",
       "      <td>0.569</td>\n",
       "      <td>1.1</td>\n",
       "      <td>3.6</td>\n",
       "      <td>0.303</td>\n",
       "      <td>9.2</td>\n",
       "      <td>14.4</td>\n",
       "      <td>0.636</td>\n",
       "      <td>0.600</td>\n",
       "      <td>6.5</td>\n",
       "      <td>9.5</td>\n",
       "      <td>0.685</td>\n",
       "      <td>1.6</td>\n",
       "      <td>9.4</td>\n",
       "      <td>11.0</td>\n",
       "      <td>5.9</td>\n",
       "      <td>1.2</td>\n",
       "      <td>1.2</td>\n",
       "      <td>3.4</td>\n",
       "      <td>2.8</td>\n",
       "      <td>28.1</td>\n",
       "      <td>MVP-4,DPOY-5,AS,NBA1</td>\n",
       "    </tr>\n",
       "  </tbody>\n",
       "</table>\n",
       "</div>"
      ],
      "text/plain": [
       "    Rk                 Player   Age Team Pos     G    GS    MP    FG   FGA  \\\n",
       "0  1.0          Stephen Curry  32.0  GSW  PG  63.0  63.0  34.2  10.4  21.7   \n",
       "1  2.0           Bradley Beal  27.0  WAS  SG  60.0  60.0  35.8  11.2  23.0   \n",
       "2  3.0         Damian Lillard  30.0  POR  PG  67.0  67.0  35.8   9.0  19.9   \n",
       "3  4.0            Joel Embiid  26.0  PHI   C  51.0  51.0  31.1   9.0  17.6   \n",
       "4  5.0  Giannis Antetokounmpo  26.0  MIL  PF  61.0  61.0  33.0  10.3  18.0   \n",
       "\n",
       "     FG%   3P   3PA    3P%   2P   2PA    2P%   eFG%   FT   FTA    FT%  ORB  \\\n",
       "0  0.482  5.3  12.7  0.421  5.1   9.0  0.569  0.605  5.7   6.3  0.916  0.5   \n",
       "1  0.485  2.2   6.2  0.349  9.0  16.8  0.535  0.532  6.8   7.7  0.889  1.2   \n",
       "2  0.451  4.1  10.5  0.391  4.9   9.4  0.519  0.554  6.7   7.2  0.928  0.5   \n",
       "3  0.513  1.1   3.0  0.377  7.9  14.6  0.541  0.545  9.2  10.7  0.859  2.2   \n",
       "4  0.569  1.1   3.6  0.303  9.2  14.4  0.636  0.600  6.5   9.5  0.685  1.6   \n",
       "\n",
       "   DRB   TRB  AST  STL  BLK  TOV   PF   PTS                Awards  \n",
       "0  5.0   5.5  5.8  1.2  0.1  3.4  1.9  32.0         MVP-3,AS,NBA1  \n",
       "1  3.5   4.7  4.4  1.2  0.4  3.1  2.3  31.3               AS,NBA3  \n",
       "2  3.7   4.2  7.5  0.9  0.3  3.0  1.5  28.8         MVP-7,AS,NBA2  \n",
       "3  8.4  10.6  2.8  1.0  1.4  3.1  2.4  28.5  MVP-2,DPOY-7,AS,NBA2  \n",
       "4  9.4  11.0  5.9  1.2  1.2  3.4  2.8  28.1  MVP-4,DPOY-5,AS,NBA1  "
      ]
     },
     "execution_count": 439,
     "metadata": {},
     "output_type": "execute_result"
    }
   ],
   "source": [
    "#Retrieve HTML table dataset\n",
    "url_2020 = 'https://www.basketball-reference.com/leagues/NBA_2021_per_game.html'\n",
    "html = pd.read_html(url_2020, header = 0)\n",
    "df_2020 = html[0]\n",
    "\n",
    "df_2020.head()"
   ]
  },
  {
   "cell_type": "markdown",
   "metadata": {},
   "source": [
    "### Data Cleaning"
   ]
  },
  {
   "cell_type": "code",
   "execution_count": 440,
   "metadata": {},
   "outputs": [
    {
     "data": {
      "text/plain": [
       "(706, 31)"
      ]
     },
     "execution_count": 440,
     "metadata": {},
     "output_type": "execute_result"
    }
   ],
   "source": [
    "# Dimensions of the dataframe\n",
    "df_2020.shape\n"
   ]
  },
  {
   "cell_type": "code",
   "execution_count": 441,
   "metadata": {},
   "outputs": [
    {
     "data": {
      "text/plain": [
       "Rk          1\n",
       "Player      0\n",
       "Age         1\n",
       "Team        1\n",
       "Pos         1\n",
       "G           1\n",
       "GS          1\n",
       "MP          1\n",
       "FG          1\n",
       "FGA         1\n",
       "FG%         2\n",
       "3P          1\n",
       "3PA         1\n",
       "3P%        35\n",
       "2P          1\n",
       "2PA         1\n",
       "2P%         6\n",
       "eFG%        2\n",
       "FT          1\n",
       "FTA         1\n",
       "FT%        29\n",
       "ORB         1\n",
       "DRB         1\n",
       "TRB         1\n",
       "AST         1\n",
       "STL         1\n",
       "BLK         1\n",
       "TOV         1\n",
       "PF          1\n",
       "PTS         1\n",
       "Awards    651\n",
       "dtype: int64"
      ]
     },
     "execution_count": 441,
     "metadata": {},
     "output_type": "execute_result"
    }
   ],
   "source": [
    "# Check for missing values\n",
    "df_2020.isnull().sum()"
   ]
  },
  {
   "cell_type": "code",
   "execution_count": 442,
   "metadata": {},
   "outputs": [
    {
     "data": {
      "text/plain": [
       "Rk        0\n",
       "Player    0\n",
       "Age       0\n",
       "Team      0\n",
       "Pos       0\n",
       "G         0\n",
       "GS        0\n",
       "MP        0\n",
       "FG        0\n",
       "FGA       0\n",
       "FG%       0\n",
       "3P        0\n",
       "3PA       0\n",
       "3P%       0\n",
       "2P        0\n",
       "2PA       0\n",
       "2P%       0\n",
       "eFG%      0\n",
       "FT        0\n",
       "FTA       0\n",
       "FT%       0\n",
       "ORB       0\n",
       "DRB       0\n",
       "TRB       0\n",
       "AST       0\n",
       "STL       0\n",
       "BLK       0\n",
       "TOV       0\n",
       "PF        0\n",
       "PTS       0\n",
       "Awards    0\n",
       "dtype: int64"
      ]
     },
     "execution_count": 442,
     "metadata": {},
     "output_type": "execute_result"
    }
   ],
   "source": [
    "# Fill missing values with 0\n",
    "df_2020 = df_2020.fillna(0)\n",
    "df_2020.isnull().sum()"
   ]
  },
  {
   "cell_type": "code",
   "execution_count": 443,
   "metadata": {},
   "outputs": [
    {
     "data": {
      "text/html": [
       "<div>\n",
       "<style scoped>\n",
       "    .dataframe tbody tr th:only-of-type {\n",
       "        vertical-align: middle;\n",
       "    }\n",
       "\n",
       "    .dataframe tbody tr th {\n",
       "        vertical-align: top;\n",
       "    }\n",
       "\n",
       "    .dataframe thead th {\n",
       "        text-align: right;\n",
       "    }\n",
       "</style>\n",
       "<table border=\"1\" class=\"dataframe\">\n",
       "  <thead>\n",
       "    <tr style=\"text-align: right;\">\n",
       "      <th></th>\n",
       "      <th>Player</th>\n",
       "      <th>Age</th>\n",
       "      <th>Team</th>\n",
       "      <th>Pos</th>\n",
       "      <th>G</th>\n",
       "      <th>FG</th>\n",
       "      <th>FGA</th>\n",
       "      <th>FG%</th>\n",
       "      <th>3P</th>\n",
       "      <th>3PA</th>\n",
       "      <th>3P%</th>\n",
       "      <th>2P%</th>\n",
       "      <th>FT%</th>\n",
       "      <th>ORB</th>\n",
       "      <th>DRB</th>\n",
       "      <th>TRB</th>\n",
       "      <th>AST</th>\n",
       "      <th>STL</th>\n",
       "      <th>BLK</th>\n",
       "      <th>TOV</th>\n",
       "      <th>PTS</th>\n",
       "      <th>Season</th>\n",
       "    </tr>\n",
       "  </thead>\n",
       "  <tbody>\n",
       "    <tr>\n",
       "      <th>0</th>\n",
       "      <td>Stephen Curry</td>\n",
       "      <td>32.0</td>\n",
       "      <td>GSW</td>\n",
       "      <td>PG</td>\n",
       "      <td>63.0</td>\n",
       "      <td>10.4</td>\n",
       "      <td>21.7</td>\n",
       "      <td>0.482</td>\n",
       "      <td>5.3</td>\n",
       "      <td>12.7</td>\n",
       "      <td>0.421</td>\n",
       "      <td>0.569</td>\n",
       "      <td>0.916</td>\n",
       "      <td>0.5</td>\n",
       "      <td>5.0</td>\n",
       "      <td>5.5</td>\n",
       "      <td>5.8</td>\n",
       "      <td>1.2</td>\n",
       "      <td>0.1</td>\n",
       "      <td>3.4</td>\n",
       "      <td>32.0</td>\n",
       "      <td>2020-21</td>\n",
       "    </tr>\n",
       "    <tr>\n",
       "      <th>1</th>\n",
       "      <td>Bradley Beal</td>\n",
       "      <td>27.0</td>\n",
       "      <td>WAS</td>\n",
       "      <td>SG</td>\n",
       "      <td>60.0</td>\n",
       "      <td>11.2</td>\n",
       "      <td>23.0</td>\n",
       "      <td>0.485</td>\n",
       "      <td>2.2</td>\n",
       "      <td>6.2</td>\n",
       "      <td>0.349</td>\n",
       "      <td>0.535</td>\n",
       "      <td>0.889</td>\n",
       "      <td>1.2</td>\n",
       "      <td>3.5</td>\n",
       "      <td>4.7</td>\n",
       "      <td>4.4</td>\n",
       "      <td>1.2</td>\n",
       "      <td>0.4</td>\n",
       "      <td>3.1</td>\n",
       "      <td>31.3</td>\n",
       "      <td>2020-21</td>\n",
       "    </tr>\n",
       "    <tr>\n",
       "      <th>2</th>\n",
       "      <td>Damian Lillard</td>\n",
       "      <td>30.0</td>\n",
       "      <td>POR</td>\n",
       "      <td>PG</td>\n",
       "      <td>67.0</td>\n",
       "      <td>9.0</td>\n",
       "      <td>19.9</td>\n",
       "      <td>0.451</td>\n",
       "      <td>4.1</td>\n",
       "      <td>10.5</td>\n",
       "      <td>0.391</td>\n",
       "      <td>0.519</td>\n",
       "      <td>0.928</td>\n",
       "      <td>0.5</td>\n",
       "      <td>3.7</td>\n",
       "      <td>4.2</td>\n",
       "      <td>7.5</td>\n",
       "      <td>0.9</td>\n",
       "      <td>0.3</td>\n",
       "      <td>3.0</td>\n",
       "      <td>28.8</td>\n",
       "      <td>2020-21</td>\n",
       "    </tr>\n",
       "    <tr>\n",
       "      <th>3</th>\n",
       "      <td>Joel Embiid</td>\n",
       "      <td>26.0</td>\n",
       "      <td>PHI</td>\n",
       "      <td>C</td>\n",
       "      <td>51.0</td>\n",
       "      <td>9.0</td>\n",
       "      <td>17.6</td>\n",
       "      <td>0.513</td>\n",
       "      <td>1.1</td>\n",
       "      <td>3.0</td>\n",
       "      <td>0.377</td>\n",
       "      <td>0.541</td>\n",
       "      <td>0.859</td>\n",
       "      <td>2.2</td>\n",
       "      <td>8.4</td>\n",
       "      <td>10.6</td>\n",
       "      <td>2.8</td>\n",
       "      <td>1.0</td>\n",
       "      <td>1.4</td>\n",
       "      <td>3.1</td>\n",
       "      <td>28.5</td>\n",
       "      <td>2020-21</td>\n",
       "    </tr>\n",
       "    <tr>\n",
       "      <th>4</th>\n",
       "      <td>Giannis Antetokounmpo</td>\n",
       "      <td>26.0</td>\n",
       "      <td>MIL</td>\n",
       "      <td>PF</td>\n",
       "      <td>61.0</td>\n",
       "      <td>10.3</td>\n",
       "      <td>18.0</td>\n",
       "      <td>0.569</td>\n",
       "      <td>1.1</td>\n",
       "      <td>3.6</td>\n",
       "      <td>0.303</td>\n",
       "      <td>0.636</td>\n",
       "      <td>0.685</td>\n",
       "      <td>1.6</td>\n",
       "      <td>9.4</td>\n",
       "      <td>11.0</td>\n",
       "      <td>5.9</td>\n",
       "      <td>1.2</td>\n",
       "      <td>1.2</td>\n",
       "      <td>3.4</td>\n",
       "      <td>28.1</td>\n",
       "      <td>2020-21</td>\n",
       "    </tr>\n",
       "  </tbody>\n",
       "</table>\n",
       "</div>"
      ],
      "text/plain": [
       "                  Player   Age Team Pos     G    FG   FGA    FG%   3P   3PA  \\\n",
       "0          Stephen Curry  32.0  GSW  PG  63.0  10.4  21.7  0.482  5.3  12.7   \n",
       "1           Bradley Beal  27.0  WAS  SG  60.0  11.2  23.0  0.485  2.2   6.2   \n",
       "2         Damian Lillard  30.0  POR  PG  67.0   9.0  19.9  0.451  4.1  10.5   \n",
       "3            Joel Embiid  26.0  PHI   C  51.0   9.0  17.6  0.513  1.1   3.0   \n",
       "4  Giannis Antetokounmpo  26.0  MIL  PF  61.0  10.3  18.0  0.569  1.1   3.6   \n",
       "\n",
       "     3P%    2P%    FT%  ORB  DRB   TRB  AST  STL  BLK  TOV   PTS   Season  \n",
       "0  0.421  0.569  0.916  0.5  5.0   5.5  5.8  1.2  0.1  3.4  32.0  2020-21  \n",
       "1  0.349  0.535  0.889  1.2  3.5   4.7  4.4  1.2  0.4  3.1  31.3  2020-21  \n",
       "2  0.391  0.519  0.928  0.5  3.7   4.2  7.5  0.9  0.3  3.0  28.8  2020-21  \n",
       "3  0.377  0.541  0.859  2.2  8.4  10.6  2.8  1.0  1.4  3.1  28.5  2020-21  \n",
       "4  0.303  0.636  0.685  1.6  9.4  11.0  5.9  1.2  1.2  3.4  28.1  2020-21  "
      ]
     },
     "execution_count": 443,
     "metadata": {},
     "output_type": "execute_result"
    }
   ],
   "source": [
    "# Drop columns that are not required\n",
    "df_2020 = df_2020.drop(columns= ['GS', 'MP', 'Rk', 'Awards', 'PF', '2P', '2PA', 'FT', 'FTA', 'eFG%'])\n",
    "# Remove duplicate headers\n",
    "df_2020 = df_2020[df_2020[\"Player\"] != \"Player\"]\n",
    "\n",
    "# Add Season column\n",
    "df_2020[\"Season\"] = \"2020-21\"\n",
    "\n",
    "df_2020.head()"
   ]
  },
  {
   "cell_type": "markdown",
   "metadata": {},
   "source": [
    "### Write to CSV File"
   ]
  },
  {
   "cell_type": "code",
   "execution_count": 444,
   "metadata": {},
   "outputs": [],
   "source": [
    "df_2020.to_csv('nba2020.csv', index = False)"
   ]
  },
  {
   "cell_type": "code",
   "execution_count": 445,
   "metadata": {},
   "outputs": [
    {
     "data": {
      "text/html": [
       "<div>\n",
       "<style scoped>\n",
       "    .dataframe tbody tr th:only-of-type {\n",
       "        vertical-align: middle;\n",
       "    }\n",
       "\n",
       "    .dataframe tbody tr th {\n",
       "        vertical-align: top;\n",
       "    }\n",
       "\n",
       "    .dataframe thead th {\n",
       "        text-align: right;\n",
       "    }\n",
       "</style>\n",
       "<table border=\"1\" class=\"dataframe\">\n",
       "  <thead>\n",
       "    <tr style=\"text-align: right;\">\n",
       "      <th></th>\n",
       "      <th>Player</th>\n",
       "      <th>Age</th>\n",
       "      <th>Team</th>\n",
       "      <th>Pos</th>\n",
       "      <th>G</th>\n",
       "      <th>FG</th>\n",
       "      <th>FGA</th>\n",
       "      <th>FG%</th>\n",
       "      <th>3P</th>\n",
       "      <th>3PA</th>\n",
       "      <th>3P%</th>\n",
       "      <th>2P%</th>\n",
       "      <th>FT%</th>\n",
       "      <th>ORB</th>\n",
       "      <th>DRB</th>\n",
       "      <th>TRB</th>\n",
       "      <th>AST</th>\n",
       "      <th>STL</th>\n",
       "      <th>BLK</th>\n",
       "      <th>TOV</th>\n",
       "      <th>PTS</th>\n",
       "      <th>Season</th>\n",
       "    </tr>\n",
       "  </thead>\n",
       "  <tbody>\n",
       "    <tr>\n",
       "      <th>0</th>\n",
       "      <td>Stephen Curry</td>\n",
       "      <td>32.0</td>\n",
       "      <td>GSW</td>\n",
       "      <td>PG</td>\n",
       "      <td>63.0</td>\n",
       "      <td>10.4</td>\n",
       "      <td>21.7</td>\n",
       "      <td>0.482</td>\n",
       "      <td>5.3</td>\n",
       "      <td>12.7</td>\n",
       "      <td>0.421</td>\n",
       "      <td>0.569</td>\n",
       "      <td>0.916</td>\n",
       "      <td>0.5</td>\n",
       "      <td>5.0</td>\n",
       "      <td>5.5</td>\n",
       "      <td>5.8</td>\n",
       "      <td>1.2</td>\n",
       "      <td>0.1</td>\n",
       "      <td>3.4</td>\n",
       "      <td>32.0</td>\n",
       "      <td>2020-21</td>\n",
       "    </tr>\n",
       "    <tr>\n",
       "      <th>1</th>\n",
       "      <td>Bradley Beal</td>\n",
       "      <td>27.0</td>\n",
       "      <td>WAS</td>\n",
       "      <td>SG</td>\n",
       "      <td>60.0</td>\n",
       "      <td>11.2</td>\n",
       "      <td>23.0</td>\n",
       "      <td>0.485</td>\n",
       "      <td>2.2</td>\n",
       "      <td>6.2</td>\n",
       "      <td>0.349</td>\n",
       "      <td>0.535</td>\n",
       "      <td>0.889</td>\n",
       "      <td>1.2</td>\n",
       "      <td>3.5</td>\n",
       "      <td>4.7</td>\n",
       "      <td>4.4</td>\n",
       "      <td>1.2</td>\n",
       "      <td>0.4</td>\n",
       "      <td>3.1</td>\n",
       "      <td>31.3</td>\n",
       "      <td>2020-21</td>\n",
       "    </tr>\n",
       "    <tr>\n",
       "      <th>2</th>\n",
       "      <td>Damian Lillard</td>\n",
       "      <td>30.0</td>\n",
       "      <td>POR</td>\n",
       "      <td>PG</td>\n",
       "      <td>67.0</td>\n",
       "      <td>9.0</td>\n",
       "      <td>19.9</td>\n",
       "      <td>0.451</td>\n",
       "      <td>4.1</td>\n",
       "      <td>10.5</td>\n",
       "      <td>0.391</td>\n",
       "      <td>0.519</td>\n",
       "      <td>0.928</td>\n",
       "      <td>0.5</td>\n",
       "      <td>3.7</td>\n",
       "      <td>4.2</td>\n",
       "      <td>7.5</td>\n",
       "      <td>0.9</td>\n",
       "      <td>0.3</td>\n",
       "      <td>3.0</td>\n",
       "      <td>28.8</td>\n",
       "      <td>2020-21</td>\n",
       "    </tr>\n",
       "    <tr>\n",
       "      <th>3</th>\n",
       "      <td>Joel Embiid</td>\n",
       "      <td>26.0</td>\n",
       "      <td>PHI</td>\n",
       "      <td>C</td>\n",
       "      <td>51.0</td>\n",
       "      <td>9.0</td>\n",
       "      <td>17.6</td>\n",
       "      <td>0.513</td>\n",
       "      <td>1.1</td>\n",
       "      <td>3.0</td>\n",
       "      <td>0.377</td>\n",
       "      <td>0.541</td>\n",
       "      <td>0.859</td>\n",
       "      <td>2.2</td>\n",
       "      <td>8.4</td>\n",
       "      <td>10.6</td>\n",
       "      <td>2.8</td>\n",
       "      <td>1.0</td>\n",
       "      <td>1.4</td>\n",
       "      <td>3.1</td>\n",
       "      <td>28.5</td>\n",
       "      <td>2020-21</td>\n",
       "    </tr>\n",
       "    <tr>\n",
       "      <th>4</th>\n",
       "      <td>Giannis Antetokounmpo</td>\n",
       "      <td>26.0</td>\n",
       "      <td>MIL</td>\n",
       "      <td>PF</td>\n",
       "      <td>61.0</td>\n",
       "      <td>10.3</td>\n",
       "      <td>18.0</td>\n",
       "      <td>0.569</td>\n",
       "      <td>1.1</td>\n",
       "      <td>3.6</td>\n",
       "      <td>0.303</td>\n",
       "      <td>0.636</td>\n",
       "      <td>0.685</td>\n",
       "      <td>1.6</td>\n",
       "      <td>9.4</td>\n",
       "      <td>11.0</td>\n",
       "      <td>5.9</td>\n",
       "      <td>1.2</td>\n",
       "      <td>1.2</td>\n",
       "      <td>3.4</td>\n",
       "      <td>28.1</td>\n",
       "      <td>2020-21</td>\n",
       "    </tr>\n",
       "  </tbody>\n",
       "</table>\n",
       "</div>"
      ],
      "text/plain": [
       "                  Player   Age Team Pos     G    FG   FGA    FG%   3P   3PA  \\\n",
       "0          Stephen Curry  32.0  GSW  PG  63.0  10.4  21.7  0.482  5.3  12.7   \n",
       "1           Bradley Beal  27.0  WAS  SG  60.0  11.2  23.0  0.485  2.2   6.2   \n",
       "2         Damian Lillard  30.0  POR  PG  67.0   9.0  19.9  0.451  4.1  10.5   \n",
       "3            Joel Embiid  26.0  PHI   C  51.0   9.0  17.6  0.513  1.1   3.0   \n",
       "4  Giannis Antetokounmpo  26.0  MIL  PF  61.0  10.3  18.0  0.569  1.1   3.6   \n",
       "\n",
       "     3P%    2P%    FT%  ORB  DRB   TRB  AST  STL  BLK  TOV   PTS   Season  \n",
       "0  0.421  0.569  0.916  0.5  5.0   5.5  5.8  1.2  0.1  3.4  32.0  2020-21  \n",
       "1  0.349  0.535  0.889  1.2  3.5   4.7  4.4  1.2  0.4  3.1  31.3  2020-21  \n",
       "2  0.391  0.519  0.928  0.5  3.7   4.2  7.5  0.9  0.3  3.0  28.8  2020-21  \n",
       "3  0.377  0.541  0.859  2.2  8.4  10.6  2.8  1.0  1.4  3.1  28.5  2020-21  \n",
       "4  0.303  0.636  0.685  1.6  9.4  11.0  5.9  1.2  1.2  3.4  28.1  2020-21  "
      ]
     },
     "execution_count": 445,
     "metadata": {},
     "output_type": "execute_result"
    }
   ],
   "source": [
    "df_2020 = pd.read_csv('nba2020.csv')\n",
    "#Display all columns\n",
    "pd.set_option('display.max_columns', None)\n",
    "df_2020.head()"
   ]
  },
  {
   "cell_type": "markdown",
   "metadata": {},
   "source": [
    "## 2021-2022"
   ]
  },
  {
   "cell_type": "code",
   "execution_count": 446,
   "metadata": {},
   "outputs": [
    {
     "data": {
      "text/html": [
       "<div>\n",
       "<style scoped>\n",
       "    .dataframe tbody tr th:only-of-type {\n",
       "        vertical-align: middle;\n",
       "    }\n",
       "\n",
       "    .dataframe tbody tr th {\n",
       "        vertical-align: top;\n",
       "    }\n",
       "\n",
       "    .dataframe thead th {\n",
       "        text-align: right;\n",
       "    }\n",
       "</style>\n",
       "<table border=\"1\" class=\"dataframe\">\n",
       "  <thead>\n",
       "    <tr style=\"text-align: right;\">\n",
       "      <th></th>\n",
       "      <th>Rk</th>\n",
       "      <th>Player</th>\n",
       "      <th>Age</th>\n",
       "      <th>Team</th>\n",
       "      <th>Pos</th>\n",
       "      <th>G</th>\n",
       "      <th>GS</th>\n",
       "      <th>MP</th>\n",
       "      <th>FG</th>\n",
       "      <th>FGA</th>\n",
       "      <th>FG%</th>\n",
       "      <th>3P</th>\n",
       "      <th>3PA</th>\n",
       "      <th>3P%</th>\n",
       "      <th>2P</th>\n",
       "      <th>2PA</th>\n",
       "      <th>2P%</th>\n",
       "      <th>eFG%</th>\n",
       "      <th>FT</th>\n",
       "      <th>FTA</th>\n",
       "      <th>FT%</th>\n",
       "      <th>ORB</th>\n",
       "      <th>DRB</th>\n",
       "      <th>TRB</th>\n",
       "      <th>AST</th>\n",
       "      <th>STL</th>\n",
       "      <th>BLK</th>\n",
       "      <th>TOV</th>\n",
       "      <th>PF</th>\n",
       "      <th>PTS</th>\n",
       "      <th>Awards</th>\n",
       "    </tr>\n",
       "  </thead>\n",
       "  <tbody>\n",
       "    <tr>\n",
       "      <th>0</th>\n",
       "      <td>1.0</td>\n",
       "      <td>Joel Embiid</td>\n",
       "      <td>27.0</td>\n",
       "      <td>PHI</td>\n",
       "      <td>C</td>\n",
       "      <td>68.0</td>\n",
       "      <td>68.0</td>\n",
       "      <td>33.8</td>\n",
       "      <td>9.8</td>\n",
       "      <td>19.6</td>\n",
       "      <td>0.499</td>\n",
       "      <td>1.4</td>\n",
       "      <td>3.7</td>\n",
       "      <td>0.371</td>\n",
       "      <td>8.4</td>\n",
       "      <td>15.9</td>\n",
       "      <td>0.529</td>\n",
       "      <td>0.534</td>\n",
       "      <td>9.6</td>\n",
       "      <td>11.8</td>\n",
       "      <td>0.814</td>\n",
       "      <td>2.1</td>\n",
       "      <td>9.6</td>\n",
       "      <td>11.7</td>\n",
       "      <td>4.2</td>\n",
       "      <td>1.1</td>\n",
       "      <td>1.5</td>\n",
       "      <td>3.1</td>\n",
       "      <td>2.7</td>\n",
       "      <td>30.6</td>\n",
       "      <td>MVP-2,AS,NBA2</td>\n",
       "    </tr>\n",
       "    <tr>\n",
       "      <th>1</th>\n",
       "      <td>2.0</td>\n",
       "      <td>LeBron James</td>\n",
       "      <td>37.0</td>\n",
       "      <td>LAL</td>\n",
       "      <td>C</td>\n",
       "      <td>56.0</td>\n",
       "      <td>56.0</td>\n",
       "      <td>37.2</td>\n",
       "      <td>11.4</td>\n",
       "      <td>21.8</td>\n",
       "      <td>0.524</td>\n",
       "      <td>2.9</td>\n",
       "      <td>8.0</td>\n",
       "      <td>0.359</td>\n",
       "      <td>8.6</td>\n",
       "      <td>13.8</td>\n",
       "      <td>0.620</td>\n",
       "      <td>0.590</td>\n",
       "      <td>4.5</td>\n",
       "      <td>6.0</td>\n",
       "      <td>0.756</td>\n",
       "      <td>1.1</td>\n",
       "      <td>7.1</td>\n",
       "      <td>8.2</td>\n",
       "      <td>6.2</td>\n",
       "      <td>1.3</td>\n",
       "      <td>1.1</td>\n",
       "      <td>3.5</td>\n",
       "      <td>2.2</td>\n",
       "      <td>30.3</td>\n",
       "      <td>MVP-10,AS,NBA3</td>\n",
       "    </tr>\n",
       "    <tr>\n",
       "      <th>2</th>\n",
       "      <td>3.0</td>\n",
       "      <td>Giannis Antetokounmpo</td>\n",
       "      <td>27.0</td>\n",
       "      <td>MIL</td>\n",
       "      <td>PF</td>\n",
       "      <td>67.0</td>\n",
       "      <td>67.0</td>\n",
       "      <td>32.9</td>\n",
       "      <td>10.3</td>\n",
       "      <td>18.6</td>\n",
       "      <td>0.553</td>\n",
       "      <td>1.1</td>\n",
       "      <td>3.6</td>\n",
       "      <td>0.293</td>\n",
       "      <td>9.2</td>\n",
       "      <td>15.0</td>\n",
       "      <td>0.616</td>\n",
       "      <td>0.582</td>\n",
       "      <td>8.3</td>\n",
       "      <td>11.4</td>\n",
       "      <td>0.722</td>\n",
       "      <td>2.0</td>\n",
       "      <td>9.6</td>\n",
       "      <td>11.6</td>\n",
       "      <td>5.8</td>\n",
       "      <td>1.1</td>\n",
       "      <td>1.4</td>\n",
       "      <td>3.3</td>\n",
       "      <td>3.2</td>\n",
       "      <td>29.9</td>\n",
       "      <td>MVP-3,DPOY-6,AS,NBA1</td>\n",
       "    </tr>\n",
       "    <tr>\n",
       "      <th>3</th>\n",
       "      <td>4.0</td>\n",
       "      <td>Kevin Durant</td>\n",
       "      <td>33.0</td>\n",
       "      <td>BRK</td>\n",
       "      <td>PF</td>\n",
       "      <td>55.0</td>\n",
       "      <td>55.0</td>\n",
       "      <td>37.2</td>\n",
       "      <td>10.5</td>\n",
       "      <td>20.3</td>\n",
       "      <td>0.518</td>\n",
       "      <td>2.1</td>\n",
       "      <td>5.5</td>\n",
       "      <td>0.383</td>\n",
       "      <td>8.4</td>\n",
       "      <td>14.8</td>\n",
       "      <td>0.568</td>\n",
       "      <td>0.570</td>\n",
       "      <td>6.8</td>\n",
       "      <td>7.4</td>\n",
       "      <td>0.910</td>\n",
       "      <td>0.5</td>\n",
       "      <td>6.9</td>\n",
       "      <td>7.4</td>\n",
       "      <td>6.4</td>\n",
       "      <td>0.9</td>\n",
       "      <td>0.9</td>\n",
       "      <td>3.5</td>\n",
       "      <td>2.1</td>\n",
       "      <td>29.9</td>\n",
       "      <td>MVP-10,AS,NBA2</td>\n",
       "    </tr>\n",
       "    <tr>\n",
       "      <th>4</th>\n",
       "      <td>5.0</td>\n",
       "      <td>Luka Dončić</td>\n",
       "      <td>22.0</td>\n",
       "      <td>DAL</td>\n",
       "      <td>PG</td>\n",
       "      <td>65.0</td>\n",
       "      <td>65.0</td>\n",
       "      <td>35.4</td>\n",
       "      <td>9.9</td>\n",
       "      <td>21.6</td>\n",
       "      <td>0.457</td>\n",
       "      <td>3.1</td>\n",
       "      <td>8.8</td>\n",
       "      <td>0.353</td>\n",
       "      <td>6.8</td>\n",
       "      <td>12.8</td>\n",
       "      <td>0.528</td>\n",
       "      <td>0.529</td>\n",
       "      <td>5.6</td>\n",
       "      <td>7.5</td>\n",
       "      <td>0.744</td>\n",
       "      <td>0.9</td>\n",
       "      <td>8.3</td>\n",
       "      <td>9.1</td>\n",
       "      <td>8.7</td>\n",
       "      <td>1.2</td>\n",
       "      <td>0.6</td>\n",
       "      <td>4.5</td>\n",
       "      <td>2.2</td>\n",
       "      <td>28.4</td>\n",
       "      <td>MVP-5,AS,NBA1</td>\n",
       "    </tr>\n",
       "  </tbody>\n",
       "</table>\n",
       "</div>"
      ],
      "text/plain": [
       "    Rk                 Player   Age Team Pos     G    GS    MP    FG   FGA  \\\n",
       "0  1.0            Joel Embiid  27.0  PHI   C  68.0  68.0  33.8   9.8  19.6   \n",
       "1  2.0           LeBron James  37.0  LAL   C  56.0  56.0  37.2  11.4  21.8   \n",
       "2  3.0  Giannis Antetokounmpo  27.0  MIL  PF  67.0  67.0  32.9  10.3  18.6   \n",
       "3  4.0           Kevin Durant  33.0  BRK  PF  55.0  55.0  37.2  10.5  20.3   \n",
       "4  5.0            Luka Dončić  22.0  DAL  PG  65.0  65.0  35.4   9.9  21.6   \n",
       "\n",
       "     FG%   3P  3PA    3P%   2P   2PA    2P%   eFG%   FT   FTA    FT%  ORB  \\\n",
       "0  0.499  1.4  3.7  0.371  8.4  15.9  0.529  0.534  9.6  11.8  0.814  2.1   \n",
       "1  0.524  2.9  8.0  0.359  8.6  13.8  0.620  0.590  4.5   6.0  0.756  1.1   \n",
       "2  0.553  1.1  3.6  0.293  9.2  15.0  0.616  0.582  8.3  11.4  0.722  2.0   \n",
       "3  0.518  2.1  5.5  0.383  8.4  14.8  0.568  0.570  6.8   7.4  0.910  0.5   \n",
       "4  0.457  3.1  8.8  0.353  6.8  12.8  0.528  0.529  5.6   7.5  0.744  0.9   \n",
       "\n",
       "   DRB   TRB  AST  STL  BLK  TOV   PF   PTS                Awards  \n",
       "0  9.6  11.7  4.2  1.1  1.5  3.1  2.7  30.6         MVP-2,AS,NBA2  \n",
       "1  7.1   8.2  6.2  1.3  1.1  3.5  2.2  30.3        MVP-10,AS,NBA3  \n",
       "2  9.6  11.6  5.8  1.1  1.4  3.3  3.2  29.9  MVP-3,DPOY-6,AS,NBA1  \n",
       "3  6.9   7.4  6.4  0.9  0.9  3.5  2.1  29.9        MVP-10,AS,NBA2  \n",
       "4  8.3   9.1  8.7  1.2  0.6  4.5  2.2  28.4         MVP-5,AS,NBA1  "
      ]
     },
     "execution_count": 446,
     "metadata": {},
     "output_type": "execute_result"
    }
   ],
   "source": [
    "#Retrieve HTML table dataset\n",
    "url_2021 = 'https://www.basketball-reference.com/leagues/NBA_2022_per_game.html'\n",
    "html = pd.read_html(url_2021, header = 0)\n",
    "df_2021 = html[0]\n",
    "\n",
    "df_2021.head()"
   ]
  },
  {
   "cell_type": "markdown",
   "metadata": {},
   "source": [
    "### Data Cleaning"
   ]
  },
  {
   "cell_type": "code",
   "execution_count": 447,
   "metadata": {},
   "outputs": [
    {
     "data": {
      "text/plain": [
       "Rk          1\n",
       "Player      0\n",
       "Age         1\n",
       "Team        1\n",
       "Pos         1\n",
       "G           1\n",
       "GS          1\n",
       "MP          1\n",
       "FG          1\n",
       "FGA         1\n",
       "FG%        15\n",
       "3P          1\n",
       "3PA         1\n",
       "3P%        72\n",
       "2P          1\n",
       "2PA         1\n",
       "2P%        28\n",
       "eFG%       15\n",
       "FT          1\n",
       "FTA         1\n",
       "FT%        97\n",
       "ORB         1\n",
       "DRB         1\n",
       "TRB         1\n",
       "AST         1\n",
       "STL         1\n",
       "BLK         1\n",
       "TOV         1\n",
       "PF          1\n",
       "PTS         1\n",
       "Awards    758\n",
       "dtype: int64"
      ]
     },
     "execution_count": 447,
     "metadata": {},
     "output_type": "execute_result"
    }
   ],
   "source": [
    "# Check for missing values\n",
    "df_2021.isnull().sum()"
   ]
  },
  {
   "cell_type": "code",
   "execution_count": 448,
   "metadata": {},
   "outputs": [
    {
     "data": {
      "text/plain": [
       "Rk        0\n",
       "Player    0\n",
       "Age       0\n",
       "Team      0\n",
       "Pos       0\n",
       "G         0\n",
       "GS        0\n",
       "MP        0\n",
       "FG        0\n",
       "FGA       0\n",
       "FG%       0\n",
       "3P        0\n",
       "3PA       0\n",
       "3P%       0\n",
       "2P        0\n",
       "2PA       0\n",
       "2P%       0\n",
       "eFG%      0\n",
       "FT        0\n",
       "FTA       0\n",
       "FT%       0\n",
       "ORB       0\n",
       "DRB       0\n",
       "TRB       0\n",
       "AST       0\n",
       "STL       0\n",
       "BLK       0\n",
       "TOV       0\n",
       "PF        0\n",
       "PTS       0\n",
       "Awards    0\n",
       "dtype: int64"
      ]
     },
     "execution_count": 448,
     "metadata": {},
     "output_type": "execute_result"
    }
   ],
   "source": [
    "# Fill missing values with 0\n",
    "df_2021 = df_2021.fillna(0)\n",
    "df_2021.isnull().sum()"
   ]
  },
  {
   "cell_type": "code",
   "execution_count": 449,
   "metadata": {},
   "outputs": [
    {
     "data": {
      "text/html": [
       "<div>\n",
       "<style scoped>\n",
       "    .dataframe tbody tr th:only-of-type {\n",
       "        vertical-align: middle;\n",
       "    }\n",
       "\n",
       "    .dataframe tbody tr th {\n",
       "        vertical-align: top;\n",
       "    }\n",
       "\n",
       "    .dataframe thead th {\n",
       "        text-align: right;\n",
       "    }\n",
       "</style>\n",
       "<table border=\"1\" class=\"dataframe\">\n",
       "  <thead>\n",
       "    <tr style=\"text-align: right;\">\n",
       "      <th></th>\n",
       "      <th>Player</th>\n",
       "      <th>Age</th>\n",
       "      <th>Team</th>\n",
       "      <th>Pos</th>\n",
       "      <th>G</th>\n",
       "      <th>FG</th>\n",
       "      <th>FGA</th>\n",
       "      <th>FG%</th>\n",
       "      <th>3P</th>\n",
       "      <th>3PA</th>\n",
       "      <th>3P%</th>\n",
       "      <th>2P%</th>\n",
       "      <th>FT%</th>\n",
       "      <th>ORB</th>\n",
       "      <th>DRB</th>\n",
       "      <th>TRB</th>\n",
       "      <th>AST</th>\n",
       "      <th>STL</th>\n",
       "      <th>BLK</th>\n",
       "      <th>TOV</th>\n",
       "      <th>PTS</th>\n",
       "      <th>Season</th>\n",
       "    </tr>\n",
       "  </thead>\n",
       "  <tbody>\n",
       "    <tr>\n",
       "      <th>0</th>\n",
       "      <td>Joel Embiid</td>\n",
       "      <td>27.0</td>\n",
       "      <td>PHI</td>\n",
       "      <td>C</td>\n",
       "      <td>68.0</td>\n",
       "      <td>9.8</td>\n",
       "      <td>19.6</td>\n",
       "      <td>0.499</td>\n",
       "      <td>1.4</td>\n",
       "      <td>3.7</td>\n",
       "      <td>0.371</td>\n",
       "      <td>0.529</td>\n",
       "      <td>0.814</td>\n",
       "      <td>2.1</td>\n",
       "      <td>9.6</td>\n",
       "      <td>11.7</td>\n",
       "      <td>4.2</td>\n",
       "      <td>1.1</td>\n",
       "      <td>1.5</td>\n",
       "      <td>3.1</td>\n",
       "      <td>30.6</td>\n",
       "      <td>2021-22</td>\n",
       "    </tr>\n",
       "    <tr>\n",
       "      <th>1</th>\n",
       "      <td>LeBron James</td>\n",
       "      <td>37.0</td>\n",
       "      <td>LAL</td>\n",
       "      <td>C</td>\n",
       "      <td>56.0</td>\n",
       "      <td>11.4</td>\n",
       "      <td>21.8</td>\n",
       "      <td>0.524</td>\n",
       "      <td>2.9</td>\n",
       "      <td>8.0</td>\n",
       "      <td>0.359</td>\n",
       "      <td>0.620</td>\n",
       "      <td>0.756</td>\n",
       "      <td>1.1</td>\n",
       "      <td>7.1</td>\n",
       "      <td>8.2</td>\n",
       "      <td>6.2</td>\n",
       "      <td>1.3</td>\n",
       "      <td>1.1</td>\n",
       "      <td>3.5</td>\n",
       "      <td>30.3</td>\n",
       "      <td>2021-22</td>\n",
       "    </tr>\n",
       "    <tr>\n",
       "      <th>2</th>\n",
       "      <td>Giannis Antetokounmpo</td>\n",
       "      <td>27.0</td>\n",
       "      <td>MIL</td>\n",
       "      <td>PF</td>\n",
       "      <td>67.0</td>\n",
       "      <td>10.3</td>\n",
       "      <td>18.6</td>\n",
       "      <td>0.553</td>\n",
       "      <td>1.1</td>\n",
       "      <td>3.6</td>\n",
       "      <td>0.293</td>\n",
       "      <td>0.616</td>\n",
       "      <td>0.722</td>\n",
       "      <td>2.0</td>\n",
       "      <td>9.6</td>\n",
       "      <td>11.6</td>\n",
       "      <td>5.8</td>\n",
       "      <td>1.1</td>\n",
       "      <td>1.4</td>\n",
       "      <td>3.3</td>\n",
       "      <td>29.9</td>\n",
       "      <td>2021-22</td>\n",
       "    </tr>\n",
       "    <tr>\n",
       "      <th>3</th>\n",
       "      <td>Kevin Durant</td>\n",
       "      <td>33.0</td>\n",
       "      <td>BRK</td>\n",
       "      <td>PF</td>\n",
       "      <td>55.0</td>\n",
       "      <td>10.5</td>\n",
       "      <td>20.3</td>\n",
       "      <td>0.518</td>\n",
       "      <td>2.1</td>\n",
       "      <td>5.5</td>\n",
       "      <td>0.383</td>\n",
       "      <td>0.568</td>\n",
       "      <td>0.910</td>\n",
       "      <td>0.5</td>\n",
       "      <td>6.9</td>\n",
       "      <td>7.4</td>\n",
       "      <td>6.4</td>\n",
       "      <td>0.9</td>\n",
       "      <td>0.9</td>\n",
       "      <td>3.5</td>\n",
       "      <td>29.9</td>\n",
       "      <td>2021-22</td>\n",
       "    </tr>\n",
       "    <tr>\n",
       "      <th>4</th>\n",
       "      <td>Luka Dončić</td>\n",
       "      <td>22.0</td>\n",
       "      <td>DAL</td>\n",
       "      <td>PG</td>\n",
       "      <td>65.0</td>\n",
       "      <td>9.9</td>\n",
       "      <td>21.6</td>\n",
       "      <td>0.457</td>\n",
       "      <td>3.1</td>\n",
       "      <td>8.8</td>\n",
       "      <td>0.353</td>\n",
       "      <td>0.528</td>\n",
       "      <td>0.744</td>\n",
       "      <td>0.9</td>\n",
       "      <td>8.3</td>\n",
       "      <td>9.1</td>\n",
       "      <td>8.7</td>\n",
       "      <td>1.2</td>\n",
       "      <td>0.6</td>\n",
       "      <td>4.5</td>\n",
       "      <td>28.4</td>\n",
       "      <td>2021-22</td>\n",
       "    </tr>\n",
       "  </tbody>\n",
       "</table>\n",
       "</div>"
      ],
      "text/plain": [
       "                  Player   Age Team Pos     G    FG   FGA    FG%   3P  3PA  \\\n",
       "0            Joel Embiid  27.0  PHI   C  68.0   9.8  19.6  0.499  1.4  3.7   \n",
       "1           LeBron James  37.0  LAL   C  56.0  11.4  21.8  0.524  2.9  8.0   \n",
       "2  Giannis Antetokounmpo  27.0  MIL  PF  67.0  10.3  18.6  0.553  1.1  3.6   \n",
       "3           Kevin Durant  33.0  BRK  PF  55.0  10.5  20.3  0.518  2.1  5.5   \n",
       "4            Luka Dončić  22.0  DAL  PG  65.0   9.9  21.6  0.457  3.1  8.8   \n",
       "\n",
       "     3P%    2P%    FT%  ORB  DRB   TRB  AST  STL  BLK  TOV   PTS   Season  \n",
       "0  0.371  0.529  0.814  2.1  9.6  11.7  4.2  1.1  1.5  3.1  30.6  2021-22  \n",
       "1  0.359  0.620  0.756  1.1  7.1   8.2  6.2  1.3  1.1  3.5  30.3  2021-22  \n",
       "2  0.293  0.616  0.722  2.0  9.6  11.6  5.8  1.1  1.4  3.3  29.9  2021-22  \n",
       "3  0.383  0.568  0.910  0.5  6.9   7.4  6.4  0.9  0.9  3.5  29.9  2021-22  \n",
       "4  0.353  0.528  0.744  0.9  8.3   9.1  8.7  1.2  0.6  4.5  28.4  2021-22  "
      ]
     },
     "execution_count": 449,
     "metadata": {},
     "output_type": "execute_result"
    }
   ],
   "source": [
    "# Drop columns that are not required\n",
    "df_2021 = df_2021.drop(columns= ['GS', 'MP', 'Rk', 'Awards', 'PF', '2P', '2PA', 'FT', 'FTA', 'eFG%'])\n",
    "# Remove duplicate headers\n",
    "df_2021 = df_2021[df_2021[\"Player\"] != \"Player\"]\n",
    "\n",
    "# Add Season column\n",
    "df_2021[\"Season\"] = \"2021-22\"\n",
    "\n",
    "df_2021.head()"
   ]
  },
  {
   "cell_type": "markdown",
   "metadata": {},
   "source": [
    "### Write to CSV File"
   ]
  },
  {
   "cell_type": "code",
   "execution_count": 450,
   "metadata": {},
   "outputs": [],
   "source": [
    "df_2021.to_csv('nba2021.csv', index = False)"
   ]
  },
  {
   "cell_type": "code",
   "execution_count": 451,
   "metadata": {},
   "outputs": [
    {
     "data": {
      "text/html": [
       "<div>\n",
       "<style scoped>\n",
       "    .dataframe tbody tr th:only-of-type {\n",
       "        vertical-align: middle;\n",
       "    }\n",
       "\n",
       "    .dataframe tbody tr th {\n",
       "        vertical-align: top;\n",
       "    }\n",
       "\n",
       "    .dataframe thead th {\n",
       "        text-align: right;\n",
       "    }\n",
       "</style>\n",
       "<table border=\"1\" class=\"dataframe\">\n",
       "  <thead>\n",
       "    <tr style=\"text-align: right;\">\n",
       "      <th></th>\n",
       "      <th>Player</th>\n",
       "      <th>Age</th>\n",
       "      <th>Team</th>\n",
       "      <th>Pos</th>\n",
       "      <th>G</th>\n",
       "      <th>FG</th>\n",
       "      <th>FGA</th>\n",
       "      <th>FG%</th>\n",
       "      <th>3P</th>\n",
       "      <th>3PA</th>\n",
       "      <th>3P%</th>\n",
       "      <th>2P%</th>\n",
       "      <th>FT%</th>\n",
       "      <th>ORB</th>\n",
       "      <th>DRB</th>\n",
       "      <th>TRB</th>\n",
       "      <th>AST</th>\n",
       "      <th>STL</th>\n",
       "      <th>BLK</th>\n",
       "      <th>TOV</th>\n",
       "      <th>PTS</th>\n",
       "      <th>Season</th>\n",
       "    </tr>\n",
       "  </thead>\n",
       "  <tbody>\n",
       "    <tr>\n",
       "      <th>0</th>\n",
       "      <td>Joel Embiid</td>\n",
       "      <td>27.0</td>\n",
       "      <td>PHI</td>\n",
       "      <td>C</td>\n",
       "      <td>68.0</td>\n",
       "      <td>9.8</td>\n",
       "      <td>19.6</td>\n",
       "      <td>0.499</td>\n",
       "      <td>1.4</td>\n",
       "      <td>3.7</td>\n",
       "      <td>0.371</td>\n",
       "      <td>0.529</td>\n",
       "      <td>0.814</td>\n",
       "      <td>2.1</td>\n",
       "      <td>9.6</td>\n",
       "      <td>11.7</td>\n",
       "      <td>4.2</td>\n",
       "      <td>1.1</td>\n",
       "      <td>1.5</td>\n",
       "      <td>3.1</td>\n",
       "      <td>30.6</td>\n",
       "      <td>2021-22</td>\n",
       "    </tr>\n",
       "    <tr>\n",
       "      <th>1</th>\n",
       "      <td>LeBron James</td>\n",
       "      <td>37.0</td>\n",
       "      <td>LAL</td>\n",
       "      <td>C</td>\n",
       "      <td>56.0</td>\n",
       "      <td>11.4</td>\n",
       "      <td>21.8</td>\n",
       "      <td>0.524</td>\n",
       "      <td>2.9</td>\n",
       "      <td>8.0</td>\n",
       "      <td>0.359</td>\n",
       "      <td>0.620</td>\n",
       "      <td>0.756</td>\n",
       "      <td>1.1</td>\n",
       "      <td>7.1</td>\n",
       "      <td>8.2</td>\n",
       "      <td>6.2</td>\n",
       "      <td>1.3</td>\n",
       "      <td>1.1</td>\n",
       "      <td>3.5</td>\n",
       "      <td>30.3</td>\n",
       "      <td>2021-22</td>\n",
       "    </tr>\n",
       "    <tr>\n",
       "      <th>2</th>\n",
       "      <td>Giannis Antetokounmpo</td>\n",
       "      <td>27.0</td>\n",
       "      <td>MIL</td>\n",
       "      <td>PF</td>\n",
       "      <td>67.0</td>\n",
       "      <td>10.3</td>\n",
       "      <td>18.6</td>\n",
       "      <td>0.553</td>\n",
       "      <td>1.1</td>\n",
       "      <td>3.6</td>\n",
       "      <td>0.293</td>\n",
       "      <td>0.616</td>\n",
       "      <td>0.722</td>\n",
       "      <td>2.0</td>\n",
       "      <td>9.6</td>\n",
       "      <td>11.6</td>\n",
       "      <td>5.8</td>\n",
       "      <td>1.1</td>\n",
       "      <td>1.4</td>\n",
       "      <td>3.3</td>\n",
       "      <td>29.9</td>\n",
       "      <td>2021-22</td>\n",
       "    </tr>\n",
       "    <tr>\n",
       "      <th>3</th>\n",
       "      <td>Kevin Durant</td>\n",
       "      <td>33.0</td>\n",
       "      <td>BRK</td>\n",
       "      <td>PF</td>\n",
       "      <td>55.0</td>\n",
       "      <td>10.5</td>\n",
       "      <td>20.3</td>\n",
       "      <td>0.518</td>\n",
       "      <td>2.1</td>\n",
       "      <td>5.5</td>\n",
       "      <td>0.383</td>\n",
       "      <td>0.568</td>\n",
       "      <td>0.910</td>\n",
       "      <td>0.5</td>\n",
       "      <td>6.9</td>\n",
       "      <td>7.4</td>\n",
       "      <td>6.4</td>\n",
       "      <td>0.9</td>\n",
       "      <td>0.9</td>\n",
       "      <td>3.5</td>\n",
       "      <td>29.9</td>\n",
       "      <td>2021-22</td>\n",
       "    </tr>\n",
       "    <tr>\n",
       "      <th>4</th>\n",
       "      <td>Luka Dončić</td>\n",
       "      <td>22.0</td>\n",
       "      <td>DAL</td>\n",
       "      <td>PG</td>\n",
       "      <td>65.0</td>\n",
       "      <td>9.9</td>\n",
       "      <td>21.6</td>\n",
       "      <td>0.457</td>\n",
       "      <td>3.1</td>\n",
       "      <td>8.8</td>\n",
       "      <td>0.353</td>\n",
       "      <td>0.528</td>\n",
       "      <td>0.744</td>\n",
       "      <td>0.9</td>\n",
       "      <td>8.3</td>\n",
       "      <td>9.1</td>\n",
       "      <td>8.7</td>\n",
       "      <td>1.2</td>\n",
       "      <td>0.6</td>\n",
       "      <td>4.5</td>\n",
       "      <td>28.4</td>\n",
       "      <td>2021-22</td>\n",
       "    </tr>\n",
       "  </tbody>\n",
       "</table>\n",
       "</div>"
      ],
      "text/plain": [
       "                  Player   Age Team Pos     G    FG   FGA    FG%   3P  3PA  \\\n",
       "0            Joel Embiid  27.0  PHI   C  68.0   9.8  19.6  0.499  1.4  3.7   \n",
       "1           LeBron James  37.0  LAL   C  56.0  11.4  21.8  0.524  2.9  8.0   \n",
       "2  Giannis Antetokounmpo  27.0  MIL  PF  67.0  10.3  18.6  0.553  1.1  3.6   \n",
       "3           Kevin Durant  33.0  BRK  PF  55.0  10.5  20.3  0.518  2.1  5.5   \n",
       "4            Luka Dončić  22.0  DAL  PG  65.0   9.9  21.6  0.457  3.1  8.8   \n",
       "\n",
       "     3P%    2P%    FT%  ORB  DRB   TRB  AST  STL  BLK  TOV   PTS   Season  \n",
       "0  0.371  0.529  0.814  2.1  9.6  11.7  4.2  1.1  1.5  3.1  30.6  2021-22  \n",
       "1  0.359  0.620  0.756  1.1  7.1   8.2  6.2  1.3  1.1  3.5  30.3  2021-22  \n",
       "2  0.293  0.616  0.722  2.0  9.6  11.6  5.8  1.1  1.4  3.3  29.9  2021-22  \n",
       "3  0.383  0.568  0.910  0.5  6.9   7.4  6.4  0.9  0.9  3.5  29.9  2021-22  \n",
       "4  0.353  0.528  0.744  0.9  8.3   9.1  8.7  1.2  0.6  4.5  28.4  2021-22  "
      ]
     },
     "execution_count": 451,
     "metadata": {},
     "output_type": "execute_result"
    }
   ],
   "source": [
    "df_2021 = pd.read_csv('nba2021.csv')\n",
    "#Display all columns\n",
    "pd.set_option('display.max_columns', None)\n",
    "df_2021.head()"
   ]
  },
  {
   "cell_type": "markdown",
   "metadata": {},
   "source": [
    "## 2022-2023\n"
   ]
  },
  {
   "cell_type": "code",
   "execution_count": 452,
   "metadata": {},
   "outputs": [
    {
     "data": {
      "text/html": [
       "<div>\n",
       "<style scoped>\n",
       "    .dataframe tbody tr th:only-of-type {\n",
       "        vertical-align: middle;\n",
       "    }\n",
       "\n",
       "    .dataframe tbody tr th {\n",
       "        vertical-align: top;\n",
       "    }\n",
       "\n",
       "    .dataframe thead th {\n",
       "        text-align: right;\n",
       "    }\n",
       "</style>\n",
       "<table border=\"1\" class=\"dataframe\">\n",
       "  <thead>\n",
       "    <tr style=\"text-align: right;\">\n",
       "      <th></th>\n",
       "      <th>Rk</th>\n",
       "      <th>Player</th>\n",
       "      <th>Age</th>\n",
       "      <th>Team</th>\n",
       "      <th>Pos</th>\n",
       "      <th>G</th>\n",
       "      <th>GS</th>\n",
       "      <th>MP</th>\n",
       "      <th>FG</th>\n",
       "      <th>FGA</th>\n",
       "      <th>FG%</th>\n",
       "      <th>3P</th>\n",
       "      <th>3PA</th>\n",
       "      <th>3P%</th>\n",
       "      <th>2P</th>\n",
       "      <th>2PA</th>\n",
       "      <th>2P%</th>\n",
       "      <th>eFG%</th>\n",
       "      <th>FT</th>\n",
       "      <th>FTA</th>\n",
       "      <th>FT%</th>\n",
       "      <th>ORB</th>\n",
       "      <th>DRB</th>\n",
       "      <th>TRB</th>\n",
       "      <th>AST</th>\n",
       "      <th>STL</th>\n",
       "      <th>BLK</th>\n",
       "      <th>TOV</th>\n",
       "      <th>PF</th>\n",
       "      <th>PTS</th>\n",
       "      <th>Awards</th>\n",
       "    </tr>\n",
       "  </thead>\n",
       "  <tbody>\n",
       "    <tr>\n",
       "      <th>0</th>\n",
       "      <td>1.0</td>\n",
       "      <td>Joel Embiid</td>\n",
       "      <td>28.0</td>\n",
       "      <td>PHI</td>\n",
       "      <td>C</td>\n",
       "      <td>66.0</td>\n",
       "      <td>66.0</td>\n",
       "      <td>34.6</td>\n",
       "      <td>11.0</td>\n",
       "      <td>20.1</td>\n",
       "      <td>0.548</td>\n",
       "      <td>1.0</td>\n",
       "      <td>3.0</td>\n",
       "      <td>0.330</td>\n",
       "      <td>10.0</td>\n",
       "      <td>17.1</td>\n",
       "      <td>0.587</td>\n",
       "      <td>0.573</td>\n",
       "      <td>10.0</td>\n",
       "      <td>11.7</td>\n",
       "      <td>0.857</td>\n",
       "      <td>1.7</td>\n",
       "      <td>8.4</td>\n",
       "      <td>10.2</td>\n",
       "      <td>4.2</td>\n",
       "      <td>1.0</td>\n",
       "      <td>1.7</td>\n",
       "      <td>3.4</td>\n",
       "      <td>3.1</td>\n",
       "      <td>33.1</td>\n",
       "      <td>MVP-1,DPOY-9,CPOY-5,AS,NBA1</td>\n",
       "    </tr>\n",
       "    <tr>\n",
       "      <th>1</th>\n",
       "      <td>2.0</td>\n",
       "      <td>Luka Dončić</td>\n",
       "      <td>23.0</td>\n",
       "      <td>DAL</td>\n",
       "      <td>PG</td>\n",
       "      <td>66.0</td>\n",
       "      <td>66.0</td>\n",
       "      <td>36.2</td>\n",
       "      <td>10.9</td>\n",
       "      <td>22.0</td>\n",
       "      <td>0.496</td>\n",
       "      <td>2.8</td>\n",
       "      <td>8.2</td>\n",
       "      <td>0.342</td>\n",
       "      <td>8.1</td>\n",
       "      <td>13.8</td>\n",
       "      <td>0.588</td>\n",
       "      <td>0.560</td>\n",
       "      <td>7.8</td>\n",
       "      <td>10.5</td>\n",
       "      <td>0.742</td>\n",
       "      <td>0.8</td>\n",
       "      <td>7.8</td>\n",
       "      <td>8.6</td>\n",
       "      <td>8.0</td>\n",
       "      <td>1.4</td>\n",
       "      <td>0.5</td>\n",
       "      <td>3.6</td>\n",
       "      <td>2.5</td>\n",
       "      <td>32.4</td>\n",
       "      <td>MVP-8,CPOY-8,AS,NBA1</td>\n",
       "    </tr>\n",
       "    <tr>\n",
       "      <th>2</th>\n",
       "      <td>3.0</td>\n",
       "      <td>Damian Lillard</td>\n",
       "      <td>32.0</td>\n",
       "      <td>POR</td>\n",
       "      <td>PG</td>\n",
       "      <td>58.0</td>\n",
       "      <td>58.0</td>\n",
       "      <td>36.3</td>\n",
       "      <td>9.6</td>\n",
       "      <td>20.7</td>\n",
       "      <td>0.463</td>\n",
       "      <td>4.2</td>\n",
       "      <td>11.3</td>\n",
       "      <td>0.371</td>\n",
       "      <td>5.4</td>\n",
       "      <td>9.4</td>\n",
       "      <td>0.574</td>\n",
       "      <td>0.564</td>\n",
       "      <td>8.8</td>\n",
       "      <td>9.6</td>\n",
       "      <td>0.914</td>\n",
       "      <td>0.8</td>\n",
       "      <td>4.0</td>\n",
       "      <td>4.8</td>\n",
       "      <td>7.3</td>\n",
       "      <td>0.9</td>\n",
       "      <td>0.3</td>\n",
       "      <td>3.3</td>\n",
       "      <td>1.9</td>\n",
       "      <td>32.2</td>\n",
       "      <td>CPOY-10,AS,NBA3</td>\n",
       "    </tr>\n",
       "    <tr>\n",
       "      <th>3</th>\n",
       "      <td>4.0</td>\n",
       "      <td>Shai Gilgeous-Alexander</td>\n",
       "      <td>24.0</td>\n",
       "      <td>OKC</td>\n",
       "      <td>PG</td>\n",
       "      <td>68.0</td>\n",
       "      <td>68.0</td>\n",
       "      <td>35.5</td>\n",
       "      <td>10.4</td>\n",
       "      <td>20.3</td>\n",
       "      <td>0.510</td>\n",
       "      <td>0.9</td>\n",
       "      <td>2.5</td>\n",
       "      <td>0.345</td>\n",
       "      <td>9.5</td>\n",
       "      <td>17.8</td>\n",
       "      <td>0.533</td>\n",
       "      <td>0.531</td>\n",
       "      <td>9.8</td>\n",
       "      <td>10.9</td>\n",
       "      <td>0.905</td>\n",
       "      <td>0.9</td>\n",
       "      <td>4.0</td>\n",
       "      <td>4.8</td>\n",
       "      <td>5.5</td>\n",
       "      <td>1.6</td>\n",
       "      <td>1.0</td>\n",
       "      <td>2.8</td>\n",
       "      <td>2.8</td>\n",
       "      <td>31.4</td>\n",
       "      <td>MVP-5,CPOY-7,AS,NBA1</td>\n",
       "    </tr>\n",
       "    <tr>\n",
       "      <th>4</th>\n",
       "      <td>5.0</td>\n",
       "      <td>Giannis Antetokounmpo</td>\n",
       "      <td>28.0</td>\n",
       "      <td>MIL</td>\n",
       "      <td>PF</td>\n",
       "      <td>63.0</td>\n",
       "      <td>63.0</td>\n",
       "      <td>32.1</td>\n",
       "      <td>11.2</td>\n",
       "      <td>20.3</td>\n",
       "      <td>0.553</td>\n",
       "      <td>0.7</td>\n",
       "      <td>2.7</td>\n",
       "      <td>0.275</td>\n",
       "      <td>10.5</td>\n",
       "      <td>17.6</td>\n",
       "      <td>0.596</td>\n",
       "      <td>0.572</td>\n",
       "      <td>7.9</td>\n",
       "      <td>12.3</td>\n",
       "      <td>0.645</td>\n",
       "      <td>2.2</td>\n",
       "      <td>9.6</td>\n",
       "      <td>11.8</td>\n",
       "      <td>5.7</td>\n",
       "      <td>0.8</td>\n",
       "      <td>0.8</td>\n",
       "      <td>3.9</td>\n",
       "      <td>3.1</td>\n",
       "      <td>31.1</td>\n",
       "      <td>MVP-3,DPOY-6,AS,NBA1</td>\n",
       "    </tr>\n",
       "  </tbody>\n",
       "</table>\n",
       "</div>"
      ],
      "text/plain": [
       "    Rk                   Player   Age Team Pos     G    GS    MP    FG   FGA  \\\n",
       "0  1.0              Joel Embiid  28.0  PHI   C  66.0  66.0  34.6  11.0  20.1   \n",
       "1  2.0              Luka Dončić  23.0  DAL  PG  66.0  66.0  36.2  10.9  22.0   \n",
       "2  3.0           Damian Lillard  32.0  POR  PG  58.0  58.0  36.3   9.6  20.7   \n",
       "3  4.0  Shai Gilgeous-Alexander  24.0  OKC  PG  68.0  68.0  35.5  10.4  20.3   \n",
       "4  5.0    Giannis Antetokounmpo  28.0  MIL  PF  63.0  63.0  32.1  11.2  20.3   \n",
       "\n",
       "     FG%   3P   3PA    3P%    2P   2PA    2P%   eFG%    FT   FTA    FT%  ORB  \\\n",
       "0  0.548  1.0   3.0  0.330  10.0  17.1  0.587  0.573  10.0  11.7  0.857  1.7   \n",
       "1  0.496  2.8   8.2  0.342   8.1  13.8  0.588  0.560   7.8  10.5  0.742  0.8   \n",
       "2  0.463  4.2  11.3  0.371   5.4   9.4  0.574  0.564   8.8   9.6  0.914  0.8   \n",
       "3  0.510  0.9   2.5  0.345   9.5  17.8  0.533  0.531   9.8  10.9  0.905  0.9   \n",
       "4  0.553  0.7   2.7  0.275  10.5  17.6  0.596  0.572   7.9  12.3  0.645  2.2   \n",
       "\n",
       "   DRB   TRB  AST  STL  BLK  TOV   PF   PTS                       Awards  \n",
       "0  8.4  10.2  4.2  1.0  1.7  3.4  3.1  33.1  MVP-1,DPOY-9,CPOY-5,AS,NBA1  \n",
       "1  7.8   8.6  8.0  1.4  0.5  3.6  2.5  32.4         MVP-8,CPOY-8,AS,NBA1  \n",
       "2  4.0   4.8  7.3  0.9  0.3  3.3  1.9  32.2              CPOY-10,AS,NBA3  \n",
       "3  4.0   4.8  5.5  1.6  1.0  2.8  2.8  31.4         MVP-5,CPOY-7,AS,NBA1  \n",
       "4  9.6  11.8  5.7  0.8  0.8  3.9  3.1  31.1         MVP-3,DPOY-6,AS,NBA1  "
      ]
     },
     "execution_count": 452,
     "metadata": {},
     "output_type": "execute_result"
    }
   ],
   "source": [
    "#Retrieve HTML table dataset\n",
    "url_2022 = 'https://www.basketball-reference.com/leagues/NBA_2023_per_game.html'\n",
    "html = pd.read_html(url_2022, header = 0)\n",
    "df_2022 = html[0]\n",
    "\n",
    "df_2022.head()"
   ]
  },
  {
   "cell_type": "markdown",
   "metadata": {},
   "source": [
    "### Data Cleaning"
   ]
  },
  {
   "cell_type": "code",
   "execution_count": 453,
   "metadata": {},
   "outputs": [
    {
     "data": {
      "text/plain": [
       "Rk          1\n",
       "Player      0\n",
       "Age         1\n",
       "Team        1\n",
       "Pos         1\n",
       "G           1\n",
       "GS          1\n",
       "MP          1\n",
       "FG          1\n",
       "FGA         1\n",
       "FG%         3\n",
       "3P          1\n",
       "3PA         1\n",
       "3P%        24\n",
       "2P          1\n",
       "2PA         1\n",
       "2P%         7\n",
       "eFG%        3\n",
       "FT          1\n",
       "FTA         1\n",
       "FT%        37\n",
       "ORB         1\n",
       "DRB         1\n",
       "TRB         1\n",
       "AST         1\n",
       "STL         1\n",
       "BLK         1\n",
       "TOV         1\n",
       "PF          1\n",
       "PTS         1\n",
       "Awards    630\n",
       "dtype: int64"
      ]
     },
     "execution_count": 453,
     "metadata": {},
     "output_type": "execute_result"
    }
   ],
   "source": [
    "# Check for missing values\n",
    "df_2022.isnull().sum()"
   ]
  },
  {
   "cell_type": "code",
   "execution_count": 454,
   "metadata": {},
   "outputs": [
    {
     "data": {
      "text/plain": [
       "Rk        0\n",
       "Player    0\n",
       "Age       0\n",
       "Team      0\n",
       "Pos       0\n",
       "G         0\n",
       "GS        0\n",
       "MP        0\n",
       "FG        0\n",
       "FGA       0\n",
       "FG%       0\n",
       "3P        0\n",
       "3PA       0\n",
       "3P%       0\n",
       "2P        0\n",
       "2PA       0\n",
       "2P%       0\n",
       "eFG%      0\n",
       "FT        0\n",
       "FTA       0\n",
       "FT%       0\n",
       "ORB       0\n",
       "DRB       0\n",
       "TRB       0\n",
       "AST       0\n",
       "STL       0\n",
       "BLK       0\n",
       "TOV       0\n",
       "PF        0\n",
       "PTS       0\n",
       "Awards    0\n",
       "dtype: int64"
      ]
     },
     "execution_count": 454,
     "metadata": {},
     "output_type": "execute_result"
    }
   ],
   "source": [
    "# Fill missing values with 0\n",
    "df_2022 = df_2022.fillna(0)\n",
    "df_2022.isnull().sum()"
   ]
  },
  {
   "cell_type": "code",
   "execution_count": 455,
   "metadata": {},
   "outputs": [
    {
     "data": {
      "text/html": [
       "<div>\n",
       "<style scoped>\n",
       "    .dataframe tbody tr th:only-of-type {\n",
       "        vertical-align: middle;\n",
       "    }\n",
       "\n",
       "    .dataframe tbody tr th {\n",
       "        vertical-align: top;\n",
       "    }\n",
       "\n",
       "    .dataframe thead th {\n",
       "        text-align: right;\n",
       "    }\n",
       "</style>\n",
       "<table border=\"1\" class=\"dataframe\">\n",
       "  <thead>\n",
       "    <tr style=\"text-align: right;\">\n",
       "      <th></th>\n",
       "      <th>Player</th>\n",
       "      <th>Age</th>\n",
       "      <th>Team</th>\n",
       "      <th>Pos</th>\n",
       "      <th>G</th>\n",
       "      <th>FG</th>\n",
       "      <th>FGA</th>\n",
       "      <th>FG%</th>\n",
       "      <th>3P</th>\n",
       "      <th>3PA</th>\n",
       "      <th>3P%</th>\n",
       "      <th>2P%</th>\n",
       "      <th>FT%</th>\n",
       "      <th>ORB</th>\n",
       "      <th>DRB</th>\n",
       "      <th>TRB</th>\n",
       "      <th>AST</th>\n",
       "      <th>STL</th>\n",
       "      <th>BLK</th>\n",
       "      <th>TOV</th>\n",
       "      <th>PTS</th>\n",
       "      <th>Season</th>\n",
       "    </tr>\n",
       "  </thead>\n",
       "  <tbody>\n",
       "    <tr>\n",
       "      <th>0</th>\n",
       "      <td>Joel Embiid</td>\n",
       "      <td>28.0</td>\n",
       "      <td>PHI</td>\n",
       "      <td>C</td>\n",
       "      <td>66.0</td>\n",
       "      <td>11.0</td>\n",
       "      <td>20.1</td>\n",
       "      <td>0.548</td>\n",
       "      <td>1.0</td>\n",
       "      <td>3.0</td>\n",
       "      <td>0.330</td>\n",
       "      <td>0.587</td>\n",
       "      <td>0.857</td>\n",
       "      <td>1.7</td>\n",
       "      <td>8.4</td>\n",
       "      <td>10.2</td>\n",
       "      <td>4.2</td>\n",
       "      <td>1.0</td>\n",
       "      <td>1.7</td>\n",
       "      <td>3.4</td>\n",
       "      <td>33.1</td>\n",
       "      <td>2022-23</td>\n",
       "    </tr>\n",
       "    <tr>\n",
       "      <th>1</th>\n",
       "      <td>Luka Dončić</td>\n",
       "      <td>23.0</td>\n",
       "      <td>DAL</td>\n",
       "      <td>PG</td>\n",
       "      <td>66.0</td>\n",
       "      <td>10.9</td>\n",
       "      <td>22.0</td>\n",
       "      <td>0.496</td>\n",
       "      <td>2.8</td>\n",
       "      <td>8.2</td>\n",
       "      <td>0.342</td>\n",
       "      <td>0.588</td>\n",
       "      <td>0.742</td>\n",
       "      <td>0.8</td>\n",
       "      <td>7.8</td>\n",
       "      <td>8.6</td>\n",
       "      <td>8.0</td>\n",
       "      <td>1.4</td>\n",
       "      <td>0.5</td>\n",
       "      <td>3.6</td>\n",
       "      <td>32.4</td>\n",
       "      <td>2022-23</td>\n",
       "    </tr>\n",
       "    <tr>\n",
       "      <th>2</th>\n",
       "      <td>Damian Lillard</td>\n",
       "      <td>32.0</td>\n",
       "      <td>POR</td>\n",
       "      <td>PG</td>\n",
       "      <td>58.0</td>\n",
       "      <td>9.6</td>\n",
       "      <td>20.7</td>\n",
       "      <td>0.463</td>\n",
       "      <td>4.2</td>\n",
       "      <td>11.3</td>\n",
       "      <td>0.371</td>\n",
       "      <td>0.574</td>\n",
       "      <td>0.914</td>\n",
       "      <td>0.8</td>\n",
       "      <td>4.0</td>\n",
       "      <td>4.8</td>\n",
       "      <td>7.3</td>\n",
       "      <td>0.9</td>\n",
       "      <td>0.3</td>\n",
       "      <td>3.3</td>\n",
       "      <td>32.2</td>\n",
       "      <td>2022-23</td>\n",
       "    </tr>\n",
       "    <tr>\n",
       "      <th>3</th>\n",
       "      <td>Shai Gilgeous-Alexander</td>\n",
       "      <td>24.0</td>\n",
       "      <td>OKC</td>\n",
       "      <td>PG</td>\n",
       "      <td>68.0</td>\n",
       "      <td>10.4</td>\n",
       "      <td>20.3</td>\n",
       "      <td>0.510</td>\n",
       "      <td>0.9</td>\n",
       "      <td>2.5</td>\n",
       "      <td>0.345</td>\n",
       "      <td>0.533</td>\n",
       "      <td>0.905</td>\n",
       "      <td>0.9</td>\n",
       "      <td>4.0</td>\n",
       "      <td>4.8</td>\n",
       "      <td>5.5</td>\n",
       "      <td>1.6</td>\n",
       "      <td>1.0</td>\n",
       "      <td>2.8</td>\n",
       "      <td>31.4</td>\n",
       "      <td>2022-23</td>\n",
       "    </tr>\n",
       "    <tr>\n",
       "      <th>4</th>\n",
       "      <td>Giannis Antetokounmpo</td>\n",
       "      <td>28.0</td>\n",
       "      <td>MIL</td>\n",
       "      <td>PF</td>\n",
       "      <td>63.0</td>\n",
       "      <td>11.2</td>\n",
       "      <td>20.3</td>\n",
       "      <td>0.553</td>\n",
       "      <td>0.7</td>\n",
       "      <td>2.7</td>\n",
       "      <td>0.275</td>\n",
       "      <td>0.596</td>\n",
       "      <td>0.645</td>\n",
       "      <td>2.2</td>\n",
       "      <td>9.6</td>\n",
       "      <td>11.8</td>\n",
       "      <td>5.7</td>\n",
       "      <td>0.8</td>\n",
       "      <td>0.8</td>\n",
       "      <td>3.9</td>\n",
       "      <td>31.1</td>\n",
       "      <td>2022-23</td>\n",
       "    </tr>\n",
       "  </tbody>\n",
       "</table>\n",
       "</div>"
      ],
      "text/plain": [
       "                    Player   Age Team Pos     G    FG   FGA    FG%   3P   3PA  \\\n",
       "0              Joel Embiid  28.0  PHI   C  66.0  11.0  20.1  0.548  1.0   3.0   \n",
       "1              Luka Dončić  23.0  DAL  PG  66.0  10.9  22.0  0.496  2.8   8.2   \n",
       "2           Damian Lillard  32.0  POR  PG  58.0   9.6  20.7  0.463  4.2  11.3   \n",
       "3  Shai Gilgeous-Alexander  24.0  OKC  PG  68.0  10.4  20.3  0.510  0.9   2.5   \n",
       "4    Giannis Antetokounmpo  28.0  MIL  PF  63.0  11.2  20.3  0.553  0.7   2.7   \n",
       "\n",
       "     3P%    2P%    FT%  ORB  DRB   TRB  AST  STL  BLK  TOV   PTS   Season  \n",
       "0  0.330  0.587  0.857  1.7  8.4  10.2  4.2  1.0  1.7  3.4  33.1  2022-23  \n",
       "1  0.342  0.588  0.742  0.8  7.8   8.6  8.0  1.4  0.5  3.6  32.4  2022-23  \n",
       "2  0.371  0.574  0.914  0.8  4.0   4.8  7.3  0.9  0.3  3.3  32.2  2022-23  \n",
       "3  0.345  0.533  0.905  0.9  4.0   4.8  5.5  1.6  1.0  2.8  31.4  2022-23  \n",
       "4  0.275  0.596  0.645  2.2  9.6  11.8  5.7  0.8  0.8  3.9  31.1  2022-23  "
      ]
     },
     "execution_count": 455,
     "metadata": {},
     "output_type": "execute_result"
    }
   ],
   "source": [
    "# Drop columns that are not required\n",
    "df_2022 = df_2022.drop(columns= ['GS', 'MP', 'Rk', 'Awards', 'PF', '2P', '2PA', 'FT', 'FTA', 'eFG%'])\n",
    "# Remove duplicate headers\n",
    "df_2022 = df_2022[df_2022[\"Player\"] != \"Player\"]\n",
    "\n",
    "# Add Season column\n",
    "df_2022[\"Season\"] = \"2022-23\"\n",
    "\n",
    "df_2022.head()"
   ]
  },
  {
   "cell_type": "markdown",
   "metadata": {},
   "source": [
    "### Write to CSV File"
   ]
  },
  {
   "cell_type": "code",
   "execution_count": 456,
   "metadata": {},
   "outputs": [],
   "source": [
    "df_2022.to_csv('nba2022.csv', index = False)"
   ]
  },
  {
   "cell_type": "code",
   "execution_count": 457,
   "metadata": {},
   "outputs": [
    {
     "data": {
      "text/html": [
       "<div>\n",
       "<style scoped>\n",
       "    .dataframe tbody tr th:only-of-type {\n",
       "        vertical-align: middle;\n",
       "    }\n",
       "\n",
       "    .dataframe tbody tr th {\n",
       "        vertical-align: top;\n",
       "    }\n",
       "\n",
       "    .dataframe thead th {\n",
       "        text-align: right;\n",
       "    }\n",
       "</style>\n",
       "<table border=\"1\" class=\"dataframe\">\n",
       "  <thead>\n",
       "    <tr style=\"text-align: right;\">\n",
       "      <th></th>\n",
       "      <th>Player</th>\n",
       "      <th>Age</th>\n",
       "      <th>Team</th>\n",
       "      <th>Pos</th>\n",
       "      <th>G</th>\n",
       "      <th>FG</th>\n",
       "      <th>FGA</th>\n",
       "      <th>FG%</th>\n",
       "      <th>3P</th>\n",
       "      <th>3PA</th>\n",
       "      <th>3P%</th>\n",
       "      <th>2P%</th>\n",
       "      <th>FT%</th>\n",
       "      <th>ORB</th>\n",
       "      <th>DRB</th>\n",
       "      <th>TRB</th>\n",
       "      <th>AST</th>\n",
       "      <th>STL</th>\n",
       "      <th>BLK</th>\n",
       "      <th>TOV</th>\n",
       "      <th>PTS</th>\n",
       "      <th>Season</th>\n",
       "    </tr>\n",
       "  </thead>\n",
       "  <tbody>\n",
       "    <tr>\n",
       "      <th>0</th>\n",
       "      <td>Joel Embiid</td>\n",
       "      <td>28.0</td>\n",
       "      <td>PHI</td>\n",
       "      <td>C</td>\n",
       "      <td>66.0</td>\n",
       "      <td>11.0</td>\n",
       "      <td>20.1</td>\n",
       "      <td>0.548</td>\n",
       "      <td>1.0</td>\n",
       "      <td>3.0</td>\n",
       "      <td>0.330</td>\n",
       "      <td>0.587</td>\n",
       "      <td>0.857</td>\n",
       "      <td>1.7</td>\n",
       "      <td>8.4</td>\n",
       "      <td>10.2</td>\n",
       "      <td>4.2</td>\n",
       "      <td>1.0</td>\n",
       "      <td>1.7</td>\n",
       "      <td>3.4</td>\n",
       "      <td>33.1</td>\n",
       "      <td>2022-23</td>\n",
       "    </tr>\n",
       "    <tr>\n",
       "      <th>1</th>\n",
       "      <td>Luka Dončić</td>\n",
       "      <td>23.0</td>\n",
       "      <td>DAL</td>\n",
       "      <td>PG</td>\n",
       "      <td>66.0</td>\n",
       "      <td>10.9</td>\n",
       "      <td>22.0</td>\n",
       "      <td>0.496</td>\n",
       "      <td>2.8</td>\n",
       "      <td>8.2</td>\n",
       "      <td>0.342</td>\n",
       "      <td>0.588</td>\n",
       "      <td>0.742</td>\n",
       "      <td>0.8</td>\n",
       "      <td>7.8</td>\n",
       "      <td>8.6</td>\n",
       "      <td>8.0</td>\n",
       "      <td>1.4</td>\n",
       "      <td>0.5</td>\n",
       "      <td>3.6</td>\n",
       "      <td>32.4</td>\n",
       "      <td>2022-23</td>\n",
       "    </tr>\n",
       "    <tr>\n",
       "      <th>2</th>\n",
       "      <td>Damian Lillard</td>\n",
       "      <td>32.0</td>\n",
       "      <td>POR</td>\n",
       "      <td>PG</td>\n",
       "      <td>58.0</td>\n",
       "      <td>9.6</td>\n",
       "      <td>20.7</td>\n",
       "      <td>0.463</td>\n",
       "      <td>4.2</td>\n",
       "      <td>11.3</td>\n",
       "      <td>0.371</td>\n",
       "      <td>0.574</td>\n",
       "      <td>0.914</td>\n",
       "      <td>0.8</td>\n",
       "      <td>4.0</td>\n",
       "      <td>4.8</td>\n",
       "      <td>7.3</td>\n",
       "      <td>0.9</td>\n",
       "      <td>0.3</td>\n",
       "      <td>3.3</td>\n",
       "      <td>32.2</td>\n",
       "      <td>2022-23</td>\n",
       "    </tr>\n",
       "    <tr>\n",
       "      <th>3</th>\n",
       "      <td>Shai Gilgeous-Alexander</td>\n",
       "      <td>24.0</td>\n",
       "      <td>OKC</td>\n",
       "      <td>PG</td>\n",
       "      <td>68.0</td>\n",
       "      <td>10.4</td>\n",
       "      <td>20.3</td>\n",
       "      <td>0.510</td>\n",
       "      <td>0.9</td>\n",
       "      <td>2.5</td>\n",
       "      <td>0.345</td>\n",
       "      <td>0.533</td>\n",
       "      <td>0.905</td>\n",
       "      <td>0.9</td>\n",
       "      <td>4.0</td>\n",
       "      <td>4.8</td>\n",
       "      <td>5.5</td>\n",
       "      <td>1.6</td>\n",
       "      <td>1.0</td>\n",
       "      <td>2.8</td>\n",
       "      <td>31.4</td>\n",
       "      <td>2022-23</td>\n",
       "    </tr>\n",
       "    <tr>\n",
       "      <th>4</th>\n",
       "      <td>Giannis Antetokounmpo</td>\n",
       "      <td>28.0</td>\n",
       "      <td>MIL</td>\n",
       "      <td>PF</td>\n",
       "      <td>63.0</td>\n",
       "      <td>11.2</td>\n",
       "      <td>20.3</td>\n",
       "      <td>0.553</td>\n",
       "      <td>0.7</td>\n",
       "      <td>2.7</td>\n",
       "      <td>0.275</td>\n",
       "      <td>0.596</td>\n",
       "      <td>0.645</td>\n",
       "      <td>2.2</td>\n",
       "      <td>9.6</td>\n",
       "      <td>11.8</td>\n",
       "      <td>5.7</td>\n",
       "      <td>0.8</td>\n",
       "      <td>0.8</td>\n",
       "      <td>3.9</td>\n",
       "      <td>31.1</td>\n",
       "      <td>2022-23</td>\n",
       "    </tr>\n",
       "  </tbody>\n",
       "</table>\n",
       "</div>"
      ],
      "text/plain": [
       "                    Player   Age Team Pos     G    FG   FGA    FG%   3P   3PA  \\\n",
       "0              Joel Embiid  28.0  PHI   C  66.0  11.0  20.1  0.548  1.0   3.0   \n",
       "1              Luka Dončić  23.0  DAL  PG  66.0  10.9  22.0  0.496  2.8   8.2   \n",
       "2           Damian Lillard  32.0  POR  PG  58.0   9.6  20.7  0.463  4.2  11.3   \n",
       "3  Shai Gilgeous-Alexander  24.0  OKC  PG  68.0  10.4  20.3  0.510  0.9   2.5   \n",
       "4    Giannis Antetokounmpo  28.0  MIL  PF  63.0  11.2  20.3  0.553  0.7   2.7   \n",
       "\n",
       "     3P%    2P%    FT%  ORB  DRB   TRB  AST  STL  BLK  TOV   PTS   Season  \n",
       "0  0.330  0.587  0.857  1.7  8.4  10.2  4.2  1.0  1.7  3.4  33.1  2022-23  \n",
       "1  0.342  0.588  0.742  0.8  7.8   8.6  8.0  1.4  0.5  3.6  32.4  2022-23  \n",
       "2  0.371  0.574  0.914  0.8  4.0   4.8  7.3  0.9  0.3  3.3  32.2  2022-23  \n",
       "3  0.345  0.533  0.905  0.9  4.0   4.8  5.5  1.6  1.0  2.8  31.4  2022-23  \n",
       "4  0.275  0.596  0.645  2.2  9.6  11.8  5.7  0.8  0.8  3.9  31.1  2022-23  "
      ]
     },
     "execution_count": 457,
     "metadata": {},
     "output_type": "execute_result"
    }
   ],
   "source": [
    "df_2022 = pd.read_csv('nba2022.csv')\n",
    "#Display all columns\n",
    "pd.set_option('display.max_columns', None)\n",
    "df_2022.head()"
   ]
  },
  {
   "cell_type": "markdown",
   "metadata": {},
   "source": [
    "## 2023-2024"
   ]
  },
  {
   "cell_type": "code",
   "execution_count": 458,
   "metadata": {},
   "outputs": [
    {
     "data": {
      "text/html": [
       "<div>\n",
       "<style scoped>\n",
       "    .dataframe tbody tr th:only-of-type {\n",
       "        vertical-align: middle;\n",
       "    }\n",
       "\n",
       "    .dataframe tbody tr th {\n",
       "        vertical-align: top;\n",
       "    }\n",
       "\n",
       "    .dataframe thead th {\n",
       "        text-align: right;\n",
       "    }\n",
       "</style>\n",
       "<table border=\"1\" class=\"dataframe\">\n",
       "  <thead>\n",
       "    <tr style=\"text-align: right;\">\n",
       "      <th></th>\n",
       "      <th>Rk</th>\n",
       "      <th>Player</th>\n",
       "      <th>Age</th>\n",
       "      <th>Team</th>\n",
       "      <th>Pos</th>\n",
       "      <th>G</th>\n",
       "      <th>GS</th>\n",
       "      <th>MP</th>\n",
       "      <th>FG</th>\n",
       "      <th>FGA</th>\n",
       "      <th>FG%</th>\n",
       "      <th>3P</th>\n",
       "      <th>3PA</th>\n",
       "      <th>3P%</th>\n",
       "      <th>2P</th>\n",
       "      <th>2PA</th>\n",
       "      <th>2P%</th>\n",
       "      <th>eFG%</th>\n",
       "      <th>FT</th>\n",
       "      <th>FTA</th>\n",
       "      <th>FT%</th>\n",
       "      <th>ORB</th>\n",
       "      <th>DRB</th>\n",
       "      <th>TRB</th>\n",
       "      <th>AST</th>\n",
       "      <th>STL</th>\n",
       "      <th>BLK</th>\n",
       "      <th>TOV</th>\n",
       "      <th>PF</th>\n",
       "      <th>PTS</th>\n",
       "      <th>Awards</th>\n",
       "    </tr>\n",
       "  </thead>\n",
       "  <tbody>\n",
       "    <tr>\n",
       "      <th>0</th>\n",
       "      <td>1.0</td>\n",
       "      <td>Joel Embiid</td>\n",
       "      <td>29.0</td>\n",
       "      <td>PHI</td>\n",
       "      <td>C</td>\n",
       "      <td>39.0</td>\n",
       "      <td>39.0</td>\n",
       "      <td>33.6</td>\n",
       "      <td>11.5</td>\n",
       "      <td>21.8</td>\n",
       "      <td>0.529</td>\n",
       "      <td>1.4</td>\n",
       "      <td>3.6</td>\n",
       "      <td>0.388</td>\n",
       "      <td>10.2</td>\n",
       "      <td>18.3</td>\n",
       "      <td>0.556</td>\n",
       "      <td>0.561</td>\n",
       "      <td>10.2</td>\n",
       "      <td>11.6</td>\n",
       "      <td>0.883</td>\n",
       "      <td>2.4</td>\n",
       "      <td>8.6</td>\n",
       "      <td>11.0</td>\n",
       "      <td>5.6</td>\n",
       "      <td>1.2</td>\n",
       "      <td>1.7</td>\n",
       "      <td>3.8</td>\n",
       "      <td>2.9</td>\n",
       "      <td>34.7</td>\n",
       "      <td>AS</td>\n",
       "    </tr>\n",
       "    <tr>\n",
       "      <th>1</th>\n",
       "      <td>2.0</td>\n",
       "      <td>Luka Dončić</td>\n",
       "      <td>24.0</td>\n",
       "      <td>DAL</td>\n",
       "      <td>PG</td>\n",
       "      <td>70.0</td>\n",
       "      <td>70.0</td>\n",
       "      <td>37.5</td>\n",
       "      <td>11.5</td>\n",
       "      <td>23.6</td>\n",
       "      <td>0.487</td>\n",
       "      <td>4.1</td>\n",
       "      <td>10.6</td>\n",
       "      <td>0.382</td>\n",
       "      <td>7.4</td>\n",
       "      <td>13.0</td>\n",
       "      <td>0.573</td>\n",
       "      <td>0.573</td>\n",
       "      <td>6.8</td>\n",
       "      <td>8.7</td>\n",
       "      <td>0.786</td>\n",
       "      <td>0.8</td>\n",
       "      <td>8.4</td>\n",
       "      <td>9.2</td>\n",
       "      <td>9.8</td>\n",
       "      <td>1.4</td>\n",
       "      <td>0.5</td>\n",
       "      <td>4.0</td>\n",
       "      <td>2.1</td>\n",
       "      <td>33.9</td>\n",
       "      <td>MVP-3,CPOY-6,AS,NBA1</td>\n",
       "    </tr>\n",
       "    <tr>\n",
       "      <th>2</th>\n",
       "      <td>3.0</td>\n",
       "      <td>Giannis Antetokounmpo</td>\n",
       "      <td>29.0</td>\n",
       "      <td>MIL</td>\n",
       "      <td>PF</td>\n",
       "      <td>73.0</td>\n",
       "      <td>73.0</td>\n",
       "      <td>35.2</td>\n",
       "      <td>11.5</td>\n",
       "      <td>18.8</td>\n",
       "      <td>0.611</td>\n",
       "      <td>0.5</td>\n",
       "      <td>1.7</td>\n",
       "      <td>0.274</td>\n",
       "      <td>11.0</td>\n",
       "      <td>17.1</td>\n",
       "      <td>0.645</td>\n",
       "      <td>0.624</td>\n",
       "      <td>7.0</td>\n",
       "      <td>10.7</td>\n",
       "      <td>0.657</td>\n",
       "      <td>2.7</td>\n",
       "      <td>8.8</td>\n",
       "      <td>11.5</td>\n",
       "      <td>6.5</td>\n",
       "      <td>1.2</td>\n",
       "      <td>1.1</td>\n",
       "      <td>3.4</td>\n",
       "      <td>2.9</td>\n",
       "      <td>30.4</td>\n",
       "      <td>MVP-4,DPOY-9,CPOY-12,AS,NBA1</td>\n",
       "    </tr>\n",
       "    <tr>\n",
       "      <th>3</th>\n",
       "      <td>4.0</td>\n",
       "      <td>Shai Gilgeous-Alexander</td>\n",
       "      <td>25.0</td>\n",
       "      <td>OKC</td>\n",
       "      <td>PG</td>\n",
       "      <td>75.0</td>\n",
       "      <td>75.0</td>\n",
       "      <td>34.0</td>\n",
       "      <td>10.6</td>\n",
       "      <td>19.8</td>\n",
       "      <td>0.535</td>\n",
       "      <td>1.3</td>\n",
       "      <td>3.6</td>\n",
       "      <td>0.353</td>\n",
       "      <td>9.3</td>\n",
       "      <td>16.2</td>\n",
       "      <td>0.576</td>\n",
       "      <td>0.567</td>\n",
       "      <td>7.6</td>\n",
       "      <td>8.7</td>\n",
       "      <td>0.874</td>\n",
       "      <td>0.9</td>\n",
       "      <td>4.7</td>\n",
       "      <td>5.5</td>\n",
       "      <td>6.2</td>\n",
       "      <td>2.0</td>\n",
       "      <td>0.9</td>\n",
       "      <td>2.2</td>\n",
       "      <td>2.5</td>\n",
       "      <td>30.1</td>\n",
       "      <td>MVP-2,DPOY-7,CPOY-3,AS,NBA1</td>\n",
       "    </tr>\n",
       "    <tr>\n",
       "      <th>4</th>\n",
       "      <td>5.0</td>\n",
       "      <td>Jalen Brunson</td>\n",
       "      <td>27.0</td>\n",
       "      <td>NYK</td>\n",
       "      <td>PG</td>\n",
       "      <td>77.0</td>\n",
       "      <td>77.0</td>\n",
       "      <td>35.4</td>\n",
       "      <td>10.3</td>\n",
       "      <td>21.4</td>\n",
       "      <td>0.479</td>\n",
       "      <td>2.7</td>\n",
       "      <td>6.8</td>\n",
       "      <td>0.401</td>\n",
       "      <td>7.5</td>\n",
       "      <td>14.6</td>\n",
       "      <td>0.516</td>\n",
       "      <td>0.543</td>\n",
       "      <td>5.5</td>\n",
       "      <td>6.5</td>\n",
       "      <td>0.847</td>\n",
       "      <td>0.6</td>\n",
       "      <td>3.1</td>\n",
       "      <td>3.6</td>\n",
       "      <td>6.7</td>\n",
       "      <td>0.9</td>\n",
       "      <td>0.2</td>\n",
       "      <td>2.4</td>\n",
       "      <td>1.9</td>\n",
       "      <td>28.7</td>\n",
       "      <td>MVP-5,CPOY-5,AS,NBA2</td>\n",
       "    </tr>\n",
       "  </tbody>\n",
       "</table>\n",
       "</div>"
      ],
      "text/plain": [
       "    Rk                   Player   Age Team Pos     G    GS    MP    FG   FGA  \\\n",
       "0  1.0              Joel Embiid  29.0  PHI   C  39.0  39.0  33.6  11.5  21.8   \n",
       "1  2.0              Luka Dončić  24.0  DAL  PG  70.0  70.0  37.5  11.5  23.6   \n",
       "2  3.0    Giannis Antetokounmpo  29.0  MIL  PF  73.0  73.0  35.2  11.5  18.8   \n",
       "3  4.0  Shai Gilgeous-Alexander  25.0  OKC  PG  75.0  75.0  34.0  10.6  19.8   \n",
       "4  5.0            Jalen Brunson  27.0  NYK  PG  77.0  77.0  35.4  10.3  21.4   \n",
       "\n",
       "     FG%   3P   3PA    3P%    2P   2PA    2P%   eFG%    FT   FTA    FT%  ORB  \\\n",
       "0  0.529  1.4   3.6  0.388  10.2  18.3  0.556  0.561  10.2  11.6  0.883  2.4   \n",
       "1  0.487  4.1  10.6  0.382   7.4  13.0  0.573  0.573   6.8   8.7  0.786  0.8   \n",
       "2  0.611  0.5   1.7  0.274  11.0  17.1  0.645  0.624   7.0  10.7  0.657  2.7   \n",
       "3  0.535  1.3   3.6  0.353   9.3  16.2  0.576  0.567   7.6   8.7  0.874  0.9   \n",
       "4  0.479  2.7   6.8  0.401   7.5  14.6  0.516  0.543   5.5   6.5  0.847  0.6   \n",
       "\n",
       "   DRB   TRB  AST  STL  BLK  TOV   PF   PTS                        Awards  \n",
       "0  8.6  11.0  5.6  1.2  1.7  3.8  2.9  34.7                            AS  \n",
       "1  8.4   9.2  9.8  1.4  0.5  4.0  2.1  33.9          MVP-3,CPOY-6,AS,NBA1  \n",
       "2  8.8  11.5  6.5  1.2  1.1  3.4  2.9  30.4  MVP-4,DPOY-9,CPOY-12,AS,NBA1  \n",
       "3  4.7   5.5  6.2  2.0  0.9  2.2  2.5  30.1   MVP-2,DPOY-7,CPOY-3,AS,NBA1  \n",
       "4  3.1   3.6  6.7  0.9  0.2  2.4  1.9  28.7          MVP-5,CPOY-5,AS,NBA2  "
      ]
     },
     "execution_count": 458,
     "metadata": {},
     "output_type": "execute_result"
    }
   ],
   "source": [
    "#Retrieve HTML table dataset\n",
    "url_2023 = 'https://www.basketball-reference.com/leagues/NBA_2024_per_game.html'\n",
    "html = pd.read_html(url_2023, header = 0)\n",
    "df_2023 = html[0]\n",
    "\n",
    "df_2023.head()"
   ]
  },
  {
   "cell_type": "markdown",
   "metadata": {},
   "source": [
    "### Data Cleaning"
   ]
  },
  {
   "cell_type": "code",
   "execution_count": 459,
   "metadata": {},
   "outputs": [
    {
     "data": {
      "text/plain": [
       "Rk          1\n",
       "Player      0\n",
       "Age         1\n",
       "Team        1\n",
       "Pos         1\n",
       "G           1\n",
       "GS          1\n",
       "MP          1\n",
       "FG          1\n",
       "FGA         1\n",
       "FG%         8\n",
       "3P          1\n",
       "3PA         1\n",
       "3P%        46\n",
       "2P          1\n",
       "2PA         1\n",
       "2P%        13\n",
       "eFG%        8\n",
       "FT          1\n",
       "FTA         1\n",
       "FT%        59\n",
       "ORB         1\n",
       "DRB         1\n",
       "TRB         1\n",
       "AST         1\n",
       "STL         1\n",
       "BLK         1\n",
       "TOV         1\n",
       "PF          1\n",
       "PTS         1\n",
       "Awards    681\n",
       "dtype: int64"
      ]
     },
     "execution_count": 459,
     "metadata": {},
     "output_type": "execute_result"
    }
   ],
   "source": [
    "# Check for missing values\n",
    "df_2023.isnull().sum()"
   ]
  },
  {
   "cell_type": "code",
   "execution_count": 460,
   "metadata": {},
   "outputs": [
    {
     "data": {
      "text/plain": [
       "Rk        0\n",
       "Player    0\n",
       "Age       0\n",
       "Team      0\n",
       "Pos       0\n",
       "G         0\n",
       "GS        0\n",
       "MP        0\n",
       "FG        0\n",
       "FGA       0\n",
       "FG%       0\n",
       "3P        0\n",
       "3PA       0\n",
       "3P%       0\n",
       "2P        0\n",
       "2PA       0\n",
       "2P%       0\n",
       "eFG%      0\n",
       "FT        0\n",
       "FTA       0\n",
       "FT%       0\n",
       "ORB       0\n",
       "DRB       0\n",
       "TRB       0\n",
       "AST       0\n",
       "STL       0\n",
       "BLK       0\n",
       "TOV       0\n",
       "PF        0\n",
       "PTS       0\n",
       "Awards    0\n",
       "dtype: int64"
      ]
     },
     "execution_count": 460,
     "metadata": {},
     "output_type": "execute_result"
    }
   ],
   "source": [
    "# Fill missing values with 0\n",
    "df_2023 = df_2023.fillna(0)\n",
    "df_2023.isnull().sum()"
   ]
  },
  {
   "cell_type": "code",
   "execution_count": 461,
   "metadata": {},
   "outputs": [
    {
     "data": {
      "text/html": [
       "<div>\n",
       "<style scoped>\n",
       "    .dataframe tbody tr th:only-of-type {\n",
       "        vertical-align: middle;\n",
       "    }\n",
       "\n",
       "    .dataframe tbody tr th {\n",
       "        vertical-align: top;\n",
       "    }\n",
       "\n",
       "    .dataframe thead th {\n",
       "        text-align: right;\n",
       "    }\n",
       "</style>\n",
       "<table border=\"1\" class=\"dataframe\">\n",
       "  <thead>\n",
       "    <tr style=\"text-align: right;\">\n",
       "      <th></th>\n",
       "      <th>Player</th>\n",
       "      <th>Age</th>\n",
       "      <th>Team</th>\n",
       "      <th>Pos</th>\n",
       "      <th>G</th>\n",
       "      <th>FG</th>\n",
       "      <th>FGA</th>\n",
       "      <th>FG%</th>\n",
       "      <th>3P</th>\n",
       "      <th>3PA</th>\n",
       "      <th>3P%</th>\n",
       "      <th>2P%</th>\n",
       "      <th>FT%</th>\n",
       "      <th>ORB</th>\n",
       "      <th>DRB</th>\n",
       "      <th>TRB</th>\n",
       "      <th>AST</th>\n",
       "      <th>STL</th>\n",
       "      <th>BLK</th>\n",
       "      <th>TOV</th>\n",
       "      <th>PTS</th>\n",
       "      <th>Season</th>\n",
       "    </tr>\n",
       "  </thead>\n",
       "  <tbody>\n",
       "    <tr>\n",
       "      <th>0</th>\n",
       "      <td>Joel Embiid</td>\n",
       "      <td>29.0</td>\n",
       "      <td>PHI</td>\n",
       "      <td>C</td>\n",
       "      <td>39.0</td>\n",
       "      <td>11.5</td>\n",
       "      <td>21.8</td>\n",
       "      <td>0.529</td>\n",
       "      <td>1.4</td>\n",
       "      <td>3.6</td>\n",
       "      <td>0.388</td>\n",
       "      <td>0.556</td>\n",
       "      <td>0.883</td>\n",
       "      <td>2.4</td>\n",
       "      <td>8.6</td>\n",
       "      <td>11.0</td>\n",
       "      <td>5.6</td>\n",
       "      <td>1.2</td>\n",
       "      <td>1.7</td>\n",
       "      <td>3.8</td>\n",
       "      <td>34.7</td>\n",
       "      <td>2023-24</td>\n",
       "    </tr>\n",
       "    <tr>\n",
       "      <th>1</th>\n",
       "      <td>Luka Dončić</td>\n",
       "      <td>24.0</td>\n",
       "      <td>DAL</td>\n",
       "      <td>PG</td>\n",
       "      <td>70.0</td>\n",
       "      <td>11.5</td>\n",
       "      <td>23.6</td>\n",
       "      <td>0.487</td>\n",
       "      <td>4.1</td>\n",
       "      <td>10.6</td>\n",
       "      <td>0.382</td>\n",
       "      <td>0.573</td>\n",
       "      <td>0.786</td>\n",
       "      <td>0.8</td>\n",
       "      <td>8.4</td>\n",
       "      <td>9.2</td>\n",
       "      <td>9.8</td>\n",
       "      <td>1.4</td>\n",
       "      <td>0.5</td>\n",
       "      <td>4.0</td>\n",
       "      <td>33.9</td>\n",
       "      <td>2023-24</td>\n",
       "    </tr>\n",
       "    <tr>\n",
       "      <th>2</th>\n",
       "      <td>Giannis Antetokounmpo</td>\n",
       "      <td>29.0</td>\n",
       "      <td>MIL</td>\n",
       "      <td>PF</td>\n",
       "      <td>73.0</td>\n",
       "      <td>11.5</td>\n",
       "      <td>18.8</td>\n",
       "      <td>0.611</td>\n",
       "      <td>0.5</td>\n",
       "      <td>1.7</td>\n",
       "      <td>0.274</td>\n",
       "      <td>0.645</td>\n",
       "      <td>0.657</td>\n",
       "      <td>2.7</td>\n",
       "      <td>8.8</td>\n",
       "      <td>11.5</td>\n",
       "      <td>6.5</td>\n",
       "      <td>1.2</td>\n",
       "      <td>1.1</td>\n",
       "      <td>3.4</td>\n",
       "      <td>30.4</td>\n",
       "      <td>2023-24</td>\n",
       "    </tr>\n",
       "    <tr>\n",
       "      <th>3</th>\n",
       "      <td>Shai Gilgeous-Alexander</td>\n",
       "      <td>25.0</td>\n",
       "      <td>OKC</td>\n",
       "      <td>PG</td>\n",
       "      <td>75.0</td>\n",
       "      <td>10.6</td>\n",
       "      <td>19.8</td>\n",
       "      <td>0.535</td>\n",
       "      <td>1.3</td>\n",
       "      <td>3.6</td>\n",
       "      <td>0.353</td>\n",
       "      <td>0.576</td>\n",
       "      <td>0.874</td>\n",
       "      <td>0.9</td>\n",
       "      <td>4.7</td>\n",
       "      <td>5.5</td>\n",
       "      <td>6.2</td>\n",
       "      <td>2.0</td>\n",
       "      <td>0.9</td>\n",
       "      <td>2.2</td>\n",
       "      <td>30.1</td>\n",
       "      <td>2023-24</td>\n",
       "    </tr>\n",
       "    <tr>\n",
       "      <th>4</th>\n",
       "      <td>Jalen Brunson</td>\n",
       "      <td>27.0</td>\n",
       "      <td>NYK</td>\n",
       "      <td>PG</td>\n",
       "      <td>77.0</td>\n",
       "      <td>10.3</td>\n",
       "      <td>21.4</td>\n",
       "      <td>0.479</td>\n",
       "      <td>2.7</td>\n",
       "      <td>6.8</td>\n",
       "      <td>0.401</td>\n",
       "      <td>0.516</td>\n",
       "      <td>0.847</td>\n",
       "      <td>0.6</td>\n",
       "      <td>3.1</td>\n",
       "      <td>3.6</td>\n",
       "      <td>6.7</td>\n",
       "      <td>0.9</td>\n",
       "      <td>0.2</td>\n",
       "      <td>2.4</td>\n",
       "      <td>28.7</td>\n",
       "      <td>2023-24</td>\n",
       "    </tr>\n",
       "  </tbody>\n",
       "</table>\n",
       "</div>"
      ],
      "text/plain": [
       "                    Player   Age Team Pos     G    FG   FGA    FG%   3P   3PA  \\\n",
       "0              Joel Embiid  29.0  PHI   C  39.0  11.5  21.8  0.529  1.4   3.6   \n",
       "1              Luka Dončić  24.0  DAL  PG  70.0  11.5  23.6  0.487  4.1  10.6   \n",
       "2    Giannis Antetokounmpo  29.0  MIL  PF  73.0  11.5  18.8  0.611  0.5   1.7   \n",
       "3  Shai Gilgeous-Alexander  25.0  OKC  PG  75.0  10.6  19.8  0.535  1.3   3.6   \n",
       "4            Jalen Brunson  27.0  NYK  PG  77.0  10.3  21.4  0.479  2.7   6.8   \n",
       "\n",
       "     3P%    2P%    FT%  ORB  DRB   TRB  AST  STL  BLK  TOV   PTS   Season  \n",
       "0  0.388  0.556  0.883  2.4  8.6  11.0  5.6  1.2  1.7  3.8  34.7  2023-24  \n",
       "1  0.382  0.573  0.786  0.8  8.4   9.2  9.8  1.4  0.5  4.0  33.9  2023-24  \n",
       "2  0.274  0.645  0.657  2.7  8.8  11.5  6.5  1.2  1.1  3.4  30.4  2023-24  \n",
       "3  0.353  0.576  0.874  0.9  4.7   5.5  6.2  2.0  0.9  2.2  30.1  2023-24  \n",
       "4  0.401  0.516  0.847  0.6  3.1   3.6  6.7  0.9  0.2  2.4  28.7  2023-24  "
      ]
     },
     "execution_count": 461,
     "metadata": {},
     "output_type": "execute_result"
    }
   ],
   "source": [
    "# Drop columns that are not required\n",
    "df_2023 = df_2023.drop(columns= ['GS', 'MP', 'Rk', 'Awards', 'PF', '2P', '2PA', 'FT', 'FTA', 'eFG%'])\n",
    "# Remove duplicate headers\n",
    "df_2023 = df_2023[df_2023[\"Player\"] != \"Player\"]\n",
    "\n",
    "# Add Season column\n",
    "df_2023[\"Season\"] = \"2023-24\"\n",
    "\n",
    "df_2023.head()"
   ]
  },
  {
   "cell_type": "markdown",
   "metadata": {},
   "source": [
    "### Write to CSV File"
   ]
  },
  {
   "cell_type": "code",
   "execution_count": 462,
   "metadata": {},
   "outputs": [],
   "source": [
    "df_2023.to_csv('nba2023.csv', index = False)"
   ]
  },
  {
   "cell_type": "code",
   "execution_count": 463,
   "metadata": {},
   "outputs": [
    {
     "data": {
      "text/html": [
       "<div>\n",
       "<style scoped>\n",
       "    .dataframe tbody tr th:only-of-type {\n",
       "        vertical-align: middle;\n",
       "    }\n",
       "\n",
       "    .dataframe tbody tr th {\n",
       "        vertical-align: top;\n",
       "    }\n",
       "\n",
       "    .dataframe thead th {\n",
       "        text-align: right;\n",
       "    }\n",
       "</style>\n",
       "<table border=\"1\" class=\"dataframe\">\n",
       "  <thead>\n",
       "    <tr style=\"text-align: right;\">\n",
       "      <th></th>\n",
       "      <th>Player</th>\n",
       "      <th>Age</th>\n",
       "      <th>Team</th>\n",
       "      <th>Pos</th>\n",
       "      <th>G</th>\n",
       "      <th>FG</th>\n",
       "      <th>FGA</th>\n",
       "      <th>FG%</th>\n",
       "      <th>3P</th>\n",
       "      <th>3PA</th>\n",
       "      <th>3P%</th>\n",
       "      <th>2P%</th>\n",
       "      <th>FT%</th>\n",
       "      <th>ORB</th>\n",
       "      <th>DRB</th>\n",
       "      <th>TRB</th>\n",
       "      <th>AST</th>\n",
       "      <th>STL</th>\n",
       "      <th>BLK</th>\n",
       "      <th>TOV</th>\n",
       "      <th>PTS</th>\n",
       "      <th>Season</th>\n",
       "    </tr>\n",
       "  </thead>\n",
       "  <tbody>\n",
       "    <tr>\n",
       "      <th>0</th>\n",
       "      <td>Joel Embiid</td>\n",
       "      <td>29.0</td>\n",
       "      <td>PHI</td>\n",
       "      <td>C</td>\n",
       "      <td>39.0</td>\n",
       "      <td>11.5</td>\n",
       "      <td>21.8</td>\n",
       "      <td>0.529</td>\n",
       "      <td>1.4</td>\n",
       "      <td>3.6</td>\n",
       "      <td>0.388</td>\n",
       "      <td>0.556</td>\n",
       "      <td>0.883</td>\n",
       "      <td>2.4</td>\n",
       "      <td>8.6</td>\n",
       "      <td>11.0</td>\n",
       "      <td>5.6</td>\n",
       "      <td>1.2</td>\n",
       "      <td>1.7</td>\n",
       "      <td>3.8</td>\n",
       "      <td>34.7</td>\n",
       "      <td>2023-24</td>\n",
       "    </tr>\n",
       "    <tr>\n",
       "      <th>1</th>\n",
       "      <td>Luka Dončić</td>\n",
       "      <td>24.0</td>\n",
       "      <td>DAL</td>\n",
       "      <td>PG</td>\n",
       "      <td>70.0</td>\n",
       "      <td>11.5</td>\n",
       "      <td>23.6</td>\n",
       "      <td>0.487</td>\n",
       "      <td>4.1</td>\n",
       "      <td>10.6</td>\n",
       "      <td>0.382</td>\n",
       "      <td>0.573</td>\n",
       "      <td>0.786</td>\n",
       "      <td>0.8</td>\n",
       "      <td>8.4</td>\n",
       "      <td>9.2</td>\n",
       "      <td>9.8</td>\n",
       "      <td>1.4</td>\n",
       "      <td>0.5</td>\n",
       "      <td>4.0</td>\n",
       "      <td>33.9</td>\n",
       "      <td>2023-24</td>\n",
       "    </tr>\n",
       "    <tr>\n",
       "      <th>2</th>\n",
       "      <td>Giannis Antetokounmpo</td>\n",
       "      <td>29.0</td>\n",
       "      <td>MIL</td>\n",
       "      <td>PF</td>\n",
       "      <td>73.0</td>\n",
       "      <td>11.5</td>\n",
       "      <td>18.8</td>\n",
       "      <td>0.611</td>\n",
       "      <td>0.5</td>\n",
       "      <td>1.7</td>\n",
       "      <td>0.274</td>\n",
       "      <td>0.645</td>\n",
       "      <td>0.657</td>\n",
       "      <td>2.7</td>\n",
       "      <td>8.8</td>\n",
       "      <td>11.5</td>\n",
       "      <td>6.5</td>\n",
       "      <td>1.2</td>\n",
       "      <td>1.1</td>\n",
       "      <td>3.4</td>\n",
       "      <td>30.4</td>\n",
       "      <td>2023-24</td>\n",
       "    </tr>\n",
       "    <tr>\n",
       "      <th>3</th>\n",
       "      <td>Shai Gilgeous-Alexander</td>\n",
       "      <td>25.0</td>\n",
       "      <td>OKC</td>\n",
       "      <td>PG</td>\n",
       "      <td>75.0</td>\n",
       "      <td>10.6</td>\n",
       "      <td>19.8</td>\n",
       "      <td>0.535</td>\n",
       "      <td>1.3</td>\n",
       "      <td>3.6</td>\n",
       "      <td>0.353</td>\n",
       "      <td>0.576</td>\n",
       "      <td>0.874</td>\n",
       "      <td>0.9</td>\n",
       "      <td>4.7</td>\n",
       "      <td>5.5</td>\n",
       "      <td>6.2</td>\n",
       "      <td>2.0</td>\n",
       "      <td>0.9</td>\n",
       "      <td>2.2</td>\n",
       "      <td>30.1</td>\n",
       "      <td>2023-24</td>\n",
       "    </tr>\n",
       "    <tr>\n",
       "      <th>4</th>\n",
       "      <td>Jalen Brunson</td>\n",
       "      <td>27.0</td>\n",
       "      <td>NYK</td>\n",
       "      <td>PG</td>\n",
       "      <td>77.0</td>\n",
       "      <td>10.3</td>\n",
       "      <td>21.4</td>\n",
       "      <td>0.479</td>\n",
       "      <td>2.7</td>\n",
       "      <td>6.8</td>\n",
       "      <td>0.401</td>\n",
       "      <td>0.516</td>\n",
       "      <td>0.847</td>\n",
       "      <td>0.6</td>\n",
       "      <td>3.1</td>\n",
       "      <td>3.6</td>\n",
       "      <td>6.7</td>\n",
       "      <td>0.9</td>\n",
       "      <td>0.2</td>\n",
       "      <td>2.4</td>\n",
       "      <td>28.7</td>\n",
       "      <td>2023-24</td>\n",
       "    </tr>\n",
       "  </tbody>\n",
       "</table>\n",
       "</div>"
      ],
      "text/plain": [
       "                    Player   Age Team Pos     G    FG   FGA    FG%   3P   3PA  \\\n",
       "0              Joel Embiid  29.0  PHI   C  39.0  11.5  21.8  0.529  1.4   3.6   \n",
       "1              Luka Dončić  24.0  DAL  PG  70.0  11.5  23.6  0.487  4.1  10.6   \n",
       "2    Giannis Antetokounmpo  29.0  MIL  PF  73.0  11.5  18.8  0.611  0.5   1.7   \n",
       "3  Shai Gilgeous-Alexander  25.0  OKC  PG  75.0  10.6  19.8  0.535  1.3   3.6   \n",
       "4            Jalen Brunson  27.0  NYK  PG  77.0  10.3  21.4  0.479  2.7   6.8   \n",
       "\n",
       "     3P%    2P%    FT%  ORB  DRB   TRB  AST  STL  BLK  TOV   PTS   Season  \n",
       "0  0.388  0.556  0.883  2.4  8.6  11.0  5.6  1.2  1.7  3.8  34.7  2023-24  \n",
       "1  0.382  0.573  0.786  0.8  8.4   9.2  9.8  1.4  0.5  4.0  33.9  2023-24  \n",
       "2  0.274  0.645  0.657  2.7  8.8  11.5  6.5  1.2  1.1  3.4  30.4  2023-24  \n",
       "3  0.353  0.576  0.874  0.9  4.7   5.5  6.2  2.0  0.9  2.2  30.1  2023-24  \n",
       "4  0.401  0.516  0.847  0.6  3.1   3.6  6.7  0.9  0.2  2.4  28.7  2023-24  "
      ]
     },
     "execution_count": 463,
     "metadata": {},
     "output_type": "execute_result"
    }
   ],
   "source": [
    "df_2023 = pd.read_csv('nba2023.csv')\n",
    "#Display all columns\n",
    "pd.set_option('display.max_columns', None)\n",
    "df_2023.head()"
   ]
  },
  {
   "cell_type": "markdown",
   "metadata": {},
   "source": [
    "# EDA"
   ]
  },
  {
   "cell_type": "markdown",
   "metadata": {},
   "source": [
    "## Aggregate Data"
   ]
  },
  {
   "cell_type": "code",
   "execution_count": 464,
   "metadata": {},
   "outputs": [
    {
     "data": {
      "text/html": [
       "<div>\n",
       "<style scoped>\n",
       "    .dataframe tbody tr th:only-of-type {\n",
       "        vertical-align: middle;\n",
       "    }\n",
       "\n",
       "    .dataframe tbody tr th {\n",
       "        vertical-align: top;\n",
       "    }\n",
       "\n",
       "    .dataframe thead th {\n",
       "        text-align: right;\n",
       "    }\n",
       "</style>\n",
       "<table border=\"1\" class=\"dataframe\">\n",
       "  <thead>\n",
       "    <tr style=\"text-align: right;\">\n",
       "      <th></th>\n",
       "      <th>Player</th>\n",
       "      <th>Team</th>\n",
       "      <th>Pos</th>\n",
       "      <th>Age</th>\n",
       "      <th>G</th>\n",
       "      <th>FG</th>\n",
       "      <th>FGA</th>\n",
       "      <th>FG%</th>\n",
       "      <th>3P</th>\n",
       "      <th>3PA</th>\n",
       "      <th>3P%</th>\n",
       "      <th>2P%</th>\n",
       "      <th>FT%</th>\n",
       "      <th>ORB</th>\n",
       "      <th>DRB</th>\n",
       "      <th>REB</th>\n",
       "      <th>AST</th>\n",
       "      <th>STL</th>\n",
       "      <th>BLK</th>\n",
       "      <th>TOV</th>\n",
       "      <th>PTS</th>\n",
       "    </tr>\n",
       "  </thead>\n",
       "  <tbody>\n",
       "    <tr>\n",
       "      <th>0</th>\n",
       "      <td>A.J. Green</td>\n",
       "      <td>MIL</td>\n",
       "      <td>SG</td>\n",
       "      <td>24.0</td>\n",
       "      <td>46.0</td>\n",
       "      <td>1.5</td>\n",
       "      <td>3.6</td>\n",
       "      <td>0.424</td>\n",
       "      <td>1.2</td>\n",
       "      <td>3.0</td>\n",
       "      <td>0.414</td>\n",
       "      <td>0.485</td>\n",
       "      <td>0.948</td>\n",
       "      <td>0.2</td>\n",
       "      <td>1.0</td>\n",
       "      <td>1.2</td>\n",
       "      <td>0.6</td>\n",
       "      <td>0.2</td>\n",
       "      <td>0.0</td>\n",
       "      <td>0.2</td>\n",
       "      <td>4.4</td>\n",
       "    </tr>\n",
       "    <tr>\n",
       "      <th>1</th>\n",
       "      <td>A.J. Lawson</td>\n",
       "      <td>DAL, 2TM, MIN</td>\n",
       "      <td>SG</td>\n",
       "      <td>22.0</td>\n",
       "      <td>18.0</td>\n",
       "      <td>1.3</td>\n",
       "      <td>2.5</td>\n",
       "      <td>0.608</td>\n",
       "      <td>0.4</td>\n",
       "      <td>1.2</td>\n",
       "      <td>0.265</td>\n",
       "      <td>0.705</td>\n",
       "      <td>0.288</td>\n",
       "      <td>0.3</td>\n",
       "      <td>1.0</td>\n",
       "      <td>1.2</td>\n",
       "      <td>0.2</td>\n",
       "      <td>0.1</td>\n",
       "      <td>0.0</td>\n",
       "      <td>0.2</td>\n",
       "      <td>3.2</td>\n",
       "    </tr>\n",
       "    <tr>\n",
       "      <th>2</th>\n",
       "      <td>AJ Griffin</td>\n",
       "      <td>ATL</td>\n",
       "      <td>SF</td>\n",
       "      <td>20.0</td>\n",
       "      <td>46.0</td>\n",
       "      <td>2.2</td>\n",
       "      <td>5.2</td>\n",
       "      <td>0.378</td>\n",
       "      <td>1.0</td>\n",
       "      <td>2.8</td>\n",
       "      <td>0.323</td>\n",
       "      <td>0.442</td>\n",
       "      <td>0.947</td>\n",
       "      <td>0.3</td>\n",
       "      <td>1.2</td>\n",
       "      <td>1.5</td>\n",
       "      <td>0.6</td>\n",
       "      <td>0.4</td>\n",
       "      <td>0.2</td>\n",
       "      <td>0.5</td>\n",
       "      <td>5.6</td>\n",
       "    </tr>\n",
       "    <tr>\n",
       "      <th>3</th>\n",
       "      <td>Aaron Gordon</td>\n",
       "      <td>ORL, 2TM, DEN</td>\n",
       "      <td>PF</td>\n",
       "      <td>26.0</td>\n",
       "      <td>53.0</td>\n",
       "      <td>5.2</td>\n",
       "      <td>10.3</td>\n",
       "      <td>0.507</td>\n",
       "      <td>1.0</td>\n",
       "      <td>3.1</td>\n",
       "      <td>0.325</td>\n",
       "      <td>0.578</td>\n",
       "      <td>0.666</td>\n",
       "      <td>1.8</td>\n",
       "      <td>4.1</td>\n",
       "      <td>6.0</td>\n",
       "      <td>3.1</td>\n",
       "      <td>0.7</td>\n",
       "      <td>0.7</td>\n",
       "      <td>1.7</td>\n",
       "      <td>13.7</td>\n",
       "    </tr>\n",
       "    <tr>\n",
       "      <th>4</th>\n",
       "      <td>Aaron Henry</td>\n",
       "      <td>PHI</td>\n",
       "      <td>SF</td>\n",
       "      <td>22.0</td>\n",
       "      <td>6.0</td>\n",
       "      <td>0.2</td>\n",
       "      <td>0.8</td>\n",
       "      <td>0.200</td>\n",
       "      <td>0.0</td>\n",
       "      <td>0.2</td>\n",
       "      <td>0.000</td>\n",
       "      <td>0.250</td>\n",
       "      <td>0.000</td>\n",
       "      <td>0.0</td>\n",
       "      <td>0.2</td>\n",
       "      <td>0.2</td>\n",
       "      <td>0.0</td>\n",
       "      <td>0.0</td>\n",
       "      <td>0.3</td>\n",
       "      <td>0.3</td>\n",
       "      <td>0.3</td>\n",
       "    </tr>\n",
       "  </tbody>\n",
       "</table>\n",
       "</div>"
      ],
      "text/plain": [
       "         Player           Team Pos   Age     G   FG   FGA    FG%   3P  3PA  \\\n",
       "0    A.J. Green            MIL  SG  24.0  46.0  1.5   3.6  0.424  1.2  3.0   \n",
       "1   A.J. Lawson  DAL, 2TM, MIN  SG  22.0  18.0  1.3   2.5  0.608  0.4  1.2   \n",
       "2    AJ Griffin            ATL  SF  20.0  46.0  2.2   5.2  0.378  1.0  2.8   \n",
       "3  Aaron Gordon  ORL, 2TM, DEN  PF  26.0  53.0  5.2  10.3  0.507  1.0  3.1   \n",
       "4   Aaron Henry            PHI  SF  22.0   6.0  0.2   0.8  0.200  0.0  0.2   \n",
       "\n",
       "     3P%    2P%    FT%  ORB  DRB  REB  AST  STL  BLK  TOV   PTS  \n",
       "0  0.414  0.485  0.948  0.2  1.0  1.2  0.6  0.2  0.0  0.2   4.4  \n",
       "1  0.265  0.705  0.288  0.3  1.0  1.2  0.2  0.1  0.0  0.2   3.2  \n",
       "2  0.323  0.442  0.947  0.3  1.2  1.5  0.6  0.4  0.2  0.5   5.6  \n",
       "3  0.325  0.578  0.666  1.8  4.1  6.0  3.1  0.7  0.7  1.7  13.7  \n",
       "4  0.000  0.250  0.000  0.0  0.2  0.2  0.0  0.0  0.3  0.3   0.3  "
      ]
     },
     "execution_count": 464,
     "metadata": {},
     "output_type": "execute_result"
    }
   ],
   "source": [
    "# Combine all datasets\n",
    "combined_df = pd.concat([df_2020, df_2021, df_2022, df_2023], ignore_index=True)\n",
    "\n",
    "# Group by each unique player while handling non-numeric columns\n",
    "grouped_df = combined_df.groupby('Player').agg({\n",
    "    'Age': 'mean',\n",
    "    'G': 'mean',\n",
    "    'FG': 'mean',\n",
    "    'FGA': 'mean',\n",
    "    'FG%': 'mean',\n",
    "    '3P': 'mean',\n",
    "    '3PA': 'mean',\n",
    "    '3P%': 'mean',\n",
    "    '2P%': 'mean',\n",
    "    'FT%': 'mean',\n",
    "    'ORB': 'mean',\n",
    "    'DRB': 'mean',\n",
    "    'TRB': 'mean',\n",
    "    'AST': 'mean',\n",
    "    'STL': 'mean',\n",
    "    'BLK': 'mean',\n",
    "    'TOV': 'mean',\n",
    "    'PTS': 'mean',\n",
    "    'Team': lambda x: ', '.join(set(x.dropna())),  # Join all teams a player played for\n",
    "    'Pos': lambda x: ', '.join(set(x.dropna()))  # Join all positions a player played\n",
    "}).reset_index()\n",
    "\n",
    "# Create a copy to avoid modifying grouped_df in-place\n",
    "average_stats = grouped_df.copy()\n",
    "\n",
    "# Apply decimal formatting only to numeric columns\n",
    "average_stats = average_stats.assign(\n",
    "    PTS = average_stats['PTS'].round(1),\n",
    "    Age = average_stats['Age'].round(0),\n",
    "    G = average_stats['G'].round(0),\n",
    "    FG = average_stats['FG'].round(1),\n",
    "    FGA = average_stats['FGA'].round(1),\n",
    "    FGP = average_stats['FG%'].round(3),\n",
    "    TP = average_stats['3P'].round(1),\n",
    "    TPA = average_stats['3PA'].round(1),\n",
    "    TPP = average_stats['3P%'].round(3),\n",
    "    TWPP = average_stats['2P%'].round(3),\n",
    "    FT = average_stats['FT%'].round(3),\n",
    "    ORB = average_stats['ORB'].round(1),\n",
    "    DRB = average_stats['DRB'].round(1),\n",
    "    TRB = average_stats['TRB'].round(1),\n",
    "    AST = average_stats['AST'].round(1),\n",
    "    STL = average_stats['STL'].round(1),\n",
    "    BLK = average_stats['BLK'].round(1),\n",
    "    TOV = average_stats['TOV'].round(1)\n",
    ")\n",
    "\n",
    "# Drop unnecessary columns\n",
    "average_stats = average_stats.drop(columns=['FG%', '3P%', 'FT%', '3P', '3PA', '2P%'])\n",
    "\n",
    "# Reorder columns\n",
    "column_order = ['Player', 'Team', 'Pos', 'Age', 'G', 'FG', 'FGA', 'FG%', '3P', '3PA', '3P%', '2P%', 'FT%', \n",
    "                'ORB', 'DRB', 'REB', 'AST', 'STL', 'BLK', 'TOV', 'PTS']\n",
    "\n",
    "average_stats.rename(columns={'FGP': 'FG%', 'TP': '3P', 'TPA': '3PA', 'TPP': '3P%', 'TWPP': '2P%', 'FT': 'FT%', 'TRB': 'REB'}, inplace=True)\n",
    "\n",
    "# Ensure we only select columns that exist in the DataFrame\n",
    "average_stats = average_stats[[col for col in column_order if col in average_stats.columns]]\n",
    "\n",
    "# Display first rows\n",
    "average_stats.head()\n"
   ]
  },
  {
   "cell_type": "code",
   "execution_count": 465,
   "metadata": {},
   "outputs": [],
   "source": [
    "# Save the dataset to a CSV file\n",
    "average_stats.to_csv('average_stats.csv', index = False)\n",
    "average_stats = pd.read_csv('average_stats.csv')"
   ]
  },
  {
   "cell_type": "markdown",
   "metadata": {},
   "source": [
    "__Who are the Top 15 scorers (PTS) in every season?__"
   ]
  },
  {
   "cell_type": "code",
   "execution_count": 466,
   "metadata": {},
   "outputs": [
    {
     "data": {
      "text/html": [
       "<div>\n",
       "<style scoped>\n",
       "    .dataframe tbody tr th:only-of-type {\n",
       "        vertical-align: middle;\n",
       "    }\n",
       "\n",
       "    .dataframe tbody tr th {\n",
       "        vertical-align: top;\n",
       "    }\n",
       "\n",
       "    .dataframe thead th {\n",
       "        text-align: right;\n",
       "    }\n",
       "</style>\n",
       "<table border=\"1\" class=\"dataframe\">\n",
       "  <thead>\n",
       "    <tr style=\"text-align: right;\">\n",
       "      <th></th>\n",
       "      <th>Player</th>\n",
       "      <th>Team</th>\n",
       "      <th>Pos</th>\n",
       "      <th>Age</th>\n",
       "      <th>G</th>\n",
       "      <th>FG</th>\n",
       "      <th>FGA</th>\n",
       "      <th>FG%</th>\n",
       "      <th>3P</th>\n",
       "      <th>3PA</th>\n",
       "      <th>3P%</th>\n",
       "      <th>2P%</th>\n",
       "      <th>FT%</th>\n",
       "      <th>ORB</th>\n",
       "      <th>DRB</th>\n",
       "      <th>REB</th>\n",
       "      <th>AST</th>\n",
       "      <th>STL</th>\n",
       "      <th>BLK</th>\n",
       "      <th>TOV</th>\n",
       "      <th>PTS</th>\n",
       "    </tr>\n",
       "  </thead>\n",
       "  <tbody>\n",
       "    <tr>\n",
       "      <th>884</th>\n",
       "      <td>Zion Williamson</td>\n",
       "      <td>NOP</td>\n",
       "      <td>PF</td>\n",
       "      <td>22.0</td>\n",
       "      <td>53.0</td>\n",
       "      <td>9.7</td>\n",
       "      <td>16.3</td>\n",
       "      <td>0.596</td>\n",
       "      <td>0.2</td>\n",
       "      <td>0.5</td>\n",
       "      <td>0.332</td>\n",
       "      <td>0.605</td>\n",
       "      <td>0.705</td>\n",
       "      <td>2.1</td>\n",
       "      <td>4.5</td>\n",
       "      <td>6.7</td>\n",
       "      <td>4.4</td>\n",
       "      <td>1.0</td>\n",
       "      <td>0.6</td>\n",
       "      <td>3.0</td>\n",
       "      <td>25.3</td>\n",
       "    </tr>\n",
       "    <tr>\n",
       "      <th>662</th>\n",
       "      <td>Nikola Jokić</td>\n",
       "      <td>DEN</td>\n",
       "      <td>C</td>\n",
       "      <td>26.0</td>\n",
       "      <td>74.0</td>\n",
       "      <td>10.1</td>\n",
       "      <td>17.1</td>\n",
       "      <td>0.591</td>\n",
       "      <td>1.1</td>\n",
       "      <td>3.1</td>\n",
       "      <td>0.367</td>\n",
       "      <td>0.640</td>\n",
       "      <td>0.829</td>\n",
       "      <td>2.7</td>\n",
       "      <td>9.5</td>\n",
       "      <td>12.2</td>\n",
       "      <td>8.8</td>\n",
       "      <td>1.4</td>\n",
       "      <td>0.8</td>\n",
       "      <td>3.4</td>\n",
       "      <td>26.1</td>\n",
       "    </tr>\n",
       "    <tr>\n",
       "      <th>814</th>\n",
       "      <td>Trae Young</td>\n",
       "      <td>ATL</td>\n",
       "      <td>PG</td>\n",
       "      <td>24.0</td>\n",
       "      <td>66.0</td>\n",
       "      <td>8.3</td>\n",
       "      <td>18.9</td>\n",
       "      <td>0.439</td>\n",
       "      <td>2.7</td>\n",
       "      <td>7.3</td>\n",
       "      <td>0.358</td>\n",
       "      <td>0.490</td>\n",
       "      <td>0.883</td>\n",
       "      <td>0.6</td>\n",
       "      <td>2.7</td>\n",
       "      <td>3.4</td>\n",
       "      <td>10.0</td>\n",
       "      <td>1.0</td>\n",
       "      <td>0.2</td>\n",
       "      <td>4.2</td>\n",
       "      <td>26.4</td>\n",
       "    </tr>\n",
       "    <tr>\n",
       "      <th>228</th>\n",
       "      <td>Donovan Mitchell</td>\n",
       "      <td>CLE, UTA</td>\n",
       "      <td>PG, SG</td>\n",
       "      <td>26.0</td>\n",
       "      <td>61.0</td>\n",
       "      <td>9.3</td>\n",
       "      <td>20.4</td>\n",
       "      <td>0.458</td>\n",
       "      <td>3.4</td>\n",
       "      <td>9.2</td>\n",
       "      <td>0.374</td>\n",
       "      <td>0.528</td>\n",
       "      <td>0.857</td>\n",
       "      <td>0.8</td>\n",
       "      <td>3.6</td>\n",
       "      <td>4.5</td>\n",
       "      <td>5.2</td>\n",
       "      <td>1.4</td>\n",
       "      <td>0.4</td>\n",
       "      <td>2.8</td>\n",
       "      <td>26.8</td>\n",
       "    </tr>\n",
       "    <tr>\n",
       "      <th>545</th>\n",
       "      <td>Kyrie Irving</td>\n",
       "      <td>DAL, 2TM, BRK</td>\n",
       "      <td>PG, SG</td>\n",
       "      <td>30.0</td>\n",
       "      <td>44.0</td>\n",
       "      <td>9.9</td>\n",
       "      <td>20.1</td>\n",
       "      <td>0.494</td>\n",
       "      <td>3.1</td>\n",
       "      <td>7.8</td>\n",
       "      <td>0.396</td>\n",
       "      <td>0.556</td>\n",
       "      <td>0.913</td>\n",
       "      <td>0.9</td>\n",
       "      <td>4.0</td>\n",
       "      <td>4.9</td>\n",
       "      <td>5.6</td>\n",
       "      <td>1.2</td>\n",
       "      <td>0.7</td>\n",
       "      <td>2.2</td>\n",
       "      <td>26.8</td>\n",
       "    </tr>\n",
       "    <tr>\n",
       "      <th>215</th>\n",
       "      <td>Devin Booker</td>\n",
       "      <td>PHO</td>\n",
       "      <td>PG, SG</td>\n",
       "      <td>26.0</td>\n",
       "      <td>64.0</td>\n",
       "      <td>9.6</td>\n",
       "      <td>19.8</td>\n",
       "      <td>0.484</td>\n",
       "      <td>2.2</td>\n",
       "      <td>6.2</td>\n",
       "      <td>0.360</td>\n",
       "      <td>0.539</td>\n",
       "      <td>0.869</td>\n",
       "      <td>0.7</td>\n",
       "      <td>3.9</td>\n",
       "      <td>4.6</td>\n",
       "      <td>5.4</td>\n",
       "      <td>1.0</td>\n",
       "      <td>0.3</td>\n",
       "      <td>2.7</td>\n",
       "      <td>26.8</td>\n",
       "    </tr>\n",
       "    <tr>\n",
       "      <th>165</th>\n",
       "      <td>Damian Lillard</td>\n",
       "      <td>POR, MIL</td>\n",
       "      <td>PG</td>\n",
       "      <td>32.0</td>\n",
       "      <td>57.0</td>\n",
       "      <td>8.4</td>\n",
       "      <td>19.3</td>\n",
       "      <td>0.435</td>\n",
       "      <td>3.6</td>\n",
       "      <td>10.0</td>\n",
       "      <td>0.360</td>\n",
       "      <td>0.517</td>\n",
       "      <td>0.910</td>\n",
       "      <td>0.6</td>\n",
       "      <td>3.8</td>\n",
       "      <td>4.4</td>\n",
       "      <td>7.3</td>\n",
       "      <td>0.8</td>\n",
       "      <td>0.3</td>\n",
       "      <td>3.0</td>\n",
       "      <td>27.3</td>\n",
       "    </tr>\n",
       "    <tr>\n",
       "      <th>763</th>\n",
       "      <td>Shai Gilgeous-Alexander</td>\n",
       "      <td>OKC</td>\n",
       "      <td>PG, SG</td>\n",
       "      <td>24.0</td>\n",
       "      <td>58.0</td>\n",
       "      <td>9.4</td>\n",
       "      <td>18.8</td>\n",
       "      <td>0.502</td>\n",
       "      <td>1.5</td>\n",
       "      <td>4.1</td>\n",
       "      <td>0.354</td>\n",
       "      <td>0.542</td>\n",
       "      <td>0.849</td>\n",
       "      <td>0.8</td>\n",
       "      <td>4.3</td>\n",
       "      <td>5.0</td>\n",
       "      <td>5.9</td>\n",
       "      <td>1.4</td>\n",
       "      <td>0.8</td>\n",
       "      <td>2.7</td>\n",
       "      <td>27.4</td>\n",
       "    </tr>\n",
       "    <tr>\n",
       "      <th>554</th>\n",
       "      <td>LeBron James</td>\n",
       "      <td>LAL</td>\n",
       "      <td>PG, C, PF</td>\n",
       "      <td>38.0</td>\n",
       "      <td>57.0</td>\n",
       "      <td>10.4</td>\n",
       "      <td>20.0</td>\n",
       "      <td>0.519</td>\n",
       "      <td>2.4</td>\n",
       "      <td>6.6</td>\n",
       "      <td>0.364</td>\n",
       "      <td>0.596</td>\n",
       "      <td>0.743</td>\n",
       "      <td>1.0</td>\n",
       "      <td>6.9</td>\n",
       "      <td>7.9</td>\n",
       "      <td>7.3</td>\n",
       "      <td>1.2</td>\n",
       "      <td>0.7</td>\n",
       "      <td>3.5</td>\n",
       "      <td>27.5</td>\n",
       "    </tr>\n",
       "    <tr>\n",
       "      <th>413</th>\n",
       "      <td>Jayson Tatum</td>\n",
       "      <td>BOS</td>\n",
       "      <td>PF, SF</td>\n",
       "      <td>24.0</td>\n",
       "      <td>72.0</td>\n",
       "      <td>9.4</td>\n",
       "      <td>20.4</td>\n",
       "      <td>0.462</td>\n",
       "      <td>3.0</td>\n",
       "      <td>8.4</td>\n",
       "      <td>0.366</td>\n",
       "      <td>0.532</td>\n",
       "      <td>0.852</td>\n",
       "      <td>1.0</td>\n",
       "      <td>7.1</td>\n",
       "      <td>8.1</td>\n",
       "      <td>4.6</td>\n",
       "      <td>1.1</td>\n",
       "      <td>0.6</td>\n",
       "      <td>2.8</td>\n",
       "      <td>27.6</td>\n",
       "    </tr>\n",
       "    <tr>\n",
       "      <th>517</th>\n",
       "      <td>Kevin Durant</td>\n",
       "      <td>2TM, BRK, PHO</td>\n",
       "      <td>PF</td>\n",
       "      <td>34.0</td>\n",
       "      <td>43.0</td>\n",
       "      <td>10.0</td>\n",
       "      <td>18.3</td>\n",
       "      <td>0.545</td>\n",
       "      <td>2.2</td>\n",
       "      <td>5.2</td>\n",
       "      <td>0.427</td>\n",
       "      <td>0.590</td>\n",
       "      <td>0.889</td>\n",
       "      <td>0.4</td>\n",
       "      <td>6.4</td>\n",
       "      <td>6.8</td>\n",
       "      <td>5.1</td>\n",
       "      <td>0.7</td>\n",
       "      <td>1.3</td>\n",
       "      <td>3.2</td>\n",
       "      <td>28.1</td>\n",
       "    </tr>\n",
       "    <tr>\n",
       "      <th>776</th>\n",
       "      <td>Stephen Curry</td>\n",
       "      <td>GSW</td>\n",
       "      <td>PG</td>\n",
       "      <td>34.0</td>\n",
       "      <td>64.0</td>\n",
       "      <td>9.4</td>\n",
       "      <td>20.1</td>\n",
       "      <td>0.466</td>\n",
       "      <td>4.9</td>\n",
       "      <td>11.9</td>\n",
       "      <td>0.409</td>\n",
       "      <td>0.548</td>\n",
       "      <td>0.919</td>\n",
       "      <td>0.6</td>\n",
       "      <td>4.8</td>\n",
       "      <td>5.3</td>\n",
       "      <td>5.9</td>\n",
       "      <td>1.0</td>\n",
       "      <td>0.3</td>\n",
       "      <td>3.2</td>\n",
       "      <td>28.3</td>\n",
       "    </tr>\n",
       "    <tr>\n",
       "      <th>291</th>\n",
       "      <td>Giannis Antetokounmpo</td>\n",
       "      <td>MIL</td>\n",
       "      <td>PF</td>\n",
       "      <td>28.0</td>\n",
       "      <td>66.0</td>\n",
       "      <td>10.8</td>\n",
       "      <td>18.9</td>\n",
       "      <td>0.572</td>\n",
       "      <td>0.8</td>\n",
       "      <td>2.9</td>\n",
       "      <td>0.286</td>\n",
       "      <td>0.623</td>\n",
       "      <td>0.677</td>\n",
       "      <td>2.1</td>\n",
       "      <td>9.4</td>\n",
       "      <td>11.5</td>\n",
       "      <td>6.0</td>\n",
       "      <td>1.1</td>\n",
       "      <td>1.1</td>\n",
       "      <td>3.5</td>\n",
       "      <td>29.9</td>\n",
       "    </tr>\n",
       "    <tr>\n",
       "      <th>567</th>\n",
       "      <td>Luka Dončić</td>\n",
       "      <td>DAL</td>\n",
       "      <td>PG</td>\n",
       "      <td>22.0</td>\n",
       "      <td>67.0</td>\n",
       "      <td>10.5</td>\n",
       "      <td>21.9</td>\n",
       "      <td>0.480</td>\n",
       "      <td>3.2</td>\n",
       "      <td>9.0</td>\n",
       "      <td>0.357</td>\n",
       "      <td>0.564</td>\n",
       "      <td>0.750</td>\n",
       "      <td>0.8</td>\n",
       "      <td>7.9</td>\n",
       "      <td>8.7</td>\n",
       "      <td>8.8</td>\n",
       "      <td>1.2</td>\n",
       "      <td>0.5</td>\n",
       "      <td>4.1</td>\n",
       "      <td>30.6</td>\n",
       "    </tr>\n",
       "    <tr>\n",
       "      <th>436</th>\n",
       "      <td>Joel Embiid</td>\n",
       "      <td>PHI</td>\n",
       "      <td>C</td>\n",
       "      <td>28.0</td>\n",
       "      <td>56.0</td>\n",
       "      <td>10.3</td>\n",
       "      <td>19.8</td>\n",
       "      <td>0.522</td>\n",
       "      <td>1.2</td>\n",
       "      <td>3.3</td>\n",
       "      <td>0.366</td>\n",
       "      <td>0.553</td>\n",
       "      <td>0.853</td>\n",
       "      <td>2.1</td>\n",
       "      <td>8.8</td>\n",
       "      <td>10.9</td>\n",
       "      <td>4.2</td>\n",
       "      <td>1.1</td>\n",
       "      <td>1.6</td>\n",
       "      <td>3.4</td>\n",
       "      <td>31.7</td>\n",
       "    </tr>\n",
       "  </tbody>\n",
       "</table>\n",
       "</div>"
      ],
      "text/plain": [
       "                      Player           Team        Pos   Age     G    FG  \\\n",
       "884          Zion Williamson            NOP         PF  22.0  53.0   9.7   \n",
       "662             Nikola Jokić            DEN          C  26.0  74.0  10.1   \n",
       "814               Trae Young            ATL         PG  24.0  66.0   8.3   \n",
       "228         Donovan Mitchell       CLE, UTA     PG, SG  26.0  61.0   9.3   \n",
       "545             Kyrie Irving  DAL, 2TM, BRK     PG, SG  30.0  44.0   9.9   \n",
       "215             Devin Booker            PHO     PG, SG  26.0  64.0   9.6   \n",
       "165           Damian Lillard       POR, MIL         PG  32.0  57.0   8.4   \n",
       "763  Shai Gilgeous-Alexander            OKC     PG, SG  24.0  58.0   9.4   \n",
       "554             LeBron James            LAL  PG, C, PF  38.0  57.0  10.4   \n",
       "413             Jayson Tatum            BOS     PF, SF  24.0  72.0   9.4   \n",
       "517             Kevin Durant  2TM, BRK, PHO         PF  34.0  43.0  10.0   \n",
       "776            Stephen Curry            GSW         PG  34.0  64.0   9.4   \n",
       "291    Giannis Antetokounmpo            MIL         PF  28.0  66.0  10.8   \n",
       "567              Luka Dončić            DAL         PG  22.0  67.0  10.5   \n",
       "436              Joel Embiid            PHI          C  28.0  56.0  10.3   \n",
       "\n",
       "      FGA    FG%   3P   3PA    3P%    2P%    FT%  ORB  DRB   REB   AST  STL  \\\n",
       "884  16.3  0.596  0.2   0.5  0.332  0.605  0.705  2.1  4.5   6.7   4.4  1.0   \n",
       "662  17.1  0.591  1.1   3.1  0.367  0.640  0.829  2.7  9.5  12.2   8.8  1.4   \n",
       "814  18.9  0.439  2.7   7.3  0.358  0.490  0.883  0.6  2.7   3.4  10.0  1.0   \n",
       "228  20.4  0.458  3.4   9.2  0.374  0.528  0.857  0.8  3.6   4.5   5.2  1.4   \n",
       "545  20.1  0.494  3.1   7.8  0.396  0.556  0.913  0.9  4.0   4.9   5.6  1.2   \n",
       "215  19.8  0.484  2.2   6.2  0.360  0.539  0.869  0.7  3.9   4.6   5.4  1.0   \n",
       "165  19.3  0.435  3.6  10.0  0.360  0.517  0.910  0.6  3.8   4.4   7.3  0.8   \n",
       "763  18.8  0.502  1.5   4.1  0.354  0.542  0.849  0.8  4.3   5.0   5.9  1.4   \n",
       "554  20.0  0.519  2.4   6.6  0.364  0.596  0.743  1.0  6.9   7.9   7.3  1.2   \n",
       "413  20.4  0.462  3.0   8.4  0.366  0.532  0.852  1.0  7.1   8.1   4.6  1.1   \n",
       "517  18.3  0.545  2.2   5.2  0.427  0.590  0.889  0.4  6.4   6.8   5.1  0.7   \n",
       "776  20.1  0.466  4.9  11.9  0.409  0.548  0.919  0.6  4.8   5.3   5.9  1.0   \n",
       "291  18.9  0.572  0.8   2.9  0.286  0.623  0.677  2.1  9.4  11.5   6.0  1.1   \n",
       "567  21.9  0.480  3.2   9.0  0.357  0.564  0.750  0.8  7.9   8.7   8.8  1.2   \n",
       "436  19.8  0.522  1.2   3.3  0.366  0.553  0.853  2.1  8.8  10.9   4.2  1.1   \n",
       "\n",
       "     BLK  TOV   PTS  \n",
       "884  0.6  3.0  25.3  \n",
       "662  0.8  3.4  26.1  \n",
       "814  0.2  4.2  26.4  \n",
       "228  0.4  2.8  26.8  \n",
       "545  0.7  2.2  26.8  \n",
       "215  0.3  2.7  26.8  \n",
       "165  0.3  3.0  27.3  \n",
       "763  0.8  2.7  27.4  \n",
       "554  0.7  3.5  27.5  \n",
       "413  0.6  2.8  27.6  \n",
       "517  1.3  3.2  28.1  \n",
       "776  0.3  3.2  28.3  \n",
       "291  1.1  3.5  29.9  \n",
       "567  0.5  4.1  30.6  \n",
       "436  1.6  3.4  31.7  "
      ]
     },
     "execution_count": 466,
     "metadata": {},
     "output_type": "execute_result"
    }
   ],
   "source": [
    "# Top 15 players with the highest average points per game\n",
    "top15_scorers = average_stats[average_stats.PTS == average_stats.PTS].sort_values(by='PTS', ascending=True).tail(15)\n",
    "top15_scorers"
   ]
  },
  {
   "cell_type": "markdown",
   "metadata": {},
   "source": [
    "__Who are the Top 15 rebounders in every season?__"
   ]
  },
  {
   "cell_type": "code",
   "execution_count": 467,
   "metadata": {},
   "outputs": [
    {
     "data": {
      "text/html": [
       "<div>\n",
       "<style scoped>\n",
       "    .dataframe tbody tr th:only-of-type {\n",
       "        vertical-align: middle;\n",
       "    }\n",
       "\n",
       "    .dataframe tbody tr th {\n",
       "        vertical-align: top;\n",
       "    }\n",
       "\n",
       "    .dataframe thead th {\n",
       "        text-align: right;\n",
       "    }\n",
       "</style>\n",
       "<table border=\"1\" class=\"dataframe\">\n",
       "  <thead>\n",
       "    <tr style=\"text-align: right;\">\n",
       "      <th></th>\n",
       "      <th>Player</th>\n",
       "      <th>Team</th>\n",
       "      <th>Pos</th>\n",
       "      <th>Age</th>\n",
       "      <th>G</th>\n",
       "      <th>FG</th>\n",
       "      <th>FGA</th>\n",
       "      <th>FG%</th>\n",
       "      <th>3P</th>\n",
       "      <th>3PA</th>\n",
       "      <th>3P%</th>\n",
       "      <th>2P%</th>\n",
       "      <th>FT%</th>\n",
       "      <th>ORB</th>\n",
       "      <th>DRB</th>\n",
       "      <th>REB</th>\n",
       "      <th>AST</th>\n",
       "      <th>STL</th>\n",
       "      <th>BLK</th>\n",
       "      <th>TOV</th>\n",
       "      <th>PTS</th>\n",
       "    </tr>\n",
       "  </thead>\n",
       "  <tbody>\n",
       "    <tr>\n",
       "      <th>738</th>\n",
       "      <td>Rudy Gobert</td>\n",
       "      <td>MIN, UTA</td>\n",
       "      <td>C</td>\n",
       "      <td>30.0</td>\n",
       "      <td>71.0</td>\n",
       "      <td>5.4</td>\n",
       "      <td>8.0</td>\n",
       "      <td>0.677</td>\n",
       "      <td>0.0</td>\n",
       "      <td>0.0</td>\n",
       "      <td>0.000</td>\n",
       "      <td>0.681</td>\n",
       "      <td>0.649</td>\n",
       "      <td>3.6</td>\n",
       "      <td>9.6</td>\n",
       "      <td>13.2</td>\n",
       "      <td>1.2</td>\n",
       "      <td>0.7</td>\n",
       "      <td>2.1</td>\n",
       "      <td>1.7</td>\n",
       "      <td>14.3</td>\n",
       "    </tr>\n",
       "    <tr>\n",
       "      <th>226</th>\n",
       "      <td>Domantas Sabonis</td>\n",
       "      <td>2TM, SAC, IND</td>\n",
       "      <td>PF, C</td>\n",
       "      <td>25.0</td>\n",
       "      <td>58.0</td>\n",
       "      <td>7.4</td>\n",
       "      <td>12.9</td>\n",
       "      <td>0.575</td>\n",
       "      <td>0.5</td>\n",
       "      <td>1.7</td>\n",
       "      <td>0.324</td>\n",
       "      <td>0.613</td>\n",
       "      <td>0.734</td>\n",
       "      <td>3.1</td>\n",
       "      <td>9.3</td>\n",
       "      <td>12.4</td>\n",
       "      <td>6.4</td>\n",
       "      <td>1.0</td>\n",
       "      <td>0.5</td>\n",
       "      <td>3.2</td>\n",
       "      <td>19.2</td>\n",
       "    </tr>\n",
       "    <tr>\n",
       "      <th>662</th>\n",
       "      <td>Nikola Jokić</td>\n",
       "      <td>DEN</td>\n",
       "      <td>C</td>\n",
       "      <td>26.0</td>\n",
       "      <td>74.0</td>\n",
       "      <td>10.1</td>\n",
       "      <td>17.1</td>\n",
       "      <td>0.591</td>\n",
       "      <td>1.1</td>\n",
       "      <td>3.1</td>\n",
       "      <td>0.367</td>\n",
       "      <td>0.640</td>\n",
       "      <td>0.829</td>\n",
       "      <td>2.7</td>\n",
       "      <td>9.5</td>\n",
       "      <td>12.2</td>\n",
       "      <td>8.8</td>\n",
       "      <td>1.4</td>\n",
       "      <td>0.8</td>\n",
       "      <td>3.4</td>\n",
       "      <td>26.1</td>\n",
       "    </tr>\n",
       "    <tr>\n",
       "      <th>139</th>\n",
       "      <td>Clint Capela</td>\n",
       "      <td>ATL</td>\n",
       "      <td>C</td>\n",
       "      <td>28.0</td>\n",
       "      <td>69.0</td>\n",
       "      <td>5.4</td>\n",
       "      <td>9.0</td>\n",
       "      <td>0.608</td>\n",
       "      <td>0.0</td>\n",
       "      <td>0.0</td>\n",
       "      <td>0.000</td>\n",
       "      <td>0.608</td>\n",
       "      <td>0.570</td>\n",
       "      <td>4.3</td>\n",
       "      <td>7.7</td>\n",
       "      <td>12.0</td>\n",
       "      <td>1.0</td>\n",
       "      <td>0.7</td>\n",
       "      <td>1.5</td>\n",
       "      <td>0.9</td>\n",
       "      <td>12.4</td>\n",
       "    </tr>\n",
       "    <tr>\n",
       "      <th>291</th>\n",
       "      <td>Giannis Antetokounmpo</td>\n",
       "      <td>MIL</td>\n",
       "      <td>PF</td>\n",
       "      <td>28.0</td>\n",
       "      <td>66.0</td>\n",
       "      <td>10.8</td>\n",
       "      <td>18.9</td>\n",
       "      <td>0.572</td>\n",
       "      <td>0.8</td>\n",
       "      <td>2.9</td>\n",
       "      <td>0.286</td>\n",
       "      <td>0.623</td>\n",
       "      <td>0.677</td>\n",
       "      <td>2.1</td>\n",
       "      <td>9.4</td>\n",
       "      <td>11.5</td>\n",
       "      <td>6.0</td>\n",
       "      <td>1.1</td>\n",
       "      <td>1.1</td>\n",
       "      <td>3.5</td>\n",
       "      <td>29.9</td>\n",
       "    </tr>\n",
       "    <tr>\n",
       "      <th>664</th>\n",
       "      <td>Nikola Vučević</td>\n",
       "      <td>ORL, 2TM, CHI</td>\n",
       "      <td>C</td>\n",
       "      <td>31.0</td>\n",
       "      <td>62.0</td>\n",
       "      <td>8.5</td>\n",
       "      <td>17.5</td>\n",
       "      <td>0.484</td>\n",
       "      <td>1.9</td>\n",
       "      <td>5.2</td>\n",
       "      <td>0.358</td>\n",
       "      <td>0.536</td>\n",
       "      <td>0.826</td>\n",
       "      <td>2.2</td>\n",
       "      <td>9.1</td>\n",
       "      <td>11.2</td>\n",
       "      <td>3.5</td>\n",
       "      <td>0.9</td>\n",
       "      <td>0.8</td>\n",
       "      <td>1.8</td>\n",
       "      <td>20.4</td>\n",
       "    </tr>\n",
       "    <tr>\n",
       "      <th>436</th>\n",
       "      <td>Joel Embiid</td>\n",
       "      <td>PHI</td>\n",
       "      <td>C</td>\n",
       "      <td>28.0</td>\n",
       "      <td>56.0</td>\n",
       "      <td>10.3</td>\n",
       "      <td>19.8</td>\n",
       "      <td>0.522</td>\n",
       "      <td>1.2</td>\n",
       "      <td>3.3</td>\n",
       "      <td>0.366</td>\n",
       "      <td>0.553</td>\n",
       "      <td>0.853</td>\n",
       "      <td>2.1</td>\n",
       "      <td>8.8</td>\n",
       "      <td>10.9</td>\n",
       "      <td>4.2</td>\n",
       "      <td>1.1</td>\n",
       "      <td>1.6</td>\n",
       "      <td>3.4</td>\n",
       "      <td>31.7</td>\n",
       "    </tr>\n",
       "    <tr>\n",
       "      <th>42</th>\n",
       "      <td>Anthony Davis</td>\n",
       "      <td>LAL</td>\n",
       "      <td>PF, C</td>\n",
       "      <td>28.0</td>\n",
       "      <td>52.0</td>\n",
       "      <td>9.2</td>\n",
       "      <td>17.1</td>\n",
       "      <td>0.536</td>\n",
       "      <td>0.4</td>\n",
       "      <td>1.8</td>\n",
       "      <td>0.244</td>\n",
       "      <td>0.570</td>\n",
       "      <td>0.763</td>\n",
       "      <td>2.8</td>\n",
       "      <td>8.0</td>\n",
       "      <td>10.7</td>\n",
       "      <td>3.1</td>\n",
       "      <td>1.2</td>\n",
       "      <td>2.0</td>\n",
       "      <td>2.1</td>\n",
       "      <td>23.9</td>\n",
       "    </tr>\n",
       "    <tr>\n",
       "      <th>444</th>\n",
       "      <td>Jonas Valančiūnas</td>\n",
       "      <td>NOP, MEM</td>\n",
       "      <td>C</td>\n",
       "      <td>30.0</td>\n",
       "      <td>74.0</td>\n",
       "      <td>6.1</td>\n",
       "      <td>11.0</td>\n",
       "      <td>0.560</td>\n",
       "      <td>0.5</td>\n",
       "      <td>1.5</td>\n",
       "      <td>0.346</td>\n",
       "      <td>0.594</td>\n",
       "      <td>0.801</td>\n",
       "      <td>3.1</td>\n",
       "      <td>7.6</td>\n",
       "      <td>10.7</td>\n",
       "      <td>2.1</td>\n",
       "      <td>0.5</td>\n",
       "      <td>0.8</td>\n",
       "      <td>1.8</td>\n",
       "      <td>15.3</td>\n",
       "    </tr>\n",
       "    <tr>\n",
       "      <th>855</th>\n",
       "      <td>Victor Wembanyama</td>\n",
       "      <td>SAS</td>\n",
       "      <td>C</td>\n",
       "      <td>20.0</td>\n",
       "      <td>71.0</td>\n",
       "      <td>7.8</td>\n",
       "      <td>16.7</td>\n",
       "      <td>0.465</td>\n",
       "      <td>1.8</td>\n",
       "      <td>5.5</td>\n",
       "      <td>0.325</td>\n",
       "      <td>0.534</td>\n",
       "      <td>0.796</td>\n",
       "      <td>2.3</td>\n",
       "      <td>8.4</td>\n",
       "      <td>10.6</td>\n",
       "      <td>3.9</td>\n",
       "      <td>1.2</td>\n",
       "      <td>3.6</td>\n",
       "      <td>3.7</td>\n",
       "      <td>21.4</td>\n",
       "    </tr>\n",
       "    <tr>\n",
       "      <th>198</th>\n",
       "      <td>Deandre Ayton</td>\n",
       "      <td>POR, PHO</td>\n",
       "      <td>C</td>\n",
       "      <td>24.0</td>\n",
       "      <td>62.0</td>\n",
       "      <td>7.4</td>\n",
       "      <td>12.2</td>\n",
       "      <td>0.605</td>\n",
       "      <td>0.1</td>\n",
       "      <td>0.3</td>\n",
       "      <td>0.240</td>\n",
       "      <td>0.613</td>\n",
       "      <td>0.774</td>\n",
       "      <td>2.9</td>\n",
       "      <td>7.6</td>\n",
       "      <td>10.4</td>\n",
       "      <td>1.5</td>\n",
       "      <td>0.7</td>\n",
       "      <td>0.9</td>\n",
       "      <td>1.7</td>\n",
       "      <td>16.6</td>\n",
       "    </tr>\n",
       "    <tr>\n",
       "      <th>395</th>\n",
       "      <td>Jarrett Allen</td>\n",
       "      <td>CLE, 2TM, BRK</td>\n",
       "      <td>C</td>\n",
       "      <td>23.0</td>\n",
       "      <td>54.0</td>\n",
       "      <td>5.4</td>\n",
       "      <td>8.5</td>\n",
       "      <td>0.643</td>\n",
       "      <td>0.0</td>\n",
       "      <td>0.2</td>\n",
       "      <td>0.139</td>\n",
       "      <td>0.652</td>\n",
       "      <td>0.722</td>\n",
       "      <td>3.2</td>\n",
       "      <td>7.0</td>\n",
       "      <td>10.2</td>\n",
       "      <td>1.8</td>\n",
       "      <td>0.6</td>\n",
       "      <td>1.3</td>\n",
       "      <td>1.6</td>\n",
       "      <td>14.0</td>\n",
       "    </tr>\n",
       "    <tr>\n",
       "      <th>364</th>\n",
       "      <td>Jalen Duren</td>\n",
       "      <td>DET</td>\n",
       "      <td>C</td>\n",
       "      <td>20.0</td>\n",
       "      <td>64.0</td>\n",
       "      <td>4.8</td>\n",
       "      <td>7.6</td>\n",
       "      <td>0.634</td>\n",
       "      <td>0.0</td>\n",
       "      <td>0.0</td>\n",
       "      <td>0.000</td>\n",
       "      <td>0.638</td>\n",
       "      <td>0.700</td>\n",
       "      <td>3.2</td>\n",
       "      <td>7.0</td>\n",
       "      <td>10.2</td>\n",
       "      <td>1.8</td>\n",
       "      <td>0.6</td>\n",
       "      <td>0.8</td>\n",
       "      <td>1.8</td>\n",
       "      <td>11.4</td>\n",
       "    </tr>\n",
       "    <tr>\n",
       "      <th>778</th>\n",
       "      <td>Steven Adams</td>\n",
       "      <td>NOP, MEM</td>\n",
       "      <td>C</td>\n",
       "      <td>28.0</td>\n",
       "      <td>59.0</td>\n",
       "      <td>3.3</td>\n",
       "      <td>5.6</td>\n",
       "      <td>0.586</td>\n",
       "      <td>0.0</td>\n",
       "      <td>0.0</td>\n",
       "      <td>0.000</td>\n",
       "      <td>0.589</td>\n",
       "      <td>0.450</td>\n",
       "      <td>4.5</td>\n",
       "      <td>5.7</td>\n",
       "      <td>10.1</td>\n",
       "      <td>2.5</td>\n",
       "      <td>0.9</td>\n",
       "      <td>0.9</td>\n",
       "      <td>1.6</td>\n",
       "      <td>7.7</td>\n",
       "    </tr>\n",
       "    <tr>\n",
       "      <th>489</th>\n",
       "      <td>Jusuf Nurkić</td>\n",
       "      <td>POR, PHO</td>\n",
       "      <td>C</td>\n",
       "      <td>28.0</td>\n",
       "      <td>55.0</td>\n",
       "      <td>4.9</td>\n",
       "      <td>9.4</td>\n",
       "      <td>0.520</td>\n",
       "      <td>0.4</td>\n",
       "      <td>1.3</td>\n",
       "      <td>0.318</td>\n",
       "      <td>0.552</td>\n",
       "      <td>0.652</td>\n",
       "      <td>2.6</td>\n",
       "      <td>7.4</td>\n",
       "      <td>10.0</td>\n",
       "      <td>3.3</td>\n",
       "      <td>1.0</td>\n",
       "      <td>0.9</td>\n",
       "      <td>2.3</td>\n",
       "      <td>12.7</td>\n",
       "    </tr>\n",
       "  </tbody>\n",
       "</table>\n",
       "</div>"
      ],
      "text/plain": [
       "                    Player           Team    Pos   Age     G    FG   FGA  \\\n",
       "738            Rudy Gobert       MIN, UTA      C  30.0  71.0   5.4   8.0   \n",
       "226       Domantas Sabonis  2TM, SAC, IND  PF, C  25.0  58.0   7.4  12.9   \n",
       "662           Nikola Jokić            DEN      C  26.0  74.0  10.1  17.1   \n",
       "139           Clint Capela            ATL      C  28.0  69.0   5.4   9.0   \n",
       "291  Giannis Antetokounmpo            MIL     PF  28.0  66.0  10.8  18.9   \n",
       "664         Nikola Vučević  ORL, 2TM, CHI      C  31.0  62.0   8.5  17.5   \n",
       "436            Joel Embiid            PHI      C  28.0  56.0  10.3  19.8   \n",
       "42           Anthony Davis            LAL  PF, C  28.0  52.0   9.2  17.1   \n",
       "444      Jonas Valančiūnas       NOP, MEM      C  30.0  74.0   6.1  11.0   \n",
       "855      Victor Wembanyama            SAS      C  20.0  71.0   7.8  16.7   \n",
       "198          Deandre Ayton       POR, PHO      C  24.0  62.0   7.4  12.2   \n",
       "395          Jarrett Allen  CLE, 2TM, BRK      C  23.0  54.0   5.4   8.5   \n",
       "364            Jalen Duren            DET      C  20.0  64.0   4.8   7.6   \n",
       "778           Steven Adams       NOP, MEM      C  28.0  59.0   3.3   5.6   \n",
       "489           Jusuf Nurkić       POR, PHO      C  28.0  55.0   4.9   9.4   \n",
       "\n",
       "       FG%   3P  3PA    3P%    2P%    FT%  ORB  DRB   REB  AST  STL  BLK  TOV  \\\n",
       "738  0.677  0.0  0.0  0.000  0.681  0.649  3.6  9.6  13.2  1.2  0.7  2.1  1.7   \n",
       "226  0.575  0.5  1.7  0.324  0.613  0.734  3.1  9.3  12.4  6.4  1.0  0.5  3.2   \n",
       "662  0.591  1.1  3.1  0.367  0.640  0.829  2.7  9.5  12.2  8.8  1.4  0.8  3.4   \n",
       "139  0.608  0.0  0.0  0.000  0.608  0.570  4.3  7.7  12.0  1.0  0.7  1.5  0.9   \n",
       "291  0.572  0.8  2.9  0.286  0.623  0.677  2.1  9.4  11.5  6.0  1.1  1.1  3.5   \n",
       "664  0.484  1.9  5.2  0.358  0.536  0.826  2.2  9.1  11.2  3.5  0.9  0.8  1.8   \n",
       "436  0.522  1.2  3.3  0.366  0.553  0.853  2.1  8.8  10.9  4.2  1.1  1.6  3.4   \n",
       "42   0.536  0.4  1.8  0.244  0.570  0.763  2.8  8.0  10.7  3.1  1.2  2.0  2.1   \n",
       "444  0.560  0.5  1.5  0.346  0.594  0.801  3.1  7.6  10.7  2.1  0.5  0.8  1.8   \n",
       "855  0.465  1.8  5.5  0.325  0.534  0.796  2.3  8.4  10.6  3.9  1.2  3.6  3.7   \n",
       "198  0.605  0.1  0.3  0.240  0.613  0.774  2.9  7.6  10.4  1.5  0.7  0.9  1.7   \n",
       "395  0.643  0.0  0.2  0.139  0.652  0.722  3.2  7.0  10.2  1.8  0.6  1.3  1.6   \n",
       "364  0.634  0.0  0.0  0.000  0.638  0.700  3.2  7.0  10.2  1.8  0.6  0.8  1.8   \n",
       "778  0.586  0.0  0.0  0.000  0.589  0.450  4.5  5.7  10.1  2.5  0.9  0.9  1.6   \n",
       "489  0.520  0.4  1.3  0.318  0.552  0.652  2.6  7.4  10.0  3.3  1.0  0.9  2.3   \n",
       "\n",
       "      PTS  \n",
       "738  14.3  \n",
       "226  19.2  \n",
       "662  26.1  \n",
       "139  12.4  \n",
       "291  29.9  \n",
       "664  20.4  \n",
       "436  31.7  \n",
       "42   23.9  \n",
       "444  15.3  \n",
       "855  21.4  \n",
       "198  16.6  \n",
       "395  14.0  \n",
       "364  11.4  \n",
       "778   7.7  \n",
       "489  12.7  "
      ]
     },
     "execution_count": 467,
     "metadata": {},
     "output_type": "execute_result"
    }
   ],
   "source": [
    "# Top 15 rebounders with the highest average rebounds per game\n",
    "top15_rebounders = average_stats[average_stats.REB == average_stats.REB].sort_values(by='REB', ascending=False).head(15)\n",
    "top15_rebounders"
   ]
  },
  {
   "cell_type": "markdown",
   "metadata": {},
   "source": [
    "__Who are the Top 10 players with the highest 3P%? (Attempts at least 5 three-pointers per game)__"
   ]
  },
  {
   "cell_type": "code",
   "execution_count": null,
   "metadata": {},
   "outputs": [
    {
     "data": {
      "text/html": [
       "<div>\n",
       "<style scoped>\n",
       "    .dataframe tbody tr th:only-of-type {\n",
       "        vertical-align: middle;\n",
       "    }\n",
       "\n",
       "    .dataframe tbody tr th {\n",
       "        vertical-align: top;\n",
       "    }\n",
       "\n",
       "    .dataframe thead th {\n",
       "        text-align: right;\n",
       "    }\n",
       "</style>\n",
       "<table border=\"1\" class=\"dataframe\">\n",
       "  <thead>\n",
       "    <tr style=\"text-align: right;\">\n",
       "      <th></th>\n",
       "      <th>Player</th>\n",
       "      <th>Team</th>\n",
       "      <th>Pos</th>\n",
       "      <th>Age</th>\n",
       "      <th>G</th>\n",
       "      <th>FG</th>\n",
       "      <th>FGA</th>\n",
       "      <th>FG%</th>\n",
       "      <th>3P</th>\n",
       "      <th>3PA</th>\n",
       "      <th>3P%</th>\n",
       "      <th>2P%</th>\n",
       "      <th>FT%</th>\n",
       "      <th>ORB</th>\n",
       "      <th>DRB</th>\n",
       "      <th>REB</th>\n",
       "      <th>AST</th>\n",
       "      <th>STL</th>\n",
       "      <th>BLK</th>\n",
       "      <th>TOV</th>\n",
       "      <th>PTS</th>\n",
       "    </tr>\n",
       "  </thead>\n",
       "  <tbody>\n",
       "    <tr>\n",
       "      <th>517</th>\n",
       "      <td>Kevin Durant</td>\n",
       "      <td>2TM, BRK, PHO</td>\n",
       "      <td>PF</td>\n",
       "      <td>34.0</td>\n",
       "      <td>43.0</td>\n",
       "      <td>10.0</td>\n",
       "      <td>18.3</td>\n",
       "      <td>0.545</td>\n",
       "      <td>2.2</td>\n",
       "      <td>5.2</td>\n",
       "      <td>0.427</td>\n",
       "      <td>0.590</td>\n",
       "      <td>0.889</td>\n",
       "      <td>0.4</td>\n",
       "      <td>6.4</td>\n",
       "      <td>6.8</td>\n",
       "      <td>5.1</td>\n",
       "      <td>0.7</td>\n",
       "      <td>1.3</td>\n",
       "      <td>3.2</td>\n",
       "      <td>28.1</td>\n",
       "    </tr>\n",
       "    <tr>\n",
       "      <th>667</th>\n",
       "      <td>Norman Powell</td>\n",
       "      <td>POR, 2TM, TOR, LAC</td>\n",
       "      <td>SG, SF</td>\n",
       "      <td>28.0</td>\n",
       "      <td>46.0</td>\n",
       "      <td>6.0</td>\n",
       "      <td>12.7</td>\n",
       "      <td>0.476</td>\n",
       "      <td>2.3</td>\n",
       "      <td>5.5</td>\n",
       "      <td>0.426</td>\n",
       "      <td>0.516</td>\n",
       "      <td>0.841</td>\n",
       "      <td>0.5</td>\n",
       "      <td>2.5</td>\n",
       "      <td>3.0</td>\n",
       "      <td>1.9</td>\n",
       "      <td>0.9</td>\n",
       "      <td>0.4</td>\n",
       "      <td>1.5</td>\n",
       "      <td>18.2</td>\n",
       "    </tr>\n",
       "    <tr>\n",
       "      <th>300</th>\n",
       "      <td>Grayson Allen</td>\n",
       "      <td>MEM, PHO, MIL</td>\n",
       "      <td>SG</td>\n",
       "      <td>26.0</td>\n",
       "      <td>66.0</td>\n",
       "      <td>3.8</td>\n",
       "      <td>8.4</td>\n",
       "      <td>0.451</td>\n",
       "      <td>2.3</td>\n",
       "      <td>5.6</td>\n",
       "      <td>0.415</td>\n",
       "      <td>0.523</td>\n",
       "      <td>0.879</td>\n",
       "      <td>0.6</td>\n",
       "      <td>2.8</td>\n",
       "      <td>3.4</td>\n",
       "      <td>2.2</td>\n",
       "      <td>0.8</td>\n",
       "      <td>0.3</td>\n",
       "      <td>1.0</td>\n",
       "      <td>11.4</td>\n",
       "    </tr>\n",
       "    <tr>\n",
       "      <th>214</th>\n",
       "      <td>Desmond Bane</td>\n",
       "      <td>MEM</td>\n",
       "      <td>SG</td>\n",
       "      <td>24.0</td>\n",
       "      <td>61.0</td>\n",
       "      <td>6.6</td>\n",
       "      <td>14.1</td>\n",
       "      <td>0.468</td>\n",
       "      <td>2.7</td>\n",
       "      <td>6.6</td>\n",
       "      <td>0.414</td>\n",
       "      <td>0.517</td>\n",
       "      <td>0.868</td>\n",
       "      <td>0.7</td>\n",
       "      <td>3.6</td>\n",
       "      <td>4.2</td>\n",
       "      <td>3.6</td>\n",
       "      <td>1.0</td>\n",
       "      <td>0.4</td>\n",
       "      <td>1.8</td>\n",
       "      <td>18.2</td>\n",
       "    </tr>\n",
       "    <tr>\n",
       "      <th>378</th>\n",
       "      <td>Jamal Murray</td>\n",
       "      <td>DEN</td>\n",
       "      <td>PG</td>\n",
       "      <td>25.0</td>\n",
       "      <td>57.0</td>\n",
       "      <td>7.7</td>\n",
       "      <td>16.4</td>\n",
       "      <td>0.471</td>\n",
       "      <td>2.6</td>\n",
       "      <td>6.3</td>\n",
       "      <td>0.410</td>\n",
       "      <td>0.509</td>\n",
       "      <td>0.852</td>\n",
       "      <td>0.7</td>\n",
       "      <td>3.3</td>\n",
       "      <td>4.0</td>\n",
       "      <td>5.8</td>\n",
       "      <td>1.1</td>\n",
       "      <td>0.4</td>\n",
       "      <td>2.2</td>\n",
       "      <td>20.8</td>\n",
       "    </tr>\n",
       "    <tr>\n",
       "      <th>776</th>\n",
       "      <td>Stephen Curry</td>\n",
       "      <td>GSW</td>\n",
       "      <td>PG</td>\n",
       "      <td>34.0</td>\n",
       "      <td>64.0</td>\n",
       "      <td>9.4</td>\n",
       "      <td>20.1</td>\n",
       "      <td>0.466</td>\n",
       "      <td>4.9</td>\n",
       "      <td>11.9</td>\n",
       "      <td>0.409</td>\n",
       "      <td>0.548</td>\n",
       "      <td>0.919</td>\n",
       "      <td>0.6</td>\n",
       "      <td>4.8</td>\n",
       "      <td>5.3</td>\n",
       "      <td>5.9</td>\n",
       "      <td>1.0</td>\n",
       "      <td>0.3</td>\n",
       "      <td>3.2</td>\n",
       "      <td>28.3</td>\n",
       "    </tr>\n",
       "    <tr>\n",
       "      <th>861</th>\n",
       "      <td>Wayne Ellington</td>\n",
       "      <td>DET, LAL</td>\n",
       "      <td>SG</td>\n",
       "      <td>34.0</td>\n",
       "      <td>44.0</td>\n",
       "      <td>2.8</td>\n",
       "      <td>6.4</td>\n",
       "      <td>0.428</td>\n",
       "      <td>2.2</td>\n",
       "      <td>5.4</td>\n",
       "      <td>0.406</td>\n",
       "      <td>0.570</td>\n",
       "      <td>0.809</td>\n",
       "      <td>0.2</td>\n",
       "      <td>1.6</td>\n",
       "      <td>1.8</td>\n",
       "      <td>1.1</td>\n",
       "      <td>0.4</td>\n",
       "      <td>0.2</td>\n",
       "      <td>0.6</td>\n",
       "      <td>8.2</td>\n",
       "    </tr>\n",
       "    <tr>\n",
       "      <th>622</th>\n",
       "      <td>Mike Conley</td>\n",
       "      <td>2TM, MIN, UTA</td>\n",
       "      <td>PG</td>\n",
       "      <td>35.0</td>\n",
       "      <td>56.0</td>\n",
       "      <td>4.4</td>\n",
       "      <td>9.9</td>\n",
       "      <td>0.439</td>\n",
       "      <td>2.3</td>\n",
       "      <td>5.6</td>\n",
       "      <td>0.405</td>\n",
       "      <td>0.482</td>\n",
       "      <td>0.845</td>\n",
       "      <td>0.6</td>\n",
       "      <td>2.4</td>\n",
       "      <td>2.9</td>\n",
       "      <td>6.1</td>\n",
       "      <td>1.2</td>\n",
       "      <td>0.2</td>\n",
       "      <td>1.6</td>\n",
       "      <td>13.0</td>\n",
       "    </tr>\n",
       "    <tr>\n",
       "      <th>472</th>\n",
       "      <td>Jrue Holiday</td>\n",
       "      <td>BOS, MIL</td>\n",
       "      <td>PG</td>\n",
       "      <td>32.0</td>\n",
       "      <td>66.0</td>\n",
       "      <td>6.6</td>\n",
       "      <td>13.4</td>\n",
       "      <td>0.491</td>\n",
       "      <td>2.1</td>\n",
       "      <td>5.1</td>\n",
       "      <td>0.404</td>\n",
       "      <td>0.544</td>\n",
       "      <td>0.810</td>\n",
       "      <td>1.2</td>\n",
       "      <td>3.7</td>\n",
       "      <td>4.9</td>\n",
       "      <td>6.3</td>\n",
       "      <td>1.3</td>\n",
       "      <td>0.6</td>\n",
       "      <td>2.4</td>\n",
       "      <td>17.0</td>\n",
       "    </tr>\n",
       "    <tr>\n",
       "      <th>844</th>\n",
       "      <td>Tyrese Haliburton</td>\n",
       "      <td>2TM, SAC, IND</td>\n",
       "      <td>PG, SG</td>\n",
       "      <td>21.0</td>\n",
       "      <td>56.0</td>\n",
       "      <td>6.1</td>\n",
       "      <td>12.8</td>\n",
       "      <td>0.478</td>\n",
       "      <td>2.4</td>\n",
       "      <td>5.9</td>\n",
       "      <td>0.403</td>\n",
       "      <td>0.545</td>\n",
       "      <td>0.852</td>\n",
       "      <td>0.7</td>\n",
       "      <td>3.1</td>\n",
       "      <td>3.8</td>\n",
       "      <td>8.6</td>\n",
       "      <td>1.6</td>\n",
       "      <td>0.6</td>\n",
       "      <td>2.4</td>\n",
       "      <td>16.8</td>\n",
       "    </tr>\n",
       "    <tr>\n",
       "      <th>563</th>\n",
       "      <td>Lonzo Ball</td>\n",
       "      <td>NOP, CHI</td>\n",
       "      <td>PG</td>\n",
       "      <td>24.0</td>\n",
       "      <td>45.0</td>\n",
       "      <td>4.9</td>\n",
       "      <td>11.8</td>\n",
       "      <td>0.418</td>\n",
       "      <td>3.1</td>\n",
       "      <td>7.8</td>\n",
       "      <td>0.400</td>\n",
       "      <td>0.452</td>\n",
       "      <td>0.766</td>\n",
       "      <td>0.8</td>\n",
       "      <td>4.3</td>\n",
       "      <td>5.1</td>\n",
       "      <td>5.4</td>\n",
       "      <td>1.6</td>\n",
       "      <td>0.8</td>\n",
       "      <td>2.2</td>\n",
       "      <td>13.8</td>\n",
       "    </tr>\n",
       "    <tr>\n",
       "      <th>105</th>\n",
       "      <td>Cameron Johnson</td>\n",
       "      <td>2TM, BRK, PHO</td>\n",
       "      <td>PF</td>\n",
       "      <td>26.0</td>\n",
       "      <td>45.0</td>\n",
       "      <td>4.7</td>\n",
       "      <td>10.2</td>\n",
       "      <td>0.456</td>\n",
       "      <td>2.4</td>\n",
       "      <td>6.0</td>\n",
       "      <td>0.399</td>\n",
       "      <td>0.540</td>\n",
       "      <td>0.834</td>\n",
       "      <td>0.8</td>\n",
       "      <td>3.4</td>\n",
       "      <td>4.1</td>\n",
       "      <td>1.8</td>\n",
       "      <td>1.0</td>\n",
       "      <td>0.3</td>\n",
       "      <td>0.8</td>\n",
       "      <td>13.6</td>\n",
       "    </tr>\n",
       "    <tr>\n",
       "      <th>40</th>\n",
       "      <td>Anfernee Simons</td>\n",
       "      <td>POR</td>\n",
       "      <td>SG</td>\n",
       "      <td>22.0</td>\n",
       "      <td>57.0</td>\n",
       "      <td>6.0</td>\n",
       "      <td>13.8</td>\n",
       "      <td>0.435</td>\n",
       "      <td>3.0</td>\n",
       "      <td>7.5</td>\n",
       "      <td>0.398</td>\n",
       "      <td>0.473</td>\n",
       "      <td>0.876</td>\n",
       "      <td>0.4</td>\n",
       "      <td>2.4</td>\n",
       "      <td>2.8</td>\n",
       "      <td>3.7</td>\n",
       "      <td>0.5</td>\n",
       "      <td>0.1</td>\n",
       "      <td>1.9</td>\n",
       "      <td>17.2</td>\n",
       "    </tr>\n",
       "    <tr>\n",
       "      <th>98</th>\n",
       "      <td>CJ McCollum</td>\n",
       "      <td>NOP, POR, 2TM</td>\n",
       "      <td>PG, SG</td>\n",
       "      <td>30.0</td>\n",
       "      <td>52.0</td>\n",
       "      <td>8.3</td>\n",
       "      <td>18.2</td>\n",
       "      <td>0.457</td>\n",
       "      <td>3.1</td>\n",
       "      <td>7.8</td>\n",
       "      <td>0.398</td>\n",
       "      <td>0.501</td>\n",
       "      <td>0.744</td>\n",
       "      <td>0.7</td>\n",
       "      <td>3.5</td>\n",
       "      <td>4.3</td>\n",
       "      <td>5.1</td>\n",
       "      <td>1.0</td>\n",
       "      <td>0.4</td>\n",
       "      <td>1.9</td>\n",
       "      <td>21.8</td>\n",
       "    </tr>\n",
       "    <tr>\n",
       "      <th>70</th>\n",
       "      <td>Bogdan Bogdanović</td>\n",
       "      <td>ATL</td>\n",
       "      <td>SG</td>\n",
       "      <td>30.0</td>\n",
       "      <td>60.0</td>\n",
       "      <td>5.6</td>\n",
       "      <td>12.6</td>\n",
       "      <td>0.445</td>\n",
       "      <td>2.9</td>\n",
       "      <td>7.4</td>\n",
       "      <td>0.396</td>\n",
       "      <td>0.512</td>\n",
       "      <td>0.876</td>\n",
       "      <td>0.5</td>\n",
       "      <td>3.0</td>\n",
       "      <td>3.5</td>\n",
       "      <td>3.1</td>\n",
       "      <td>1.0</td>\n",
       "      <td>0.3</td>\n",
       "      <td>1.2</td>\n",
       "      <td>15.6</td>\n",
       "    </tr>\n",
       "    <tr>\n",
       "      <th>545</th>\n",
       "      <td>Kyrie Irving</td>\n",
       "      <td>DAL, 2TM, BRK</td>\n",
       "      <td>PG, SG</td>\n",
       "      <td>30.0</td>\n",
       "      <td>44.0</td>\n",
       "      <td>9.9</td>\n",
       "      <td>20.1</td>\n",
       "      <td>0.494</td>\n",
       "      <td>3.1</td>\n",
       "      <td>7.8</td>\n",
       "      <td>0.396</td>\n",
       "      <td>0.556</td>\n",
       "      <td>0.913</td>\n",
       "      <td>0.9</td>\n",
       "      <td>4.0</td>\n",
       "      <td>4.9</td>\n",
       "      <td>5.6</td>\n",
       "      <td>1.2</td>\n",
       "      <td>0.7</td>\n",
       "      <td>2.2</td>\n",
       "      <td>26.8</td>\n",
       "    </tr>\n",
       "    <tr>\n",
       "      <th>533</th>\n",
       "      <td>Klay Thompson</td>\n",
       "      <td>GSW</td>\n",
       "      <td>SG, SF</td>\n",
       "      <td>32.0</td>\n",
       "      <td>59.0</td>\n",
       "      <td>7.3</td>\n",
       "      <td>16.9</td>\n",
       "      <td>0.432</td>\n",
       "      <td>3.8</td>\n",
       "      <td>9.6</td>\n",
       "      <td>0.395</td>\n",
       "      <td>0.483</td>\n",
       "      <td>0.903</td>\n",
       "      <td>0.5</td>\n",
       "      <td>3.3</td>\n",
       "      <td>3.8</td>\n",
       "      <td>2.5</td>\n",
       "      <td>0.6</td>\n",
       "      <td>0.5</td>\n",
       "      <td>1.5</td>\n",
       "      <td>20.1</td>\n",
       "    </tr>\n",
       "    <tr>\n",
       "      <th>496</th>\n",
       "      <td>Karl-Anthony Towns</td>\n",
       "      <td>MIN</td>\n",
       "      <td>PF, C</td>\n",
       "      <td>26.0</td>\n",
       "      <td>54.0</td>\n",
       "      <td>8.0</td>\n",
       "      <td>16.0</td>\n",
       "      <td>0.504</td>\n",
       "      <td>2.2</td>\n",
       "      <td>5.6</td>\n",
       "      <td>0.395</td>\n",
       "      <td>0.562</td>\n",
       "      <td>0.857</td>\n",
       "      <td>2.1</td>\n",
       "      <td>7.1</td>\n",
       "      <td>9.2</td>\n",
       "      <td>4.0</td>\n",
       "      <td>0.8</td>\n",
       "      <td>0.9</td>\n",
       "      <td>3.0</td>\n",
       "      <td>23.0</td>\n",
       "    </tr>\n",
       "    <tr>\n",
       "      <th>71</th>\n",
       "      <td>Bojan Bogdanović</td>\n",
       "      <td>NYK, 2TM, UTA, DET</td>\n",
       "      <td>PF, SF</td>\n",
       "      <td>33.0</td>\n",
       "      <td>52.0</td>\n",
       "      <td>5.9</td>\n",
       "      <td>12.8</td>\n",
       "      <td>0.456</td>\n",
       "      <td>2.4</td>\n",
       "      <td>6.1</td>\n",
       "      <td>0.395</td>\n",
       "      <td>0.511</td>\n",
       "      <td>0.831</td>\n",
       "      <td>0.5</td>\n",
       "      <td>2.8</td>\n",
       "      <td>3.4</td>\n",
       "      <td>1.9</td>\n",
       "      <td>0.5</td>\n",
       "      <td>0.1</td>\n",
       "      <td>1.9</td>\n",
       "      <td>17.1</td>\n",
       "    </tr>\n",
       "    <tr>\n",
       "      <th>112</th>\n",
       "      <td>Carmelo Anthony</td>\n",
       "      <td>POR, LAL</td>\n",
       "      <td>PF</td>\n",
       "      <td>36.0</td>\n",
       "      <td>69.0</td>\n",
       "      <td>4.6</td>\n",
       "      <td>10.9</td>\n",
       "      <td>0.431</td>\n",
       "      <td>2.0</td>\n",
       "      <td>5.2</td>\n",
       "      <td>0.392</td>\n",
       "      <td>0.475</td>\n",
       "      <td>0.860</td>\n",
       "      <td>0.7</td>\n",
       "      <td>3.0</td>\n",
       "      <td>3.6</td>\n",
       "      <td>1.2</td>\n",
       "      <td>0.7</td>\n",
       "      <td>0.7</td>\n",
       "      <td>0.9</td>\n",
       "      <td>13.4</td>\n",
       "    </tr>\n",
       "    <tr>\n",
       "      <th>179</th>\n",
       "      <td>Darius Garland</td>\n",
       "      <td>CLE</td>\n",
       "      <td>PG</td>\n",
       "      <td>22.0</td>\n",
       "      <td>62.0</td>\n",
       "      <td>7.2</td>\n",
       "      <td>15.8</td>\n",
       "      <td>0.455</td>\n",
       "      <td>2.3</td>\n",
       "      <td>6.0</td>\n",
       "      <td>0.390</td>\n",
       "      <td>0.496</td>\n",
       "      <td>0.859</td>\n",
       "      <td>0.5</td>\n",
       "      <td>2.3</td>\n",
       "      <td>2.8</td>\n",
       "      <td>7.2</td>\n",
       "      <td>1.2</td>\n",
       "      <td>0.1</td>\n",
       "      <td>3.2</td>\n",
       "      <td>19.7</td>\n",
       "    </tr>\n",
       "    <tr>\n",
       "      <th>154</th>\n",
       "      <td>D'Angelo Russell</td>\n",
       "      <td>2TM, MIN, LAL</td>\n",
       "      <td>PG</td>\n",
       "      <td>26.0</td>\n",
       "      <td>54.0</td>\n",
       "      <td>6.4</td>\n",
       "      <td>14.1</td>\n",
       "      <td>0.453</td>\n",
       "      <td>2.8</td>\n",
       "      <td>7.2</td>\n",
       "      <td>0.390</td>\n",
       "      <td>0.518</td>\n",
       "      <td>0.806</td>\n",
       "      <td>0.4</td>\n",
       "      <td>2.6</td>\n",
       "      <td>3.0</td>\n",
       "      <td>6.3</td>\n",
       "      <td>1.0</td>\n",
       "      <td>0.4</td>\n",
       "      <td>2.5</td>\n",
       "      <td>18.0</td>\n",
       "    </tr>\n",
       "    <tr>\n",
       "      <th>576</th>\n",
       "      <td>Malcolm Brogdon</td>\n",
       "      <td>POR, BOS, IND</td>\n",
       "      <td>PG</td>\n",
       "      <td>30.0</td>\n",
       "      <td>50.0</td>\n",
       "      <td>6.4</td>\n",
       "      <td>14.0</td>\n",
       "      <td>0.456</td>\n",
       "      <td>2.1</td>\n",
       "      <td>5.4</td>\n",
       "      <td>0.389</td>\n",
       "      <td>0.495</td>\n",
       "      <td>0.852</td>\n",
       "      <td>0.8</td>\n",
       "      <td>3.8</td>\n",
       "      <td>4.6</td>\n",
       "      <td>5.2</td>\n",
       "      <td>0.8</td>\n",
       "      <td>0.3</td>\n",
       "      <td>1.8</td>\n",
       "      <td>17.7</td>\n",
       "    </tr>\n",
       "    <tr>\n",
       "      <th>830</th>\n",
       "      <td>Trey Murphy III</td>\n",
       "      <td>NOP</td>\n",
       "      <td>SF</td>\n",
       "      <td>22.0</td>\n",
       "      <td>66.0</td>\n",
       "      <td>3.8</td>\n",
       "      <td>8.5</td>\n",
       "      <td>0.440</td>\n",
       "      <td>2.2</td>\n",
       "      <td>5.7</td>\n",
       "      <td>0.389</td>\n",
       "      <td>0.544</td>\n",
       "      <td>0.867</td>\n",
       "      <td>0.7</td>\n",
       "      <td>2.9</td>\n",
       "      <td>3.6</td>\n",
       "      <td>1.4</td>\n",
       "      <td>0.8</td>\n",
       "      <td>0.4</td>\n",
       "      <td>0.6</td>\n",
       "      <td>11.6</td>\n",
       "    </tr>\n",
       "    <tr>\n",
       "      <th>553</th>\n",
       "      <td>Lauri Markkanen</td>\n",
       "      <td>CLE, UTA, CHI</td>\n",
       "      <td>PF, SF</td>\n",
       "      <td>24.0</td>\n",
       "      <td>58.0</td>\n",
       "      <td>6.6</td>\n",
       "      <td>13.8</td>\n",
       "      <td>0.476</td>\n",
       "      <td>2.7</td>\n",
       "      <td>6.9</td>\n",
       "      <td>0.388</td>\n",
       "      <td>0.568</td>\n",
       "      <td>0.867</td>\n",
       "      <td>1.5</td>\n",
       "      <td>5.5</td>\n",
       "      <td>7.0</td>\n",
       "      <td>1.5</td>\n",
       "      <td>0.7</td>\n",
       "      <td>0.5</td>\n",
       "      <td>1.3</td>\n",
       "      <td>19.3</td>\n",
       "    </tr>\n",
       "    <tr>\n",
       "      <th>696</th>\n",
       "      <td>Paul George</td>\n",
       "      <td>LAC</td>\n",
       "      <td>PF, SF</td>\n",
       "      <td>32.0</td>\n",
       "      <td>54.0</td>\n",
       "      <td>8.2</td>\n",
       "      <td>18.2</td>\n",
       "      <td>0.454</td>\n",
       "      <td>3.0</td>\n",
       "      <td>7.9</td>\n",
       "      <td>0.387</td>\n",
       "      <td>0.505</td>\n",
       "      <td>0.876</td>\n",
       "      <td>0.6</td>\n",
       "      <td>5.6</td>\n",
       "      <td>6.2</td>\n",
       "      <td>4.9</td>\n",
       "      <td>1.6</td>\n",
       "      <td>0.4</td>\n",
       "      <td>3.2</td>\n",
       "      <td>23.5</td>\n",
       "    </tr>\n",
       "    <tr>\n",
       "      <th>149</th>\n",
       "      <td>Corey Kispert</td>\n",
       "      <td>WAS</td>\n",
       "      <td>SF</td>\n",
       "      <td>23.0</td>\n",
       "      <td>77.0</td>\n",
       "      <td>3.9</td>\n",
       "      <td>8.2</td>\n",
       "      <td>0.479</td>\n",
       "      <td>2.0</td>\n",
       "      <td>5.1</td>\n",
       "      <td>0.386</td>\n",
       "      <td>0.636</td>\n",
       "      <td>0.816</td>\n",
       "      <td>0.5</td>\n",
       "      <td>2.3</td>\n",
       "      <td>2.8</td>\n",
       "      <td>1.4</td>\n",
       "      <td>0.5</td>\n",
       "      <td>0.2</td>\n",
       "      <td>0.8</td>\n",
       "      <td>10.9</td>\n",
       "    </tr>\n",
       "    <tr>\n",
       "      <th>621</th>\n",
       "      <td>Mikal Bridges</td>\n",
       "      <td>2TM, BRK, PHO</td>\n",
       "      <td>SG, SF</td>\n",
       "      <td>26.0</td>\n",
       "      <td>67.0</td>\n",
       "      <td>6.6</td>\n",
       "      <td>13.8</td>\n",
       "      <td>0.486</td>\n",
       "      <td>2.1</td>\n",
       "      <td>5.4</td>\n",
       "      <td>0.385</td>\n",
       "      <td>0.552</td>\n",
       "      <td>0.862</td>\n",
       "      <td>1.0</td>\n",
       "      <td>3.4</td>\n",
       "      <td>4.4</td>\n",
       "      <td>2.9</td>\n",
       "      <td>1.1</td>\n",
       "      <td>0.6</td>\n",
       "      <td>1.4</td>\n",
       "      <td>18.4</td>\n",
       "    </tr>\n",
       "    <tr>\n",
       "      <th>95</th>\n",
       "      <td>Buddy Hield</td>\n",
       "      <td>2TM, PHI, SAC, IND</td>\n",
       "      <td>SG, SF</td>\n",
       "      <td>30.0</td>\n",
       "      <td>60.0</td>\n",
       "      <td>5.3</td>\n",
       "      <td>12.4</td>\n",
       "      <td>0.426</td>\n",
       "      <td>3.1</td>\n",
       "      <td>8.2</td>\n",
       "      <td>0.384</td>\n",
       "      <td>0.502</td>\n",
       "      <td>0.869</td>\n",
       "      <td>0.7</td>\n",
       "      <td>3.4</td>\n",
       "      <td>4.1</td>\n",
       "      <td>3.0</td>\n",
       "      <td>0.9</td>\n",
       "      <td>0.4</td>\n",
       "      <td>1.6</td>\n",
       "      <td>14.7</td>\n",
       "    </tr>\n",
       "    <tr>\n",
       "      <th>498</th>\n",
       "      <td>Keegan Murray</td>\n",
       "      <td>SAC</td>\n",
       "      <td>SF</td>\n",
       "      <td>22.0</td>\n",
       "      <td>78.0</td>\n",
       "      <td>5.1</td>\n",
       "      <td>11.2</td>\n",
       "      <td>0.454</td>\n",
       "      <td>2.5</td>\n",
       "      <td>6.4</td>\n",
       "      <td>0.384</td>\n",
       "      <td>0.544</td>\n",
       "      <td>0.798</td>\n",
       "      <td>1.2</td>\n",
       "      <td>3.8</td>\n",
       "      <td>5.0</td>\n",
       "      <td>1.4</td>\n",
       "      <td>0.9</td>\n",
       "      <td>0.6</td>\n",
       "      <td>0.8</td>\n",
       "      <td>13.7</td>\n",
       "    </tr>\n",
       "  </tbody>\n",
       "</table>\n",
       "</div>"
      ],
      "text/plain": [
       "                 Player                Team     Pos   Age     G    FG   FGA  \\\n",
       "517        Kevin Durant       2TM, BRK, PHO      PF  34.0  43.0  10.0  18.3   \n",
       "667       Norman Powell  POR, 2TM, TOR, LAC  SG, SF  28.0  46.0   6.0  12.7   \n",
       "300       Grayson Allen       MEM, PHO, MIL      SG  26.0  66.0   3.8   8.4   \n",
       "214        Desmond Bane                 MEM      SG  24.0  61.0   6.6  14.1   \n",
       "378        Jamal Murray                 DEN      PG  25.0  57.0   7.7  16.4   \n",
       "776       Stephen Curry                 GSW      PG  34.0  64.0   9.4  20.1   \n",
       "861     Wayne Ellington            DET, LAL      SG  34.0  44.0   2.8   6.4   \n",
       "622         Mike Conley       2TM, MIN, UTA      PG  35.0  56.0   4.4   9.9   \n",
       "472        Jrue Holiday            BOS, MIL      PG  32.0  66.0   6.6  13.4   \n",
       "844   Tyrese Haliburton       2TM, SAC, IND  PG, SG  21.0  56.0   6.1  12.8   \n",
       "563          Lonzo Ball            NOP, CHI      PG  24.0  45.0   4.9  11.8   \n",
       "105     Cameron Johnson       2TM, BRK, PHO      PF  26.0  45.0   4.7  10.2   \n",
       "40      Anfernee Simons                 POR      SG  22.0  57.0   6.0  13.8   \n",
       "98          CJ McCollum       NOP, POR, 2TM  PG, SG  30.0  52.0   8.3  18.2   \n",
       "70    Bogdan Bogdanović                 ATL      SG  30.0  60.0   5.6  12.6   \n",
       "545        Kyrie Irving       DAL, 2TM, BRK  PG, SG  30.0  44.0   9.9  20.1   \n",
       "533       Klay Thompson                 GSW  SG, SF  32.0  59.0   7.3  16.9   \n",
       "496  Karl-Anthony Towns                 MIN   PF, C  26.0  54.0   8.0  16.0   \n",
       "71     Bojan Bogdanović  NYK, 2TM, UTA, DET  PF, SF  33.0  52.0   5.9  12.8   \n",
       "112     Carmelo Anthony            POR, LAL      PF  36.0  69.0   4.6  10.9   \n",
       "179      Darius Garland                 CLE      PG  22.0  62.0   7.2  15.8   \n",
       "154    D'Angelo Russell       2TM, MIN, LAL      PG  26.0  54.0   6.4  14.1   \n",
       "576     Malcolm Brogdon       POR, BOS, IND      PG  30.0  50.0   6.4  14.0   \n",
       "830     Trey Murphy III                 NOP      SF  22.0  66.0   3.8   8.5   \n",
       "553     Lauri Markkanen       CLE, UTA, CHI  PF, SF  24.0  58.0   6.6  13.8   \n",
       "696         Paul George                 LAC  PF, SF  32.0  54.0   8.2  18.2   \n",
       "149       Corey Kispert                 WAS      SF  23.0  77.0   3.9   8.2   \n",
       "621       Mikal Bridges       2TM, BRK, PHO  SG, SF  26.0  67.0   6.6  13.8   \n",
       "95          Buddy Hield  2TM, PHI, SAC, IND  SG, SF  30.0  60.0   5.3  12.4   \n",
       "498       Keegan Murray                 SAC      SF  22.0  78.0   5.1  11.2   \n",
       "\n",
       "       FG%   3P   3PA    3P%    2P%    FT%  ORB  DRB  REB  AST  STL  BLK  TOV  \\\n",
       "517  0.545  2.2   5.2  0.427  0.590  0.889  0.4  6.4  6.8  5.1  0.7  1.3  3.2   \n",
       "667  0.476  2.3   5.5  0.426  0.516  0.841  0.5  2.5  3.0  1.9  0.9  0.4  1.5   \n",
       "300  0.451  2.3   5.6  0.415  0.523  0.879  0.6  2.8  3.4  2.2  0.8  0.3  1.0   \n",
       "214  0.468  2.7   6.6  0.414  0.517  0.868  0.7  3.6  4.2  3.6  1.0  0.4  1.8   \n",
       "378  0.471  2.6   6.3  0.410  0.509  0.852  0.7  3.3  4.0  5.8  1.1  0.4  2.2   \n",
       "776  0.466  4.9  11.9  0.409  0.548  0.919  0.6  4.8  5.3  5.9  1.0  0.3  3.2   \n",
       "861  0.428  2.2   5.4  0.406  0.570  0.809  0.2  1.6  1.8  1.1  0.4  0.2  0.6   \n",
       "622  0.439  2.3   5.6  0.405  0.482  0.845  0.6  2.4  2.9  6.1  1.2  0.2  1.6   \n",
       "472  0.491  2.1   5.1  0.404  0.544  0.810  1.2  3.7  4.9  6.3  1.3  0.6  2.4   \n",
       "844  0.478  2.4   5.9  0.403  0.545  0.852  0.7  3.1  3.8  8.6  1.6  0.6  2.4   \n",
       "563  0.418  3.1   7.8  0.400  0.452  0.766  0.8  4.3  5.1  5.4  1.6  0.8  2.2   \n",
       "105  0.456  2.4   6.0  0.399  0.540  0.834  0.8  3.4  4.1  1.8  1.0  0.3  0.8   \n",
       "40   0.435  3.0   7.5  0.398  0.473  0.876  0.4  2.4  2.8  3.7  0.5  0.1  1.9   \n",
       "98   0.457  3.1   7.8  0.398  0.501  0.744  0.7  3.5  4.3  5.1  1.0  0.4  1.9   \n",
       "70   0.445  2.9   7.4  0.396  0.512  0.876  0.5  3.0  3.5  3.1  1.0  0.3  1.2   \n",
       "545  0.494  3.1   7.8  0.396  0.556  0.913  0.9  4.0  4.9  5.6  1.2  0.7  2.2   \n",
       "533  0.432  3.8   9.6  0.395  0.483  0.903  0.5  3.3  3.8  2.5  0.6  0.5  1.5   \n",
       "496  0.504  2.2   5.6  0.395  0.562  0.857  2.1  7.1  9.2  4.0  0.8  0.9  3.0   \n",
       "71   0.456  2.4   6.1  0.395  0.511  0.831  0.5  2.8  3.4  1.9  0.5  0.1  1.9   \n",
       "112  0.431  2.0   5.2  0.392  0.475  0.860  0.7  3.0  3.6  1.2  0.7  0.7  0.9   \n",
       "179  0.455  2.3   6.0  0.390  0.496  0.859  0.5  2.3  2.8  7.2  1.2  0.1  3.2   \n",
       "154  0.453  2.8   7.2  0.390  0.518  0.806  0.4  2.6  3.0  6.3  1.0  0.4  2.5   \n",
       "576  0.456  2.1   5.4  0.389  0.495  0.852  0.8  3.8  4.6  5.2  0.8  0.3  1.8   \n",
       "830  0.440  2.2   5.7  0.389  0.544  0.867  0.7  2.9  3.6  1.4  0.8  0.4  0.6   \n",
       "553  0.476  2.7   6.9  0.388  0.568  0.867  1.5  5.5  7.0  1.5  0.7  0.5  1.3   \n",
       "696  0.454  3.0   7.9  0.387  0.505  0.876  0.6  5.6  6.2  4.9  1.6  0.4  3.2   \n",
       "149  0.479  2.0   5.1  0.386  0.636  0.816  0.5  2.3  2.8  1.4  0.5  0.2  0.8   \n",
       "621  0.486  2.1   5.4  0.385  0.552  0.862  1.0  3.4  4.4  2.9  1.1  0.6  1.4   \n",
       "95   0.426  3.1   8.2  0.384  0.502  0.869  0.7  3.4  4.1  3.0  0.9  0.4  1.6   \n",
       "498  0.454  2.5   6.4  0.384  0.544  0.798  1.2  3.8  5.0  1.4  0.9  0.6  0.8   \n",
       "\n",
       "      PTS  \n",
       "517  28.1  \n",
       "667  18.2  \n",
       "300  11.4  \n",
       "214  18.2  \n",
       "378  20.8  \n",
       "776  28.3  \n",
       "861   8.2  \n",
       "622  13.0  \n",
       "472  17.0  \n",
       "844  16.8  \n",
       "563  13.8  \n",
       "105  13.6  \n",
       "40   17.2  \n",
       "98   21.8  \n",
       "70   15.6  \n",
       "545  26.8  \n",
       "533  20.1  \n",
       "496  23.0  \n",
       "71   17.1  \n",
       "112  13.4  \n",
       "179  19.7  \n",
       "154  18.0  \n",
       "576  17.7  \n",
       "830  11.6  \n",
       "553  19.3  \n",
       "696  23.5  \n",
       "149  10.9  \n",
       "621  18.4  \n",
       "95   14.7  \n",
       "498  13.7  "
      ]
     },
     "execution_count": 468,
     "metadata": {},
     "output_type": "execute_result"
    }
   ],
   "source": [
    "# Top 30 players with the highest 3P% while attempting more than 5 threes a game.\n",
    "top30_3pt = average_stats[average_stats['3PA'] > 5].sort_values(by='3P%', ascending=False).head(30)\n",
    "top30_3pt"
   ]
  },
  {
   "cell_type": "code",
   "execution_count": null,
   "metadata": {},
   "outputs": [
    {
     "data": {
      "text/html": [
       "<div>\n",
       "<style scoped>\n",
       "    .dataframe tbody tr th:only-of-type {\n",
       "        vertical-align: middle;\n",
       "    }\n",
       "\n",
       "    .dataframe tbody tr th {\n",
       "        vertical-align: top;\n",
       "    }\n",
       "\n",
       "    .dataframe thead th {\n",
       "        text-align: right;\n",
       "    }\n",
       "</style>\n",
       "<table border=\"1\" class=\"dataframe\">\n",
       "  <thead>\n",
       "    <tr style=\"text-align: right;\">\n",
       "      <th></th>\n",
       "      <th>Player</th>\n",
       "      <th>Team</th>\n",
       "      <th>Pos</th>\n",
       "      <th>Age</th>\n",
       "      <th>G</th>\n",
       "      <th>FG</th>\n",
       "      <th>FGA</th>\n",
       "      <th>FG%</th>\n",
       "      <th>3P</th>\n",
       "      <th>3PA</th>\n",
       "      <th>3P%</th>\n",
       "      <th>2P%</th>\n",
       "      <th>FT%</th>\n",
       "      <th>ORB</th>\n",
       "      <th>DRB</th>\n",
       "      <th>REB</th>\n",
       "      <th>AST</th>\n",
       "      <th>STL</th>\n",
       "      <th>BLK</th>\n",
       "      <th>TOV</th>\n",
       "      <th>PTS</th>\n",
       "    </tr>\n",
       "  </thead>\n",
       "  <tbody>\n",
       "    <tr>\n",
       "      <th>382</th>\n",
       "      <td>James Harden</td>\n",
       "      <td>LAC, BRK, HOU, 2TM, PHI</td>\n",
       "      <td>PG</td>\n",
       "      <td>32.0</td>\n",
       "      <td>44.0</td>\n",
       "      <td>6.6</td>\n",
       "      <td>15.1</td>\n",
       "      <td>0.434</td>\n",
       "      <td>2.6</td>\n",
       "      <td>7.3</td>\n",
       "      <td>0.354</td>\n",
       "      <td>0.510</td>\n",
       "      <td>0.873</td>\n",
       "      <td>0.7</td>\n",
       "      <td>6.2</td>\n",
       "      <td>6.9</td>\n",
       "      <td>10.3</td>\n",
       "      <td>1.2</td>\n",
       "      <td>0.6</td>\n",
       "      <td>3.9</td>\n",
       "      <td>22.1</td>\n",
       "    </tr>\n",
       "    <tr>\n",
       "      <th>814</th>\n",
       "      <td>Trae Young</td>\n",
       "      <td>ATL</td>\n",
       "      <td>PG</td>\n",
       "      <td>24.0</td>\n",
       "      <td>66.0</td>\n",
       "      <td>8.3</td>\n",
       "      <td>18.9</td>\n",
       "      <td>0.439</td>\n",
       "      <td>2.7</td>\n",
       "      <td>7.3</td>\n",
       "      <td>0.358</td>\n",
       "      <td>0.490</td>\n",
       "      <td>0.883</td>\n",
       "      <td>0.6</td>\n",
       "      <td>2.7</td>\n",
       "      <td>3.4</td>\n",
       "      <td>10.0</td>\n",
       "      <td>1.0</td>\n",
       "      <td>0.2</td>\n",
       "      <td>4.2</td>\n",
       "      <td>26.4</td>\n",
       "    </tr>\n",
       "    <tr>\n",
       "      <th>567</th>\n",
       "      <td>Luka Dončić</td>\n",
       "      <td>DAL</td>\n",
       "      <td>PG</td>\n",
       "      <td>22.0</td>\n",
       "      <td>67.0</td>\n",
       "      <td>10.5</td>\n",
       "      <td>21.9</td>\n",
       "      <td>0.480</td>\n",
       "      <td>3.2</td>\n",
       "      <td>9.0</td>\n",
       "      <td>0.357</td>\n",
       "      <td>0.564</td>\n",
       "      <td>0.750</td>\n",
       "      <td>0.8</td>\n",
       "      <td>7.9</td>\n",
       "      <td>8.7</td>\n",
       "      <td>8.8</td>\n",
       "      <td>1.2</td>\n",
       "      <td>0.5</td>\n",
       "      <td>4.1</td>\n",
       "      <td>30.6</td>\n",
       "    </tr>\n",
       "    <tr>\n",
       "      <th>662</th>\n",
       "      <td>Nikola Jokić</td>\n",
       "      <td>DEN</td>\n",
       "      <td>C</td>\n",
       "      <td>26.0</td>\n",
       "      <td>74.0</td>\n",
       "      <td>10.1</td>\n",
       "      <td>17.1</td>\n",
       "      <td>0.591</td>\n",
       "      <td>1.1</td>\n",
       "      <td>3.1</td>\n",
       "      <td>0.367</td>\n",
       "      <td>0.640</td>\n",
       "      <td>0.829</td>\n",
       "      <td>2.7</td>\n",
       "      <td>9.5</td>\n",
       "      <td>12.2</td>\n",
       "      <td>8.8</td>\n",
       "      <td>1.4</td>\n",
       "      <td>0.8</td>\n",
       "      <td>3.4</td>\n",
       "      <td>26.1</td>\n",
       "    </tr>\n",
       "    <tr>\n",
       "      <th>133</th>\n",
       "      <td>Chris Paul</td>\n",
       "      <td>GSW, PHO</td>\n",
       "      <td>PG</td>\n",
       "      <td>36.0</td>\n",
       "      <td>63.0</td>\n",
       "      <td>5.1</td>\n",
       "      <td>10.8</td>\n",
       "      <td>0.468</td>\n",
       "      <td>1.4</td>\n",
       "      <td>3.7</td>\n",
       "      <td>0.364</td>\n",
       "      <td>0.520</td>\n",
       "      <td>0.857</td>\n",
       "      <td>0.4</td>\n",
       "      <td>3.9</td>\n",
       "      <td>4.3</td>\n",
       "      <td>8.8</td>\n",
       "      <td>1.5</td>\n",
       "      <td>0.3</td>\n",
       "      <td>2.0</td>\n",
       "      <td>13.6</td>\n",
       "    </tr>\n",
       "    <tr>\n",
       "      <th>844</th>\n",
       "      <td>Tyrese Haliburton</td>\n",
       "      <td>2TM, SAC, IND</td>\n",
       "      <td>PG, SG</td>\n",
       "      <td>21.0</td>\n",
       "      <td>56.0</td>\n",
       "      <td>6.1</td>\n",
       "      <td>12.8</td>\n",
       "      <td>0.478</td>\n",
       "      <td>2.4</td>\n",
       "      <td>5.9</td>\n",
       "      <td>0.403</td>\n",
       "      <td>0.545</td>\n",
       "      <td>0.852</td>\n",
       "      <td>0.7</td>\n",
       "      <td>3.1</td>\n",
       "      <td>3.8</td>\n",
       "      <td>8.6</td>\n",
       "      <td>1.6</td>\n",
       "      <td>0.6</td>\n",
       "      <td>2.4</td>\n",
       "      <td>16.8</td>\n",
       "    </tr>\n",
       "    <tr>\n",
       "      <th>740</th>\n",
       "      <td>Russell Westbrook</td>\n",
       "      <td>WAS, LAC, 2TM, LAL</td>\n",
       "      <td>PG</td>\n",
       "      <td>34.0</td>\n",
       "      <td>60.0</td>\n",
       "      <td>6.3</td>\n",
       "      <td>14.1</td>\n",
       "      <td>0.446</td>\n",
       "      <td>1.1</td>\n",
       "      <td>3.6</td>\n",
       "      <td>0.308</td>\n",
       "      <td>0.494</td>\n",
       "      <td>0.663</td>\n",
       "      <td>1.4</td>\n",
       "      <td>5.4</td>\n",
       "      <td>6.8</td>\n",
       "      <td>7.6</td>\n",
       "      <td>1.1</td>\n",
       "      <td>0.4</td>\n",
       "      <td>3.5</td>\n",
       "      <td>16.6</td>\n",
       "    </tr>\n",
       "    <tr>\n",
       "      <th>338</th>\n",
       "      <td>Ja Morant</td>\n",
       "      <td>MEM</td>\n",
       "      <td>PG</td>\n",
       "      <td>22.0</td>\n",
       "      <td>48.0</td>\n",
       "      <td>8.8</td>\n",
       "      <td>18.6</td>\n",
       "      <td>0.470</td>\n",
       "      <td>1.4</td>\n",
       "      <td>4.7</td>\n",
       "      <td>0.307</td>\n",
       "      <td>0.527</td>\n",
       "      <td>0.762</td>\n",
       "      <td>1.0</td>\n",
       "      <td>4.3</td>\n",
       "      <td>5.3</td>\n",
       "      <td>7.6</td>\n",
       "      <td>1.0</td>\n",
       "      <td>0.4</td>\n",
       "      <td>3.2</td>\n",
       "      <td>24.4</td>\n",
       "    </tr>\n",
       "    <tr>\n",
       "      <th>547</th>\n",
       "      <td>LaMelo Ball</td>\n",
       "      <td>CHO</td>\n",
       "      <td>PG</td>\n",
       "      <td>20.0</td>\n",
       "      <td>46.0</td>\n",
       "      <td>7.4</td>\n",
       "      <td>17.3</td>\n",
       "      <td>0.427</td>\n",
       "      <td>3.0</td>\n",
       "      <td>8.0</td>\n",
       "      <td>0.368</td>\n",
       "      <td>0.475</td>\n",
       "      <td>0.833</td>\n",
       "      <td>1.3</td>\n",
       "      <td>4.8</td>\n",
       "      <td>6.0</td>\n",
       "      <td>7.5</td>\n",
       "      <td>1.6</td>\n",
       "      <td>0.3</td>\n",
       "      <td>3.4</td>\n",
       "      <td>20.8</td>\n",
       "    </tr>\n",
       "    <tr>\n",
       "      <th>165</th>\n",
       "      <td>Damian Lillard</td>\n",
       "      <td>POR, MIL</td>\n",
       "      <td>PG</td>\n",
       "      <td>32.0</td>\n",
       "      <td>57.0</td>\n",
       "      <td>8.4</td>\n",
       "      <td>19.3</td>\n",
       "      <td>0.435</td>\n",
       "      <td>3.6</td>\n",
       "      <td>10.0</td>\n",
       "      <td>0.360</td>\n",
       "      <td>0.517</td>\n",
       "      <td>0.910</td>\n",
       "      <td>0.6</td>\n",
       "      <td>3.8</td>\n",
       "      <td>4.4</td>\n",
       "      <td>7.3</td>\n",
       "      <td>0.8</td>\n",
       "      <td>0.3</td>\n",
       "      <td>3.0</td>\n",
       "      <td>27.3</td>\n",
       "    </tr>\n",
       "    <tr>\n",
       "      <th>554</th>\n",
       "      <td>LeBron James</td>\n",
       "      <td>LAL</td>\n",
       "      <td>PG, C, PF</td>\n",
       "      <td>38.0</td>\n",
       "      <td>57.0</td>\n",
       "      <td>10.4</td>\n",
       "      <td>20.0</td>\n",
       "      <td>0.519</td>\n",
       "      <td>2.4</td>\n",
       "      <td>6.6</td>\n",
       "      <td>0.364</td>\n",
       "      <td>0.596</td>\n",
       "      <td>0.743</td>\n",
       "      <td>1.0</td>\n",
       "      <td>6.9</td>\n",
       "      <td>7.9</td>\n",
       "      <td>7.3</td>\n",
       "      <td>1.2</td>\n",
       "      <td>0.7</td>\n",
       "      <td>3.5</td>\n",
       "      <td>27.5</td>\n",
       "    </tr>\n",
       "    <tr>\n",
       "      <th>234</th>\n",
       "      <td>Draymond Green</td>\n",
       "      <td>GSW</td>\n",
       "      <td>PF</td>\n",
       "      <td>32.0</td>\n",
       "      <td>59.0</td>\n",
       "      <td>3.1</td>\n",
       "      <td>6.2</td>\n",
       "      <td>0.499</td>\n",
       "      <td>0.6</td>\n",
       "      <td>1.8</td>\n",
       "      <td>0.316</td>\n",
       "      <td>0.571</td>\n",
       "      <td>0.724</td>\n",
       "      <td>1.0</td>\n",
       "      <td>6.2</td>\n",
       "      <td>7.2</td>\n",
       "      <td>7.2</td>\n",
       "      <td>1.2</td>\n",
       "      <td>0.9</td>\n",
       "      <td>2.8</td>\n",
       "      <td>7.9</td>\n",
       "    </tr>\n",
       "    <tr>\n",
       "      <th>179</th>\n",
       "      <td>Darius Garland</td>\n",
       "      <td>CLE</td>\n",
       "      <td>PG</td>\n",
       "      <td>22.0</td>\n",
       "      <td>62.0</td>\n",
       "      <td>7.2</td>\n",
       "      <td>15.8</td>\n",
       "      <td>0.455</td>\n",
       "      <td>2.3</td>\n",
       "      <td>6.0</td>\n",
       "      <td>0.390</td>\n",
       "      <td>0.496</td>\n",
       "      <td>0.859</td>\n",
       "      <td>0.5</td>\n",
       "      <td>2.3</td>\n",
       "      <td>2.8</td>\n",
       "      <td>7.2</td>\n",
       "      <td>1.2</td>\n",
       "      <td>0.1</td>\n",
       "      <td>3.2</td>\n",
       "      <td>19.7</td>\n",
       "    </tr>\n",
       "    <tr>\n",
       "      <th>273</th>\n",
       "      <td>Fred VanVleet</td>\n",
       "      <td>TOR, HOU</td>\n",
       "      <td>PG, SG</td>\n",
       "      <td>28.0</td>\n",
       "      <td>65.0</td>\n",
       "      <td>6.4</td>\n",
       "      <td>15.9</td>\n",
       "      <td>0.400</td>\n",
       "      <td>3.3</td>\n",
       "      <td>9.0</td>\n",
       "      <td>0.368</td>\n",
       "      <td>0.441</td>\n",
       "      <td>0.879</td>\n",
       "      <td>0.6</td>\n",
       "      <td>3.6</td>\n",
       "      <td>4.1</td>\n",
       "      <td>7.1</td>\n",
       "      <td>1.6</td>\n",
       "      <td>0.6</td>\n",
       "      <td>2.0</td>\n",
       "      <td>19.2</td>\n",
       "    </tr>\n",
       "    <tr>\n",
       "      <th>212</th>\n",
       "      <td>Derrick Walton</td>\n",
       "      <td>DET</td>\n",
       "      <td>PG</td>\n",
       "      <td>26.0</td>\n",
       "      <td>3.0</td>\n",
       "      <td>2.0</td>\n",
       "      <td>8.7</td>\n",
       "      <td>0.231</td>\n",
       "      <td>1.0</td>\n",
       "      <td>4.3</td>\n",
       "      <td>0.231</td>\n",
       "      <td>0.231</td>\n",
       "      <td>1.000</td>\n",
       "      <td>0.7</td>\n",
       "      <td>2.7</td>\n",
       "      <td>3.3</td>\n",
       "      <td>7.0</td>\n",
       "      <td>2.3</td>\n",
       "      <td>1.3</td>\n",
       "      <td>3.7</td>\n",
       "      <td>6.3</td>\n",
       "    </tr>\n",
       "  </tbody>\n",
       "</table>\n",
       "</div>"
      ],
      "text/plain": [
       "                Player                     Team        Pos   Age     G    FG  \\\n",
       "382       James Harden  LAC, BRK, HOU, 2TM, PHI         PG  32.0  44.0   6.6   \n",
       "814         Trae Young                      ATL         PG  24.0  66.0   8.3   \n",
       "567        Luka Dončić                      DAL         PG  22.0  67.0  10.5   \n",
       "662       Nikola Jokić                      DEN          C  26.0  74.0  10.1   \n",
       "133         Chris Paul                 GSW, PHO         PG  36.0  63.0   5.1   \n",
       "844  Tyrese Haliburton            2TM, SAC, IND     PG, SG  21.0  56.0   6.1   \n",
       "740  Russell Westbrook       WAS, LAC, 2TM, LAL         PG  34.0  60.0   6.3   \n",
       "338          Ja Morant                      MEM         PG  22.0  48.0   8.8   \n",
       "547        LaMelo Ball                      CHO         PG  20.0  46.0   7.4   \n",
       "165     Damian Lillard                 POR, MIL         PG  32.0  57.0   8.4   \n",
       "554       LeBron James                      LAL  PG, C, PF  38.0  57.0  10.4   \n",
       "234     Draymond Green                      GSW         PF  32.0  59.0   3.1   \n",
       "179     Darius Garland                      CLE         PG  22.0  62.0   7.2   \n",
       "273      Fred VanVleet                 TOR, HOU     PG, SG  28.0  65.0   6.4   \n",
       "212     Derrick Walton                      DET         PG  26.0   3.0   2.0   \n",
       "\n",
       "      FGA    FG%   3P   3PA    3P%    2P%    FT%  ORB  DRB   REB   AST  STL  \\\n",
       "382  15.1  0.434  2.6   7.3  0.354  0.510  0.873  0.7  6.2   6.9  10.3  1.2   \n",
       "814  18.9  0.439  2.7   7.3  0.358  0.490  0.883  0.6  2.7   3.4  10.0  1.0   \n",
       "567  21.9  0.480  3.2   9.0  0.357  0.564  0.750  0.8  7.9   8.7   8.8  1.2   \n",
       "662  17.1  0.591  1.1   3.1  0.367  0.640  0.829  2.7  9.5  12.2   8.8  1.4   \n",
       "133  10.8  0.468  1.4   3.7  0.364  0.520  0.857  0.4  3.9   4.3   8.8  1.5   \n",
       "844  12.8  0.478  2.4   5.9  0.403  0.545  0.852  0.7  3.1   3.8   8.6  1.6   \n",
       "740  14.1  0.446  1.1   3.6  0.308  0.494  0.663  1.4  5.4   6.8   7.6  1.1   \n",
       "338  18.6  0.470  1.4   4.7  0.307  0.527  0.762  1.0  4.3   5.3   7.6  1.0   \n",
       "547  17.3  0.427  3.0   8.0  0.368  0.475  0.833  1.3  4.8   6.0   7.5  1.6   \n",
       "165  19.3  0.435  3.6  10.0  0.360  0.517  0.910  0.6  3.8   4.4   7.3  0.8   \n",
       "554  20.0  0.519  2.4   6.6  0.364  0.596  0.743  1.0  6.9   7.9   7.3  1.2   \n",
       "234   6.2  0.499  0.6   1.8  0.316  0.571  0.724  1.0  6.2   7.2   7.2  1.2   \n",
       "179  15.8  0.455  2.3   6.0  0.390  0.496  0.859  0.5  2.3   2.8   7.2  1.2   \n",
       "273  15.9  0.400  3.3   9.0  0.368  0.441  0.879  0.6  3.6   4.1   7.1  1.6   \n",
       "212   8.7  0.231  1.0   4.3  0.231  0.231  1.000  0.7  2.7   3.3   7.0  2.3   \n",
       "\n",
       "     BLK  TOV   PTS  \n",
       "382  0.6  3.9  22.1  \n",
       "814  0.2  4.2  26.4  \n",
       "567  0.5  4.1  30.6  \n",
       "662  0.8  3.4  26.1  \n",
       "133  0.3  2.0  13.6  \n",
       "844  0.6  2.4  16.8  \n",
       "740  0.4  3.5  16.6  \n",
       "338  0.4  3.2  24.4  \n",
       "547  0.3  3.4  20.8  \n",
       "165  0.3  3.0  27.3  \n",
       "554  0.7  3.5  27.5  \n",
       "234  0.9  2.8   7.9  \n",
       "179  0.1  3.2  19.7  \n",
       "273  0.6  2.0  19.2  \n",
       "212  1.3  3.7   6.3  "
      ]
     },
     "execution_count": 476,
     "metadata": {},
     "output_type": "execute_result"
    }
   ],
   "source": [
    "# Top 15 playmakers with the highest average assists per game\n",
    "top15_playmakers = average_stats[average_stats.AST == average_stats.AST].sort_values(by='AST', ascending=False).head(15)\n",
    "top15_playmakers"
   ]
  },
  {
   "cell_type": "markdown",
   "metadata": {},
   "source": [
    "### Data Visuals"
   ]
  },
  {
   "cell_type": "code",
   "execution_count": 469,
   "metadata": {},
   "outputs": [
    {
     "data": {
      "application/vnd.plotly.v1+json": {
       "config": {
        "plotlyServerURL": "https://plot.ly"
       },
       "data": [
        {
         "alignmentgroup": "True",
         "bingroup": "x",
         "hovertemplate": "Points Per Game=%{x}<br>count=%{y}<extra></extra>",
         "legendgroup": "",
         "marker": {
          "color": "blue",
          "opacity": 0.8,
          "pattern": {
           "shape": ""
          }
         },
         "name": "",
         "nbinsx": 20,
         "offsetgroup": "",
         "orientation": "v",
         "showlegend": false,
         "type": "histogram",
         "x": [
          4.4,
          3.2,
          5.6,
          13.7,
          0.3,
          6.1,
          7.7,
          7.3,
          4.6,
          1.5,
          1.1,
          4,
          0,
          3,
          2,
          10.7,
          3.8,
          11.1,
          2.8,
          6.3,
          1.9,
          7.4,
          3,
          4.4,
          3.3,
          2.4,
          0.4,
          15.2,
          2.3,
          9.5,
          2.6,
          5.6,
          2.6,
          10.6,
          3.5,
          2.2,
          1.2,
          0,
          9.4,
          16.5,
          17.2,
          4.6,
          23.9,
          22.8,
          3.6,
          4.1,
          1.5,
          0,
          5.9,
          0,
          6.1,
          2.1,
          8.8,
          12.1,
          7,
          6.6,
          1.8,
          9.9,
          6.5,
          19.4,
          8.3,
          4.4,
          9.1,
          15.6,
          8.4,
          4.4,
          8.8,
          4.7,
          3.9,
          13.5,
          15.6,
          17.1,
          4.7,
          10.3,
          5.2,
          24,
          9.2,
          6.1,
          10.5,
          4.8,
          23,
          6.4,
          17.3,
          8,
          3.8,
          0.5,
          7.5,
          3.1,
          13.3,
          10.3,
          2.8,
          3.8,
          5.2,
          8,
          2.5,
          14.7,
          0,
          4,
          21.8,
          20,
          4,
          8.4,
          9.2,
          13.9,
          12.3,
          13.6,
          4.7,
          11.2,
          8.7,
          3.4,
          16.8,
          1.4,
          13.4,
          4.9,
          6.8,
          3.6,
          2,
          0,
          9.2,
          7,
          3,
          4,
          1.8,
          6.5,
          5.6,
          3.7,
          16.5,
          1,
          7,
          9.7,
          3,
          8.3,
          1.2,
          13.6,
          1.8,
          6,
          3.1,
          15.6,
          5.8,
          12.4,
          14.2,
          6,
          5.7,
          2.1,
          13.4,
          1.8,
          1.5,
          3.6,
          18.3,
          10.9,
          7.4,
          5.6,
          2,
          1.3,
          18,
          2,
          6.7,
          2.8,
          5.5,
          2.8,
          3,
          3.5,
          7.4,
          2.7,
          4.4,
          27.3,
          7.4,
          4.4,
          9.2,
          2.4,
          7.5,
          8.2,
          5.1,
          5.8,
          5,
          7.3,
          1.5,
          6.6,
          3.8,
          19.7,
          4.1,
          1.3,
          5,
          0,
          7.2,
          5.7,
          7.5,
          2.4,
          5.9,
          25,
          14.8,
          10.3,
          4.9,
          4.4,
          2.4,
          24.5,
          8.9,
          5.4,
          16.6,
          1.6,
          20,
          7,
          9.6,
          13.6,
          6.3,
          3.7,
          0,
          8.8,
          1.5,
          5.4,
          6.5,
          11.6,
          6.3,
          13.6,
          18.2,
          26.8,
          7.2,
          14,
          1.7,
          2.6,
          9.6,
          5.6,
          5.5,
          2.9,
          15.6,
          0,
          19.2,
          4.2,
          26.8,
          2,
          5.6,
          10.3,
          9,
          8.5,
          7.9,
          7.4,
          3.7,
          3.2,
          8.9,
          10.8,
          9.1,
          10.9,
          6.6,
          6.2,
          2.7,
          4.8,
          6.4,
          4.9,
          0.5,
          1.5,
          7.3,
          6.6,
          16,
          3,
          0,
          1.5,
          2.7,
          7.4,
          11,
          13.1,
          7.6,
          3.8,
          5.6,
          11,
          15.6,
          4.2,
          0,
          0.8,
          6.8,
          4.8,
          6.3,
          2.7,
          17.8,
          19.2,
          4,
          5.8,
          14.6,
          6.5,
          6,
          5.5,
          3.3,
          4.5,
          5.8,
          1.8,
          9.4,
          4.9,
          16,
          6.8,
          0.3,
          8.4,
          8.6,
          29.9,
          5.3,
          5.1,
          7.8,
          13.3,
          5.5,
          8.5,
          2.6,
          8.8,
          11.4,
          3,
          5.2,
          0,
          3.6,
          9.3,
          14.9,
          2.2,
          8.1,
          6.3,
          4.3,
          2.8,
          7.5,
          10.1,
          1.1,
          1.5,
          4.7,
          1,
          14.7,
          1.4,
          8.6,
          6.3,
          7.3,
          6.2,
          6,
          2.4,
          7.6,
          9.6,
          6.8,
          1.6,
          2,
          5.3,
          2.5,
          10.4,
          4,
          1.8,
          6.8,
          3,
          24.4,
          4.6,
          7,
          0,
          6.4,
          4.8,
          13.2,
          6.4,
          1.4,
          3,
          1.4,
          8,
          15.8,
          9.6,
          2.6,
          8.2,
          9.1,
          5.4,
          4.3,
          0,
          11.9,
          6.9,
          3.8,
          11.8,
          20.4,
          0,
          11.4,
          19.7,
          7.4,
          1.6,
          8,
          1.3,
          7.3,
          1.6,
          0.7,
          8.3,
          11.4,
          16.6,
          5,
          4.6,
          20.8,
          2.4,
          4.6,
          5.3,
          22.1,
          5.2,
          1.7,
          9.6,
          3.8,
          3.6,
          5.4,
          0.5,
          3.9,
          4.1,
          18,
          6.8,
          3.9,
          14,
          4.4,
          0.7,
          2.3,
          0,
          7,
          5.8,
          2.6,
          6.5,
          2.8,
          6,
          0.3,
          24.5,
          10.4,
          0.7,
          8,
          5,
          0,
          27.6,
          6.8,
          2.3,
          8.9,
          6.7,
          2,
          20.8,
          2.4,
          5.7,
          8.1,
          11.3,
          2.5,
          1.4,
          3.2,
          1.6,
          5.1,
          21.6,
          5.5,
          8.8,
          7.6,
          2,
          1.6,
          0.3,
          31.7,
          2.4,
          15.5,
          4.6,
          16,
          4.4,
          6,
          0,
          15.3,
          5.9,
          11.8,
          3.2,
          1.6,
          4,
          18.1,
          2,
          5.6,
          3.1,
          7.8,
          4,
          1.6,
          7.7,
          17.1,
          1.4,
          1.7,
          7.4,
          6.8,
          13.8,
          6.2,
          4.1,
          12,
          7.8,
          2.4,
          5,
          10.3,
          4.6,
          17,
          3.2,
          3.7,
          3.9,
          6.9,
          2.2,
          4.5,
          23.3,
          5.8,
          3,
          7.2,
          3.8,
          3.9,
          3,
          5.4,
          2.9,
          6.8,
          12.7,
          2.2,
          7.2,
          2.5,
          2.2,
          0,
          1.1,
          23,
          24.1,
          13.7,
          5.6,
          4.6,
          4.1,
          16.9,
          1.9,
          11.8,
          16.5,
          13,
          1.4,
          9,
          2.2,
          5.4,
          7,
          5.3,
          11,
          3.4,
          6.3,
          3.1,
          28.1,
          12.4,
          5.2,
          9.8,
          1.6,
          17.1,
          3,
          5.4,
          1.2,
          13,
          6.2,
          17.7,
          16.4,
          7.7,
          3.2,
          3.8,
          20.1,
          2,
          4.8,
          3,
          0.8,
          6.9,
          6.1,
          20.8,
          9,
          3.4,
          18.4,
          11,
          26.8,
          13.2,
          20.8,
          6.2,
          6.5,
          8.4,
          2.6,
          7.2,
          19.3,
          27.5,
          0,
          2.7,
          0.9,
          1.7,
          3.4,
          4.4,
          5.6,
          11.2,
          13.8,
          9.9,
          10.6,
          14,
          30.6,
          5.4,
          5.9,
          9.9,
          2.8,
          0,
          6.1,
          5.3,
          9.7,
          17.7,
          0,
          3.5,
          13.4,
          1.3,
          13.6,
          8,
          2.7,
          2.7,
          4.8,
          5,
          1.1,
          9.8,
          8.3,
          12.8,
          10.8,
          11.4,
          4.8,
          1.4,
          2,
          3.4,
          2.2,
          5.5,
          12.1,
          4.4,
          8.8,
          4.9,
          0,
          3.9,
          3.4,
          2.2,
          4,
          4.5,
          3.6,
          10.1,
          6.1,
          0.3,
          2.6,
          10.7,
          4,
          2.3,
          3.6,
          6.6,
          0,
          15.8,
          18.4,
          13,
          7.7,
          5.3,
          4.2,
          18,
          4.7,
          7.4,
          1.1,
          6.8,
          8,
          11.5,
          8.1,
          4.3,
          5.8,
          1,
          2.4,
          4,
          2.7,
          5.1,
          1.2,
          15.2,
          6.9,
          7.4,
          6.1,
          1.3,
          1.4,
          3.7,
          1.3,
          11.1,
          3.6,
          6.2,
          2.8,
          9.9,
          5.4,
          5.9,
          8,
          4.1,
          6,
          3,
          3,
          26.1,
          6.6,
          20.4,
          5.8,
          0.6,
          18.2,
          1.9,
          15.6,
          7.7,
          6.4,
          4.4,
          3,
          4.8,
          3.5,
          8.2,
          3.2,
          3.3,
          7.4,
          7.3,
          4.4,
          3.4,
          12.8,
          4.8,
          21.3,
          3,
          22.3,
          7.5,
          0.7,
          4.2,
          6.7,
          1,
          5.2,
          9.6,
          6.8,
          23.5,
          4.9,
          4.5,
          3.8,
          7.3,
          0.4,
          1.1,
          5,
          7.7,
          7.4,
          3.4,
          3.8,
          2.5,
          6.1,
          19.6,
          1.1,
          11.8,
          5.2,
          6.5,
          2,
          4,
          4,
          7.2,
          11.1,
          6,
          7.2,
          5.4,
          9,
          1.5,
          6.6,
          6.1,
          8.2,
          1,
          5,
          1.6,
          3.7,
          5.6,
          4.4,
          1.1,
          2.5,
          7.7,
          8.2,
          14.3,
          12.1,
          16.6,
          1.5,
          2.6,
          4.9,
          13.7,
          0,
          6,
          5,
          5.4,
          7.9,
          5.4,
          14,
          16.8,
          0.5,
          4,
          7.6,
          2.2,
          6,
          3.7,
          7.1,
          10.6,
          1.6,
          12.9,
          27.4,
          6.8,
          1,
          3,
          0.5,
          3.8,
          10.3,
          2.2,
          5.6,
          2.6,
          13,
          5.6,
          3.6,
          28.3,
          3.8,
          7.7,
          6.7,
          1.7,
          9,
          8.1,
          1.8,
          3.4,
          10,
          9.6,
          8.8,
          7.3,
          4.5,
          8.9,
          8.8,
          3.3,
          0.2,
          10.2,
          20,
          4.1,
          5.8,
          2.2,
          1.7,
          9,
          3.8,
          5.5,
          2.4,
          14.9,
          2.6,
          5.4,
          17.2,
          4.4,
          5.2,
          4.3,
          6,
          5.1,
          7.5,
          26.4,
          7.9,
          0,
          7.8,
          8.6,
          3,
          3.3,
          7.3,
          2.7,
          3.4,
          6.7,
          1.8,
          1,
          5.8,
          4.7,
          8.5,
          11.6,
          6,
          8.5,
          4.8,
          6.7,
          0.6,
          3,
          1,
          3.6,
          3,
          0,
          19.2,
          3.5,
          1,
          16.8,
          1.3,
          17.9,
          2.8,
          9.3,
          2.9,
          3.5,
          1.8,
          7,
          2.4,
          16,
          21.4,
          6,
          0.8,
          4.5,
          3.7,
          8.6,
          8.2,
          1.7,
          12.5,
          1,
          3.8,
          3.6,
          4.1,
          9.3,
          0,
          2.2,
          7.9,
          3.8,
          3.3,
          1.4,
          5.6,
          6.6,
          4,
          1.1,
          10.2,
          24,
          8.5,
          4.6,
          7.3,
          25.3,
          0
         ],
         "xaxis": "x",
         "yaxis": "y"
        }
       ],
       "layout": {
        "barmode": "relative",
        "legend": {
         "tracegroupgap": 0
        },
        "template": {
         "data": {
          "bar": [
           {
            "error_x": {
             "color": "#2a3f5f"
            },
            "error_y": {
             "color": "#2a3f5f"
            },
            "marker": {
             "line": {
              "color": "#E5ECF6",
              "width": 0.5
             },
             "pattern": {
              "fillmode": "overlay",
              "size": 10,
              "solidity": 0.2
             }
            },
            "type": "bar"
           }
          ],
          "barpolar": [
           {
            "marker": {
             "line": {
              "color": "#E5ECF6",
              "width": 0.5
             },
             "pattern": {
              "fillmode": "overlay",
              "size": 10,
              "solidity": 0.2
             }
            },
            "type": "barpolar"
           }
          ],
          "carpet": [
           {
            "aaxis": {
             "endlinecolor": "#2a3f5f",
             "gridcolor": "white",
             "linecolor": "white",
             "minorgridcolor": "white",
             "startlinecolor": "#2a3f5f"
            },
            "baxis": {
             "endlinecolor": "#2a3f5f",
             "gridcolor": "white",
             "linecolor": "white",
             "minorgridcolor": "white",
             "startlinecolor": "#2a3f5f"
            },
            "type": "carpet"
           }
          ],
          "choropleth": [
           {
            "colorbar": {
             "outlinewidth": 0,
             "ticks": ""
            },
            "type": "choropleth"
           }
          ],
          "contour": [
           {
            "colorbar": {
             "outlinewidth": 0,
             "ticks": ""
            },
            "colorscale": [
             [
              0,
              "#0d0887"
             ],
             [
              0.1111111111111111,
              "#46039f"
             ],
             [
              0.2222222222222222,
              "#7201a8"
             ],
             [
              0.3333333333333333,
              "#9c179e"
             ],
             [
              0.4444444444444444,
              "#bd3786"
             ],
             [
              0.5555555555555556,
              "#d8576b"
             ],
             [
              0.6666666666666666,
              "#ed7953"
             ],
             [
              0.7777777777777778,
              "#fb9f3a"
             ],
             [
              0.8888888888888888,
              "#fdca26"
             ],
             [
              1,
              "#f0f921"
             ]
            ],
            "type": "contour"
           }
          ],
          "contourcarpet": [
           {
            "colorbar": {
             "outlinewidth": 0,
             "ticks": ""
            },
            "type": "contourcarpet"
           }
          ],
          "heatmap": [
           {
            "colorbar": {
             "outlinewidth": 0,
             "ticks": ""
            },
            "colorscale": [
             [
              0,
              "#0d0887"
             ],
             [
              0.1111111111111111,
              "#46039f"
             ],
             [
              0.2222222222222222,
              "#7201a8"
             ],
             [
              0.3333333333333333,
              "#9c179e"
             ],
             [
              0.4444444444444444,
              "#bd3786"
             ],
             [
              0.5555555555555556,
              "#d8576b"
             ],
             [
              0.6666666666666666,
              "#ed7953"
             ],
             [
              0.7777777777777778,
              "#fb9f3a"
             ],
             [
              0.8888888888888888,
              "#fdca26"
             ],
             [
              1,
              "#f0f921"
             ]
            ],
            "type": "heatmap"
           }
          ],
          "heatmapgl": [
           {
            "colorbar": {
             "outlinewidth": 0,
             "ticks": ""
            },
            "colorscale": [
             [
              0,
              "#0d0887"
             ],
             [
              0.1111111111111111,
              "#46039f"
             ],
             [
              0.2222222222222222,
              "#7201a8"
             ],
             [
              0.3333333333333333,
              "#9c179e"
             ],
             [
              0.4444444444444444,
              "#bd3786"
             ],
             [
              0.5555555555555556,
              "#d8576b"
             ],
             [
              0.6666666666666666,
              "#ed7953"
             ],
             [
              0.7777777777777778,
              "#fb9f3a"
             ],
             [
              0.8888888888888888,
              "#fdca26"
             ],
             [
              1,
              "#f0f921"
             ]
            ],
            "type": "heatmapgl"
           }
          ],
          "histogram": [
           {
            "marker": {
             "pattern": {
              "fillmode": "overlay",
              "size": 10,
              "solidity": 0.2
             }
            },
            "type": "histogram"
           }
          ],
          "histogram2d": [
           {
            "colorbar": {
             "outlinewidth": 0,
             "ticks": ""
            },
            "colorscale": [
             [
              0,
              "#0d0887"
             ],
             [
              0.1111111111111111,
              "#46039f"
             ],
             [
              0.2222222222222222,
              "#7201a8"
             ],
             [
              0.3333333333333333,
              "#9c179e"
             ],
             [
              0.4444444444444444,
              "#bd3786"
             ],
             [
              0.5555555555555556,
              "#d8576b"
             ],
             [
              0.6666666666666666,
              "#ed7953"
             ],
             [
              0.7777777777777778,
              "#fb9f3a"
             ],
             [
              0.8888888888888888,
              "#fdca26"
             ],
             [
              1,
              "#f0f921"
             ]
            ],
            "type": "histogram2d"
           }
          ],
          "histogram2dcontour": [
           {
            "colorbar": {
             "outlinewidth": 0,
             "ticks": ""
            },
            "colorscale": [
             [
              0,
              "#0d0887"
             ],
             [
              0.1111111111111111,
              "#46039f"
             ],
             [
              0.2222222222222222,
              "#7201a8"
             ],
             [
              0.3333333333333333,
              "#9c179e"
             ],
             [
              0.4444444444444444,
              "#bd3786"
             ],
             [
              0.5555555555555556,
              "#d8576b"
             ],
             [
              0.6666666666666666,
              "#ed7953"
             ],
             [
              0.7777777777777778,
              "#fb9f3a"
             ],
             [
              0.8888888888888888,
              "#fdca26"
             ],
             [
              1,
              "#f0f921"
             ]
            ],
            "type": "histogram2dcontour"
           }
          ],
          "mesh3d": [
           {
            "colorbar": {
             "outlinewidth": 0,
             "ticks": ""
            },
            "type": "mesh3d"
           }
          ],
          "parcoords": [
           {
            "line": {
             "colorbar": {
              "outlinewidth": 0,
              "ticks": ""
             }
            },
            "type": "parcoords"
           }
          ],
          "pie": [
           {
            "automargin": true,
            "type": "pie"
           }
          ],
          "scatter": [
           {
            "fillpattern": {
             "fillmode": "overlay",
             "size": 10,
             "solidity": 0.2
            },
            "type": "scatter"
           }
          ],
          "scatter3d": [
           {
            "line": {
             "colorbar": {
              "outlinewidth": 0,
              "ticks": ""
             }
            },
            "marker": {
             "colorbar": {
              "outlinewidth": 0,
              "ticks": ""
             }
            },
            "type": "scatter3d"
           }
          ],
          "scattercarpet": [
           {
            "marker": {
             "colorbar": {
              "outlinewidth": 0,
              "ticks": ""
             }
            },
            "type": "scattercarpet"
           }
          ],
          "scattergeo": [
           {
            "marker": {
             "colorbar": {
              "outlinewidth": 0,
              "ticks": ""
             }
            },
            "type": "scattergeo"
           }
          ],
          "scattergl": [
           {
            "marker": {
             "colorbar": {
              "outlinewidth": 0,
              "ticks": ""
             }
            },
            "type": "scattergl"
           }
          ],
          "scattermapbox": [
           {
            "marker": {
             "colorbar": {
              "outlinewidth": 0,
              "ticks": ""
             }
            },
            "type": "scattermapbox"
           }
          ],
          "scatterpolar": [
           {
            "marker": {
             "colorbar": {
              "outlinewidth": 0,
              "ticks": ""
             }
            },
            "type": "scatterpolar"
           }
          ],
          "scatterpolargl": [
           {
            "marker": {
             "colorbar": {
              "outlinewidth": 0,
              "ticks": ""
             }
            },
            "type": "scatterpolargl"
           }
          ],
          "scatterternary": [
           {
            "marker": {
             "colorbar": {
              "outlinewidth": 0,
              "ticks": ""
             }
            },
            "type": "scatterternary"
           }
          ],
          "surface": [
           {
            "colorbar": {
             "outlinewidth": 0,
             "ticks": ""
            },
            "colorscale": [
             [
              0,
              "#0d0887"
             ],
             [
              0.1111111111111111,
              "#46039f"
             ],
             [
              0.2222222222222222,
              "#7201a8"
             ],
             [
              0.3333333333333333,
              "#9c179e"
             ],
             [
              0.4444444444444444,
              "#bd3786"
             ],
             [
              0.5555555555555556,
              "#d8576b"
             ],
             [
              0.6666666666666666,
              "#ed7953"
             ],
             [
              0.7777777777777778,
              "#fb9f3a"
             ],
             [
              0.8888888888888888,
              "#fdca26"
             ],
             [
              1,
              "#f0f921"
             ]
            ],
            "type": "surface"
           }
          ],
          "table": [
           {
            "cells": {
             "fill": {
              "color": "#EBF0F8"
             },
             "line": {
              "color": "white"
             }
            },
            "header": {
             "fill": {
              "color": "#C8D4E3"
             },
             "line": {
              "color": "white"
             }
            },
            "type": "table"
           }
          ]
         },
         "layout": {
          "annotationdefaults": {
           "arrowcolor": "#2a3f5f",
           "arrowhead": 0,
           "arrowwidth": 1
          },
          "autotypenumbers": "strict",
          "coloraxis": {
           "colorbar": {
            "outlinewidth": 0,
            "ticks": ""
           }
          },
          "colorscale": {
           "diverging": [
            [
             0,
             "#8e0152"
            ],
            [
             0.1,
             "#c51b7d"
            ],
            [
             0.2,
             "#de77ae"
            ],
            [
             0.3,
             "#f1b6da"
            ],
            [
             0.4,
             "#fde0ef"
            ],
            [
             0.5,
             "#f7f7f7"
            ],
            [
             0.6,
             "#e6f5d0"
            ],
            [
             0.7,
             "#b8e186"
            ],
            [
             0.8,
             "#7fbc41"
            ],
            [
             0.9,
             "#4d9221"
            ],
            [
             1,
             "#276419"
            ]
           ],
           "sequential": [
            [
             0,
             "#0d0887"
            ],
            [
             0.1111111111111111,
             "#46039f"
            ],
            [
             0.2222222222222222,
             "#7201a8"
            ],
            [
             0.3333333333333333,
             "#9c179e"
            ],
            [
             0.4444444444444444,
             "#bd3786"
            ],
            [
             0.5555555555555556,
             "#d8576b"
            ],
            [
             0.6666666666666666,
             "#ed7953"
            ],
            [
             0.7777777777777778,
             "#fb9f3a"
            ],
            [
             0.8888888888888888,
             "#fdca26"
            ],
            [
             1,
             "#f0f921"
            ]
           ],
           "sequentialminus": [
            [
             0,
             "#0d0887"
            ],
            [
             0.1111111111111111,
             "#46039f"
            ],
            [
             0.2222222222222222,
             "#7201a8"
            ],
            [
             0.3333333333333333,
             "#9c179e"
            ],
            [
             0.4444444444444444,
             "#bd3786"
            ],
            [
             0.5555555555555556,
             "#d8576b"
            ],
            [
             0.6666666666666666,
             "#ed7953"
            ],
            [
             0.7777777777777778,
             "#fb9f3a"
            ],
            [
             0.8888888888888888,
             "#fdca26"
            ],
            [
             1,
             "#f0f921"
            ]
           ]
          },
          "colorway": [
           "#636efa",
           "#EF553B",
           "#00cc96",
           "#ab63fa",
           "#FFA15A",
           "#19d3f3",
           "#FF6692",
           "#B6E880",
           "#FF97FF",
           "#FECB52"
          ],
          "font": {
           "color": "#2a3f5f"
          },
          "geo": {
           "bgcolor": "white",
           "lakecolor": "white",
           "landcolor": "#E5ECF6",
           "showlakes": true,
           "showland": true,
           "subunitcolor": "white"
          },
          "hoverlabel": {
           "align": "left"
          },
          "hovermode": "closest",
          "mapbox": {
           "style": "light"
          },
          "paper_bgcolor": "white",
          "plot_bgcolor": "#E5ECF6",
          "polar": {
           "angularaxis": {
            "gridcolor": "white",
            "linecolor": "white",
            "ticks": ""
           },
           "bgcolor": "#E5ECF6",
           "radialaxis": {
            "gridcolor": "white",
            "linecolor": "white",
            "ticks": ""
           }
          },
          "scene": {
           "xaxis": {
            "backgroundcolor": "#E5ECF6",
            "gridcolor": "white",
            "gridwidth": 2,
            "linecolor": "white",
            "showbackground": true,
            "ticks": "",
            "zerolinecolor": "white"
           },
           "yaxis": {
            "backgroundcolor": "#E5ECF6",
            "gridcolor": "white",
            "gridwidth": 2,
            "linecolor": "white",
            "showbackground": true,
            "ticks": "",
            "zerolinecolor": "white"
           },
           "zaxis": {
            "backgroundcolor": "#E5ECF6",
            "gridcolor": "white",
            "gridwidth": 2,
            "linecolor": "white",
            "showbackground": true,
            "ticks": "",
            "zerolinecolor": "white"
           }
          },
          "shapedefaults": {
           "line": {
            "color": "#2a3f5f"
           }
          },
          "ternary": {
           "aaxis": {
            "gridcolor": "white",
            "linecolor": "white",
            "ticks": ""
           },
           "baxis": {
            "gridcolor": "white",
            "linecolor": "white",
            "ticks": ""
           },
           "bgcolor": "#E5ECF6",
           "caxis": {
            "gridcolor": "white",
            "linecolor": "white",
            "ticks": ""
           }
          },
          "title": {
           "x": 0.05
          },
          "xaxis": {
           "automargin": true,
           "gridcolor": "white",
           "linecolor": "white",
           "ticks": "",
           "title": {
            "standoff": 15
           },
           "zerolinecolor": "white",
           "zerolinewidth": 2
          },
          "yaxis": {
           "automargin": true,
           "gridcolor": "white",
           "linecolor": "white",
           "ticks": "",
           "title": {
            "standoff": 15
           },
           "zerolinecolor": "white",
           "zerolinewidth": 2
          }
         }
        },
        "title": {
         "text": "Distribution of Points Per Game (PTS)"
        },
        "xaxis": {
         "anchor": "y",
         "domain": [
          0,
          1
         ],
         "title": {
          "text": "Points Per Game"
         }
        },
        "yaxis": {
         "anchor": "x",
         "domain": [
          0,
          1
         ],
         "title": {
          "text": "count"
         }
        }
       }
      }
     },
     "metadata": {},
     "output_type": "display_data"
    }
   ],
   "source": [
    "# Histogram of Points Per Game (PTS)\n",
    "fig1 = px.histogram(average_stats, x='PTS', nbins=20, \n",
    "                   title='Distribution of Points Per Game (PTS)',\n",
    "                   labels={'PTS': 'Points Per Game'},\n",
    "                   opacity=0.8, color_discrete_sequence=['blue'])\n",
    "fig1.show()"
   ]
  },
  {
   "cell_type": "markdown",
   "metadata": {},
   "source": [
    "The histogram \"Distribution of Points Per Game (PTS)\" shows how spread out the entire NBA averages Points Per Game. It is skewed to the right as there are less players who score 15 or more than the mean which is about 5 PTS."
   ]
  },
  {
   "cell_type": "code",
   "execution_count": 470,
   "metadata": {},
   "outputs": [
    {
     "data": {
      "application/vnd.plotly.v1+json": {
       "config": {
        "plotlyServerURL": "https://plot.ly"
       },
       "data": [
        {
         "alignmentgroup": "True",
         "bingroup": "x",
         "hovertemplate": "Position=SG<br>Points Per Game=%{x}<br>count=%{y}<extra></extra>",
         "legendgroup": "",
         "marker": {
          "color": "#636efa",
          "opacity": 1,
          "pattern": {
           "shape": ""
          }
         },
         "name": "",
         "nbinsx": 20,
         "offsetgroup": "",
         "orientation": "v",
         "showlegend": false,
         "type": "histogram",
         "x": [
          4.4,
          3.2,
          7.3,
          1.5,
          1.1,
          0,
          2,
          11.1,
          0.4,
          2.2,
          1.2,
          0,
          17.2,
          22.8,
          12.1,
          7,
          6.6,
          9.9,
          8.3,
          4.4,
          4.7,
          15.6,
          24,
          9.2,
          3.1,
          5.2,
          8,
          0,
          13.9,
          16.8,
          4.9,
          6.8,
          3.6,
          1.8,
          6,
          2.1,
          2,
          2,
          2.8,
          2.8,
          3.5,
          2.7,
          7.4,
          4.4,
          0,
          2.4,
          2.4,
          1.6,
          3.7,
          1.5,
          13.6,
          18.2,
          5.5,
          2,
          10.3,
          3.2,
          10.9,
          4.9,
          7.3,
          16,
          13.1,
          5.8,
          6,
          3.3,
          4.5,
          5.8,
          9.4,
          16,
          8.5,
          11.4,
          1,
          6.2,
          2,
          1.8,
          6.8,
          8,
          15.8,
          2.6,
          4.3,
          19.7,
          7.4,
          1.6,
          1.6,
          4.6,
          4.1,
          0.7,
          6,
          0.7,
          8,
          6.8,
          3.2,
          2,
          0.3,
          4.4,
          6,
          18.1,
          7.8,
          6.8,
          6.2,
          5,
          10.3,
          3.9,
          1.4,
          11,
          3.4,
          6.3,
          3,
          16.4,
          4.8,
          8.4,
          2.6,
          3.4,
          5.6,
          11.2,
          9.9,
          0,
          0,
          13.4,
          13.6,
          1.1,
          2,
          3.4,
          4.4,
          0,
          3.4,
          3.6,
          10.7,
          1.1,
          5.8,
          1.3,
          1.4,
          5.9,
          8,
          3,
          6.4,
          3.5,
          7.4,
          2.5,
          1.1,
          4,
          5.4,
          1.5,
          5.6,
          4.4,
          5,
          0.5,
          4,
          10.6,
          12.9,
          6.8,
          1,
          3,
          2.2,
          3.6,
          4.5,
          8.8,
          0.2,
          10.2,
          4.3,
          0,
          3.4,
          1,
          6.7,
          0.6,
          0,
          19.2,
          1.3,
          2.8,
          16,
          6,
          8.2,
          1.7,
          1,
          3.3,
          24
         ],
         "xaxis": "x",
         "yaxis": "y"
        },
        {
         "alignmentgroup": "True",
         "bingroup": "x",
         "hovertemplate": "Position=SF<br>Points Per Game=%{x}<br>count=%{y}<extra></extra>",
         "legendgroup": "",
         "marker": {
          "color": "#636efa",
          "opacity": 1,
          "pattern": {
           "shape": ""
          }
         },
         "name": "",
         "nbinsx": 20,
         "offsetgroup": "",
         "orientation": "v",
         "showlegend": false,
         "type": "histogram",
         "x": [
          5.6,
          0.3,
          7.7,
          4.6,
          2.8,
          3,
          3.3,
          9.5,
          4.1,
          0,
          8.8,
          1.8,
          6.5,
          8.4,
          23,
          17.3,
          3.8,
          0.5,
          7.5,
          2.5,
          4,
          4,
          8.4,
          9.2,
          12.3,
          4.7,
          11.2,
          3.4,
          9.2,
          3,
          1,
          1.2,
          6,
          1.8,
          10.9,
          5,
          1.5,
          3.8,
          4.1,
          7.2,
          14.8,
          4.4,
          9.6,
          15.6,
          2.7,
          2.7,
          5.6,
          0,
          17.8,
          0.3,
          8.6,
          5.3,
          13.3,
          2.8,
          4.7,
          1.4,
          6.4,
          1.4,
          1.4,
          11.9,
          3.8,
          7.3,
          0.7,
          5.3,
          1.7,
          10.4,
          2,
          1.4,
          1.6,
          7.6,
          3.1,
          1.6,
          7.7,
          1.7,
          4.1,
          2.4,
          6.9,
          2.2,
          4.5,
          5.8,
          3,
          3.8,
          3.9,
          3,
          7.2,
          0,
          24.1,
          13.7,
          4.1,
          16.9,
          1.9,
          16.5,
          5.3,
          3.1,
          1.2,
          17.7,
          6.1,
          2.7,
          0.9,
          1.7,
          4.8,
          3.9,
          10.1,
          0.3,
          15.8,
          6.9,
          7.4,
          15.6,
          3,
          4.2,
          1,
          3.8,
          7.2,
          1,
          7.7,
          13.7,
          6,
          2.2,
          1.6,
          3.8,
          10.3,
          6.7,
          2.6,
          5.4,
          5.1,
          3,
          6.7,
          11.6,
          4.8,
          1,
          3,
          3.6,
          1.4,
          4,
          1.1,
          7.3,
          0
         ],
         "xaxis": "x2",
         "yaxis": "y2"
        },
        {
         "alignmentgroup": "True",
         "bingroup": "x",
         "hovertemplate": "Position=PF<br>Points Per Game=%{x}<br>count=%{y}<extra></extra>",
         "legendgroup": "",
         "marker": {
          "color": "#636efa",
          "opacity": 1,
          "pattern": {
           "shape": ""
          }
         },
         "name": "",
         "nbinsx": 20,
         "offsetgroup": "",
         "orientation": "v",
         "showlegend": false,
         "type": "histogram",
         "x": [
          13.7,
          4,
          3.8,
          6.3,
          1.9,
          2.4,
          3.6,
          1.5,
          4.7,
          10.5,
          2.8,
          13.6,
          13.4,
          1.8,
          5.5,
          5.7,
          5.4,
          0,
          2.6,
          4.2,
          5.6,
          9,
          7.9,
          3.7,
          6.4,
          0.5,
          0,
          7.6,
          3.8,
          15.6,
          4,
          14.6,
          5.5,
          8.4,
          29.9,
          8.8,
          0,
          3.6,
          14.9,
          7.5,
          1.1,
          2.4,
          7.6,
          1.6,
          3,
          4.6,
          7,
          4.8,
          13.2,
          8.2,
          6.9,
          5,
          4.6,
          5.2,
          3.8,
          3.6,
          0.5,
          6.8,
          3.9,
          8.9,
          11.3,
          15.5,
          5.9,
          3.2,
          3.7,
          23.3,
          2.2,
          2.5,
          5.4,
          28.1,
          2,
          0.8,
          9,
          5.9,
          1.3,
          9.8,
          4.8,
          5.5,
          4,
          2.3,
          0,
          4.2,
          1,
          2.4,
          4,
          3,
          6.6,
          5.8,
          7.7,
          3,
          3.3,
          4.4,
          3.4,
          21.3,
          22.3,
          5.2,
          9.6,
          0.4,
          1.1,
          11.8,
          6,
          6.1,
          1.1,
          2.5,
          8.2,
          12.1,
          0,
          7.9,
          5.4,
          6,
          3.7,
          1.7,
          9.6,
          8.8,
          7.3,
          4.1,
          5.8,
          7.5,
          7.9,
          8.5,
          3.7,
          3.8,
          4.6,
          25.3
         ],
         "xaxis": "x3",
         "yaxis": "y3"
        },
        {
         "alignmentgroup": "True",
         "bingroup": "x",
         "hovertemplate": "Position=PG<br>Points Per Game=%{x}<br>count=%{y}<extra></extra>",
         "legendgroup": "",
         "marker": {
          "color": "#636efa",
          "opacity": 1,
          "pattern": {
           "shape": ""
          }
         },
         "name": "",
         "nbinsx": 20,
         "offsetgroup": "",
         "orientation": "v",
         "showlegend": false,
         "type": "histogram",
         "x": [
          6.1,
          2.3,
          4.6,
          2.1,
          9.1,
          5.2,
          4.8,
          6.4,
          8,
          8.7,
          1.4,
          2,
          0,
          6.5,
          3,
          13.6,
          13.4,
          3.6,
          7.4,
          5.6,
          18,
          6.7,
          7.4,
          27.3,
          19.7,
          1.3,
          7.5,
          25,
          6.3,
          11.6,
          6.3,
          7.2,
          1.7,
          9.6,
          4.8,
          6.6,
          1.5,
          4.2,
          6.8,
          6.3,
          6.5,
          7.8,
          2.6,
          6.3,
          6.8,
          5.3,
          4,
          24.4,
          0,
          3,
          0,
          1.3,
          20.8,
          2.4,
          22.1,
          3.9,
          2.3,
          7,
          2.6,
          0.3,
          0,
          2.3,
          6.7,
          2.4,
          5.1,
          16,
          4,
          2,
          4,
          7.4,
          17,
          2.9,
          1.1,
          5.6,
          13,
          2.2,
          1.6,
          13,
          7.7,
          3.8,
          6.9,
          11,
          20.8,
          4.4,
          13.8,
          9.9,
          30.6,
          5.3,
          17.7,
          8,
          8.3,
          12.8,
          11.4,
          2.2,
          2.6,
          13,
          7.7,
          4.7,
          8,
          5.1,
          1.2,
          4.1,
          0.7,
          3.4,
          3.8,
          5.2,
          6.5,
          9,
          16.6,
          1.5,
          2.6,
          4.9,
          14,
          7.6,
          0.5,
          28.3,
          9,
          3.3,
          5.5,
          2.4,
          26.4,
          7.8,
          8.6,
          3.3,
          1.8,
          5.8,
          3,
          1,
          9.3,
          7,
          6.6,
          8.5
         ],
         "xaxis": "x4",
         "yaxis": "y4"
        },
        {
         "alignmentgroup": "True",
         "bingroup": "x",
         "hovertemplate": "Position=C<br>Points Per Game=%{x}<br>count=%{y}<extra></extra>",
         "legendgroup": "",
         "marker": {
          "color": "#636efa",
          "opacity": 1,
          "pattern": {
           "shape": ""
          }
         },
         "name": "",
         "nbinsx": 20,
         "offsetgroup": "",
         "orientation": "v",
         "showlegend": false,
         "type": "histogram",
         "x": [
          10.7,
          4.4,
          15.2,
          2.6,
          2.6,
          10.6,
          0,
          6.1,
          19.4,
          4.4,
          3.9,
          13.3,
          3.8,
          7,
          4,
          3.7,
          16.5,
          3.1,
          12.4,
          5.7,
          1.5,
          1.3,
          4.4,
          2.4,
          7.5,
          4.9,
          8.9,
          16.6,
          8.8,
          5.4,
          5.6,
          0,
          7.4,
          9.1,
          6.6,
          6.2,
          1.5,
          7.4,
          0.8,
          4.8,
          5.1,
          5.5,
          5.2,
          2.2,
          8.1,
          1.5,
          6.3,
          7.3,
          10.4,
          6.4,
          5.4,
          0,
          11.8,
          11.4,
          9.6,
          14,
          0,
          6.5,
          2.8,
          5,
          5.5,
          31.7,
          2.4,
          0,
          15.3,
          1.6,
          5.4,
          12.7,
          2.2,
          5.4,
          6.2,
          3.2,
          13.2,
          5.4,
          2.8,
          2.7,
          5,
          10.8,
          1.4,
          2.2,
          8.8,
          4,
          5.3,
          7.4,
          6.8,
          11.5,
          8.1,
          4.3,
          2.7,
          15.2,
          1.3,
          3.6,
          2.8,
          9.9,
          26.1,
          20.4,
          0.6,
          1.9,
          4.4,
          4.8,
          8.2,
          3.2,
          2,
          8.2,
          5,
          14.3,
          7.1,
          7.7,
          1.8,
          9,
          3.8,
          5.2,
          4.7,
          6,
          8.5,
          2.9,
          3.5,
          2.4,
          21.4,
          0.8,
          8.6,
          0,
          2.2,
          7.9,
          10.2
         ],
         "xaxis": "x5",
         "yaxis": "y5"
        }
       ],
       "layout": {
        "annotations": [
         {
          "font": {},
          "showarrow": false,
          "text": "Position=SG",
          "x": 0.09200000000000001,
          "xanchor": "center",
          "xref": "paper",
          "y": 1,
          "yanchor": "bottom",
          "yref": "paper"
         },
         {
          "font": {},
          "showarrow": false,
          "text": "Position=SF",
          "x": 0.29600000000000004,
          "xanchor": "center",
          "xref": "paper",
          "y": 1,
          "yanchor": "bottom",
          "yref": "paper"
         },
         {
          "font": {},
          "showarrow": false,
          "text": "Position=PF",
          "x": 0.5,
          "xanchor": "center",
          "xref": "paper",
          "y": 1,
          "yanchor": "bottom",
          "yref": "paper"
         },
         {
          "font": {},
          "showarrow": false,
          "text": "Position=PG",
          "x": 0.7040000000000002,
          "xanchor": "center",
          "xref": "paper",
          "y": 1,
          "yanchor": "bottom",
          "yref": "paper"
         },
         {
          "font": {},
          "showarrow": false,
          "text": "Position=C",
          "x": 0.908,
          "xanchor": "center",
          "xref": "paper",
          "y": 1,
          "yanchor": "bottom",
          "yref": "paper"
         }
        ],
        "barmode": "relative",
        "legend": {
         "tracegroupgap": 0
        },
        "template": {
         "data": {
          "bar": [
           {
            "error_x": {
             "color": "#2a3f5f"
            },
            "error_y": {
             "color": "#2a3f5f"
            },
            "marker": {
             "line": {
              "color": "#E5ECF6",
              "width": 0.5
             },
             "pattern": {
              "fillmode": "overlay",
              "size": 10,
              "solidity": 0.2
             }
            },
            "type": "bar"
           }
          ],
          "barpolar": [
           {
            "marker": {
             "line": {
              "color": "#E5ECF6",
              "width": 0.5
             },
             "pattern": {
              "fillmode": "overlay",
              "size": 10,
              "solidity": 0.2
             }
            },
            "type": "barpolar"
           }
          ],
          "carpet": [
           {
            "aaxis": {
             "endlinecolor": "#2a3f5f",
             "gridcolor": "white",
             "linecolor": "white",
             "minorgridcolor": "white",
             "startlinecolor": "#2a3f5f"
            },
            "baxis": {
             "endlinecolor": "#2a3f5f",
             "gridcolor": "white",
             "linecolor": "white",
             "minorgridcolor": "white",
             "startlinecolor": "#2a3f5f"
            },
            "type": "carpet"
           }
          ],
          "choropleth": [
           {
            "colorbar": {
             "outlinewidth": 0,
             "ticks": ""
            },
            "type": "choropleth"
           }
          ],
          "contour": [
           {
            "colorbar": {
             "outlinewidth": 0,
             "ticks": ""
            },
            "colorscale": [
             [
              0,
              "#0d0887"
             ],
             [
              0.1111111111111111,
              "#46039f"
             ],
             [
              0.2222222222222222,
              "#7201a8"
             ],
             [
              0.3333333333333333,
              "#9c179e"
             ],
             [
              0.4444444444444444,
              "#bd3786"
             ],
             [
              0.5555555555555556,
              "#d8576b"
             ],
             [
              0.6666666666666666,
              "#ed7953"
             ],
             [
              0.7777777777777778,
              "#fb9f3a"
             ],
             [
              0.8888888888888888,
              "#fdca26"
             ],
             [
              1,
              "#f0f921"
             ]
            ],
            "type": "contour"
           }
          ],
          "contourcarpet": [
           {
            "colorbar": {
             "outlinewidth": 0,
             "ticks": ""
            },
            "type": "contourcarpet"
           }
          ],
          "heatmap": [
           {
            "colorbar": {
             "outlinewidth": 0,
             "ticks": ""
            },
            "colorscale": [
             [
              0,
              "#0d0887"
             ],
             [
              0.1111111111111111,
              "#46039f"
             ],
             [
              0.2222222222222222,
              "#7201a8"
             ],
             [
              0.3333333333333333,
              "#9c179e"
             ],
             [
              0.4444444444444444,
              "#bd3786"
             ],
             [
              0.5555555555555556,
              "#d8576b"
             ],
             [
              0.6666666666666666,
              "#ed7953"
             ],
             [
              0.7777777777777778,
              "#fb9f3a"
             ],
             [
              0.8888888888888888,
              "#fdca26"
             ],
             [
              1,
              "#f0f921"
             ]
            ],
            "type": "heatmap"
           }
          ],
          "heatmapgl": [
           {
            "colorbar": {
             "outlinewidth": 0,
             "ticks": ""
            },
            "colorscale": [
             [
              0,
              "#0d0887"
             ],
             [
              0.1111111111111111,
              "#46039f"
             ],
             [
              0.2222222222222222,
              "#7201a8"
             ],
             [
              0.3333333333333333,
              "#9c179e"
             ],
             [
              0.4444444444444444,
              "#bd3786"
             ],
             [
              0.5555555555555556,
              "#d8576b"
             ],
             [
              0.6666666666666666,
              "#ed7953"
             ],
             [
              0.7777777777777778,
              "#fb9f3a"
             ],
             [
              0.8888888888888888,
              "#fdca26"
             ],
             [
              1,
              "#f0f921"
             ]
            ],
            "type": "heatmapgl"
           }
          ],
          "histogram": [
           {
            "marker": {
             "pattern": {
              "fillmode": "overlay",
              "size": 10,
              "solidity": 0.2
             }
            },
            "type": "histogram"
           }
          ],
          "histogram2d": [
           {
            "colorbar": {
             "outlinewidth": 0,
             "ticks": ""
            },
            "colorscale": [
             [
              0,
              "#0d0887"
             ],
             [
              0.1111111111111111,
              "#46039f"
             ],
             [
              0.2222222222222222,
              "#7201a8"
             ],
             [
              0.3333333333333333,
              "#9c179e"
             ],
             [
              0.4444444444444444,
              "#bd3786"
             ],
             [
              0.5555555555555556,
              "#d8576b"
             ],
             [
              0.6666666666666666,
              "#ed7953"
             ],
             [
              0.7777777777777778,
              "#fb9f3a"
             ],
             [
              0.8888888888888888,
              "#fdca26"
             ],
             [
              1,
              "#f0f921"
             ]
            ],
            "type": "histogram2d"
           }
          ],
          "histogram2dcontour": [
           {
            "colorbar": {
             "outlinewidth": 0,
             "ticks": ""
            },
            "colorscale": [
             [
              0,
              "#0d0887"
             ],
             [
              0.1111111111111111,
              "#46039f"
             ],
             [
              0.2222222222222222,
              "#7201a8"
             ],
             [
              0.3333333333333333,
              "#9c179e"
             ],
             [
              0.4444444444444444,
              "#bd3786"
             ],
             [
              0.5555555555555556,
              "#d8576b"
             ],
             [
              0.6666666666666666,
              "#ed7953"
             ],
             [
              0.7777777777777778,
              "#fb9f3a"
             ],
             [
              0.8888888888888888,
              "#fdca26"
             ],
             [
              1,
              "#f0f921"
             ]
            ],
            "type": "histogram2dcontour"
           }
          ],
          "mesh3d": [
           {
            "colorbar": {
             "outlinewidth": 0,
             "ticks": ""
            },
            "type": "mesh3d"
           }
          ],
          "parcoords": [
           {
            "line": {
             "colorbar": {
              "outlinewidth": 0,
              "ticks": ""
             }
            },
            "type": "parcoords"
           }
          ],
          "pie": [
           {
            "automargin": true,
            "type": "pie"
           }
          ],
          "scatter": [
           {
            "fillpattern": {
             "fillmode": "overlay",
             "size": 10,
             "solidity": 0.2
            },
            "type": "scatter"
           }
          ],
          "scatter3d": [
           {
            "line": {
             "colorbar": {
              "outlinewidth": 0,
              "ticks": ""
             }
            },
            "marker": {
             "colorbar": {
              "outlinewidth": 0,
              "ticks": ""
             }
            },
            "type": "scatter3d"
           }
          ],
          "scattercarpet": [
           {
            "marker": {
             "colorbar": {
              "outlinewidth": 0,
              "ticks": ""
             }
            },
            "type": "scattercarpet"
           }
          ],
          "scattergeo": [
           {
            "marker": {
             "colorbar": {
              "outlinewidth": 0,
              "ticks": ""
             }
            },
            "type": "scattergeo"
           }
          ],
          "scattergl": [
           {
            "marker": {
             "colorbar": {
              "outlinewidth": 0,
              "ticks": ""
             }
            },
            "type": "scattergl"
           }
          ],
          "scattermapbox": [
           {
            "marker": {
             "colorbar": {
              "outlinewidth": 0,
              "ticks": ""
             }
            },
            "type": "scattermapbox"
           }
          ],
          "scatterpolar": [
           {
            "marker": {
             "colorbar": {
              "outlinewidth": 0,
              "ticks": ""
             }
            },
            "type": "scatterpolar"
           }
          ],
          "scatterpolargl": [
           {
            "marker": {
             "colorbar": {
              "outlinewidth": 0,
              "ticks": ""
             }
            },
            "type": "scatterpolargl"
           }
          ],
          "scatterternary": [
           {
            "marker": {
             "colorbar": {
              "outlinewidth": 0,
              "ticks": ""
             }
            },
            "type": "scatterternary"
           }
          ],
          "surface": [
           {
            "colorbar": {
             "outlinewidth": 0,
             "ticks": ""
            },
            "colorscale": [
             [
              0,
              "#0d0887"
             ],
             [
              0.1111111111111111,
              "#46039f"
             ],
             [
              0.2222222222222222,
              "#7201a8"
             ],
             [
              0.3333333333333333,
              "#9c179e"
             ],
             [
              0.4444444444444444,
              "#bd3786"
             ],
             [
              0.5555555555555556,
              "#d8576b"
             ],
             [
              0.6666666666666666,
              "#ed7953"
             ],
             [
              0.7777777777777778,
              "#fb9f3a"
             ],
             [
              0.8888888888888888,
              "#fdca26"
             ],
             [
              1,
              "#f0f921"
             ]
            ],
            "type": "surface"
           }
          ],
          "table": [
           {
            "cells": {
             "fill": {
              "color": "#EBF0F8"
             },
             "line": {
              "color": "white"
             }
            },
            "header": {
             "fill": {
              "color": "#C8D4E3"
             },
             "line": {
              "color": "white"
             }
            },
            "type": "table"
           }
          ]
         },
         "layout": {
          "annotationdefaults": {
           "arrowcolor": "#2a3f5f",
           "arrowhead": 0,
           "arrowwidth": 1
          },
          "autotypenumbers": "strict",
          "coloraxis": {
           "colorbar": {
            "outlinewidth": 0,
            "ticks": ""
           }
          },
          "colorscale": {
           "diverging": [
            [
             0,
             "#8e0152"
            ],
            [
             0.1,
             "#c51b7d"
            ],
            [
             0.2,
             "#de77ae"
            ],
            [
             0.3,
             "#f1b6da"
            ],
            [
             0.4,
             "#fde0ef"
            ],
            [
             0.5,
             "#f7f7f7"
            ],
            [
             0.6,
             "#e6f5d0"
            ],
            [
             0.7,
             "#b8e186"
            ],
            [
             0.8,
             "#7fbc41"
            ],
            [
             0.9,
             "#4d9221"
            ],
            [
             1,
             "#276419"
            ]
           ],
           "sequential": [
            [
             0,
             "#0d0887"
            ],
            [
             0.1111111111111111,
             "#46039f"
            ],
            [
             0.2222222222222222,
             "#7201a8"
            ],
            [
             0.3333333333333333,
             "#9c179e"
            ],
            [
             0.4444444444444444,
             "#bd3786"
            ],
            [
             0.5555555555555556,
             "#d8576b"
            ],
            [
             0.6666666666666666,
             "#ed7953"
            ],
            [
             0.7777777777777778,
             "#fb9f3a"
            ],
            [
             0.8888888888888888,
             "#fdca26"
            ],
            [
             1,
             "#f0f921"
            ]
           ],
           "sequentialminus": [
            [
             0,
             "#0d0887"
            ],
            [
             0.1111111111111111,
             "#46039f"
            ],
            [
             0.2222222222222222,
             "#7201a8"
            ],
            [
             0.3333333333333333,
             "#9c179e"
            ],
            [
             0.4444444444444444,
             "#bd3786"
            ],
            [
             0.5555555555555556,
             "#d8576b"
            ],
            [
             0.6666666666666666,
             "#ed7953"
            ],
            [
             0.7777777777777778,
             "#fb9f3a"
            ],
            [
             0.8888888888888888,
             "#fdca26"
            ],
            [
             1,
             "#f0f921"
            ]
           ]
          },
          "colorway": [
           "#636efa",
           "#EF553B",
           "#00cc96",
           "#ab63fa",
           "#FFA15A",
           "#19d3f3",
           "#FF6692",
           "#B6E880",
           "#FF97FF",
           "#FECB52"
          ],
          "font": {
           "color": "#2a3f5f"
          },
          "geo": {
           "bgcolor": "white",
           "lakecolor": "white",
           "landcolor": "#E5ECF6",
           "showlakes": true,
           "showland": true,
           "subunitcolor": "white"
          },
          "hoverlabel": {
           "align": "left"
          },
          "hovermode": "closest",
          "mapbox": {
           "style": "light"
          },
          "paper_bgcolor": "white",
          "plot_bgcolor": "#E5ECF6",
          "polar": {
           "angularaxis": {
            "gridcolor": "white",
            "linecolor": "white",
            "ticks": ""
           },
           "bgcolor": "#E5ECF6",
           "radialaxis": {
            "gridcolor": "white",
            "linecolor": "white",
            "ticks": ""
           }
          },
          "scene": {
           "xaxis": {
            "backgroundcolor": "#E5ECF6",
            "gridcolor": "white",
            "gridwidth": 2,
            "linecolor": "white",
            "showbackground": true,
            "ticks": "",
            "zerolinecolor": "white"
           },
           "yaxis": {
            "backgroundcolor": "#E5ECF6",
            "gridcolor": "white",
            "gridwidth": 2,
            "linecolor": "white",
            "showbackground": true,
            "ticks": "",
            "zerolinecolor": "white"
           },
           "zaxis": {
            "backgroundcolor": "#E5ECF6",
            "gridcolor": "white",
            "gridwidth": 2,
            "linecolor": "white",
            "showbackground": true,
            "ticks": "",
            "zerolinecolor": "white"
           }
          },
          "shapedefaults": {
           "line": {
            "color": "#2a3f5f"
           }
          },
          "ternary": {
           "aaxis": {
            "gridcolor": "white",
            "linecolor": "white",
            "ticks": ""
           },
           "baxis": {
            "gridcolor": "white",
            "linecolor": "white",
            "ticks": ""
           },
           "bgcolor": "#E5ECF6",
           "caxis": {
            "gridcolor": "white",
            "linecolor": "white",
            "ticks": ""
           }
          },
          "title": {
           "x": 0.05
          },
          "xaxis": {
           "automargin": true,
           "gridcolor": "white",
           "linecolor": "white",
           "ticks": "",
           "title": {
            "standoff": 15
           },
           "zerolinecolor": "white",
           "zerolinewidth": 2
          },
          "yaxis": {
           "automargin": true,
           "gridcolor": "white",
           "linecolor": "white",
           "ticks": "",
           "title": {
            "standoff": 15
           },
           "zerolinecolor": "white",
           "zerolinewidth": 2
          }
         }
        },
        "title": {
         "text": "Points Per Game Distribution by Position"
        },
        "xaxis": {
         "anchor": "y",
         "domain": [
          0,
          0.18400000000000002
         ],
         "title": {
          "text": "Points Per Game"
         }
        },
        "xaxis2": {
         "anchor": "y2",
         "domain": [
          0.20400000000000001,
          0.388
         ],
         "matches": "x",
         "title": {
          "text": "Points Per Game"
         }
        },
        "xaxis3": {
         "anchor": "y3",
         "domain": [
          0.40800000000000003,
          0.5920000000000001
         ],
         "matches": "x",
         "title": {
          "text": "Points Per Game"
         }
        },
        "xaxis4": {
         "anchor": "y4",
         "domain": [
          0.6120000000000001,
          0.7960000000000002
         ],
         "matches": "x",
         "title": {
          "text": "Points Per Game"
         }
        },
        "xaxis5": {
         "anchor": "y5",
         "domain": [
          0.8160000000000001,
          1
         ],
         "matches": "x",
         "title": {
          "text": "Points Per Game"
         }
        },
        "yaxis": {
         "anchor": "x",
         "domain": [
          0,
          1
         ],
         "title": {
          "text": "count"
         }
        },
        "yaxis2": {
         "anchor": "x2",
         "domain": [
          0,
          1
         ],
         "matches": "y",
         "showticklabels": false
        },
        "yaxis3": {
         "anchor": "x3",
         "domain": [
          0,
          1
         ],
         "matches": "y",
         "showticklabels": false
        },
        "yaxis4": {
         "anchor": "x4",
         "domain": [
          0,
          1
         ],
         "matches": "y",
         "showticklabels": false
        },
        "yaxis5": {
         "anchor": "x5",
         "domain": [
          0,
          1
         ],
         "matches": "y",
         "showticklabels": false
        }
       }
      }
     },
     "metadata": {},
     "output_type": "display_data"
    }
   ],
   "source": [
    "# Histogram of PTS by Position\n",
    "# Filter just PTS and Pos columns\n",
    "pts_pos = average_stats[['PTS', 'Pos']]\n",
    "\n",
    "# Filter out players with multiple positions\n",
    "position = ['PG', 'SG', 'SF', 'PF', 'C']\n",
    "pts_pos = pts_pos[pts_pos['Pos'].isin(position)]\n",
    "\n",
    "# Create histogram faceted by position\n",
    "fig2 = px.histogram(pts_pos, x='PTS', facet_col='Pos', \n",
    "                   title='Points Per Game Distribution by Position',\n",
    "                   labels={'PTS': 'Points Per Game', 'Pos': 'Position'},\n",
    "                   opacity=1, nbins=20)\n",
    "\n",
    "fig2.show()"
   ]
  },
  {
   "cell_type": "markdown",
   "metadata": {},
   "source": [
    "Above shows 5 histograms, each assigned with their own position. This shows how many players in their own separate position are more frequent to average a certain amount of points. They all share the same mean which is about the 5 PTS mark."
   ]
  },
  {
   "cell_type": "code",
   "execution_count": 471,
   "metadata": {},
   "outputs": [
    {
     "data": {
      "application/vnd.plotly.v1+json": {
       "config": {
        "plotlyServerURL": "https://plot.ly"
       },
       "data": [
        {
         "alignmentgroup": "True",
         "hovertemplate": "Points Per Game=%{marker.color}<br>Player Name=%{y}<extra></extra>",
         "legendgroup": "",
         "marker": {
          "color": [
           25.3,
           26.1,
           26.4,
           26.8,
           26.8,
           26.8,
           27.3,
           27.4,
           27.5,
           27.6,
           28.1,
           28.3,
           29.9,
           30.6,
           31.7
          ],
          "coloraxis": "coloraxis",
          "pattern": {
           "shape": ""
          }
         },
         "name": "",
         "offsetgroup": "",
         "orientation": "h",
         "showlegend": false,
         "textposition": "auto",
         "type": "bar",
         "x": [
          25.3,
          26.1,
          26.4,
          26.8,
          26.8,
          26.8,
          27.3,
          27.4,
          27.5,
          27.6,
          28.1,
          28.3,
          29.9,
          30.6,
          31.7
         ],
         "xaxis": "x",
         "y": [
          "Zion Williamson",
          "Nikola Jokić",
          "Trae Young",
          "Donovan Mitchell",
          "Kyrie Irving",
          "Devin Booker",
          "Damian Lillard",
          "Shai Gilgeous-Alexander",
          "LeBron James",
          "Jayson Tatum",
          "Kevin Durant",
          "Stephen Curry",
          "Giannis Antetokounmpo",
          "Luka Dončić",
          "Joel Embiid"
         ],
         "yaxis": "y"
        }
       ],
       "layout": {
        "barmode": "relative",
        "coloraxis": {
         "colorbar": {
          "title": {
           "text": "Points Per Game"
          }
         },
         "colorscale": [
          [
           0,
           "#0d0887"
          ],
          [
           0.1111111111111111,
           "#46039f"
          ],
          [
           0.2222222222222222,
           "#7201a8"
          ],
          [
           0.3333333333333333,
           "#9c179e"
          ],
          [
           0.4444444444444444,
           "#bd3786"
          ],
          [
           0.5555555555555556,
           "#d8576b"
          ],
          [
           0.6666666666666666,
           "#ed7953"
          ],
          [
           0.7777777777777778,
           "#fb9f3a"
          ],
          [
           0.8888888888888888,
           "#fdca26"
          ],
          [
           1,
           "#f0f921"
          ]
         ]
        },
        "legend": {
         "tracegroupgap": 0
        },
        "template": {
         "data": {
          "bar": [
           {
            "error_x": {
             "color": "#2a3f5f"
            },
            "error_y": {
             "color": "#2a3f5f"
            },
            "marker": {
             "line": {
              "color": "#E5ECF6",
              "width": 0.5
             },
             "pattern": {
              "fillmode": "overlay",
              "size": 10,
              "solidity": 0.2
             }
            },
            "type": "bar"
           }
          ],
          "barpolar": [
           {
            "marker": {
             "line": {
              "color": "#E5ECF6",
              "width": 0.5
             },
             "pattern": {
              "fillmode": "overlay",
              "size": 10,
              "solidity": 0.2
             }
            },
            "type": "barpolar"
           }
          ],
          "carpet": [
           {
            "aaxis": {
             "endlinecolor": "#2a3f5f",
             "gridcolor": "white",
             "linecolor": "white",
             "minorgridcolor": "white",
             "startlinecolor": "#2a3f5f"
            },
            "baxis": {
             "endlinecolor": "#2a3f5f",
             "gridcolor": "white",
             "linecolor": "white",
             "minorgridcolor": "white",
             "startlinecolor": "#2a3f5f"
            },
            "type": "carpet"
           }
          ],
          "choropleth": [
           {
            "colorbar": {
             "outlinewidth": 0,
             "ticks": ""
            },
            "type": "choropleth"
           }
          ],
          "contour": [
           {
            "colorbar": {
             "outlinewidth": 0,
             "ticks": ""
            },
            "colorscale": [
             [
              0,
              "#0d0887"
             ],
             [
              0.1111111111111111,
              "#46039f"
             ],
             [
              0.2222222222222222,
              "#7201a8"
             ],
             [
              0.3333333333333333,
              "#9c179e"
             ],
             [
              0.4444444444444444,
              "#bd3786"
             ],
             [
              0.5555555555555556,
              "#d8576b"
             ],
             [
              0.6666666666666666,
              "#ed7953"
             ],
             [
              0.7777777777777778,
              "#fb9f3a"
             ],
             [
              0.8888888888888888,
              "#fdca26"
             ],
             [
              1,
              "#f0f921"
             ]
            ],
            "type": "contour"
           }
          ],
          "contourcarpet": [
           {
            "colorbar": {
             "outlinewidth": 0,
             "ticks": ""
            },
            "type": "contourcarpet"
           }
          ],
          "heatmap": [
           {
            "colorbar": {
             "outlinewidth": 0,
             "ticks": ""
            },
            "colorscale": [
             [
              0,
              "#0d0887"
             ],
             [
              0.1111111111111111,
              "#46039f"
             ],
             [
              0.2222222222222222,
              "#7201a8"
             ],
             [
              0.3333333333333333,
              "#9c179e"
             ],
             [
              0.4444444444444444,
              "#bd3786"
             ],
             [
              0.5555555555555556,
              "#d8576b"
             ],
             [
              0.6666666666666666,
              "#ed7953"
             ],
             [
              0.7777777777777778,
              "#fb9f3a"
             ],
             [
              0.8888888888888888,
              "#fdca26"
             ],
             [
              1,
              "#f0f921"
             ]
            ],
            "type": "heatmap"
           }
          ],
          "heatmapgl": [
           {
            "colorbar": {
             "outlinewidth": 0,
             "ticks": ""
            },
            "colorscale": [
             [
              0,
              "#0d0887"
             ],
             [
              0.1111111111111111,
              "#46039f"
             ],
             [
              0.2222222222222222,
              "#7201a8"
             ],
             [
              0.3333333333333333,
              "#9c179e"
             ],
             [
              0.4444444444444444,
              "#bd3786"
             ],
             [
              0.5555555555555556,
              "#d8576b"
             ],
             [
              0.6666666666666666,
              "#ed7953"
             ],
             [
              0.7777777777777778,
              "#fb9f3a"
             ],
             [
              0.8888888888888888,
              "#fdca26"
             ],
             [
              1,
              "#f0f921"
             ]
            ],
            "type": "heatmapgl"
           }
          ],
          "histogram": [
           {
            "marker": {
             "pattern": {
              "fillmode": "overlay",
              "size": 10,
              "solidity": 0.2
             }
            },
            "type": "histogram"
           }
          ],
          "histogram2d": [
           {
            "colorbar": {
             "outlinewidth": 0,
             "ticks": ""
            },
            "colorscale": [
             [
              0,
              "#0d0887"
             ],
             [
              0.1111111111111111,
              "#46039f"
             ],
             [
              0.2222222222222222,
              "#7201a8"
             ],
             [
              0.3333333333333333,
              "#9c179e"
             ],
             [
              0.4444444444444444,
              "#bd3786"
             ],
             [
              0.5555555555555556,
              "#d8576b"
             ],
             [
              0.6666666666666666,
              "#ed7953"
             ],
             [
              0.7777777777777778,
              "#fb9f3a"
             ],
             [
              0.8888888888888888,
              "#fdca26"
             ],
             [
              1,
              "#f0f921"
             ]
            ],
            "type": "histogram2d"
           }
          ],
          "histogram2dcontour": [
           {
            "colorbar": {
             "outlinewidth": 0,
             "ticks": ""
            },
            "colorscale": [
             [
              0,
              "#0d0887"
             ],
             [
              0.1111111111111111,
              "#46039f"
             ],
             [
              0.2222222222222222,
              "#7201a8"
             ],
             [
              0.3333333333333333,
              "#9c179e"
             ],
             [
              0.4444444444444444,
              "#bd3786"
             ],
             [
              0.5555555555555556,
              "#d8576b"
             ],
             [
              0.6666666666666666,
              "#ed7953"
             ],
             [
              0.7777777777777778,
              "#fb9f3a"
             ],
             [
              0.8888888888888888,
              "#fdca26"
             ],
             [
              1,
              "#f0f921"
             ]
            ],
            "type": "histogram2dcontour"
           }
          ],
          "mesh3d": [
           {
            "colorbar": {
             "outlinewidth": 0,
             "ticks": ""
            },
            "type": "mesh3d"
           }
          ],
          "parcoords": [
           {
            "line": {
             "colorbar": {
              "outlinewidth": 0,
              "ticks": ""
             }
            },
            "type": "parcoords"
           }
          ],
          "pie": [
           {
            "automargin": true,
            "type": "pie"
           }
          ],
          "scatter": [
           {
            "fillpattern": {
             "fillmode": "overlay",
             "size": 10,
             "solidity": 0.2
            },
            "type": "scatter"
           }
          ],
          "scatter3d": [
           {
            "line": {
             "colorbar": {
              "outlinewidth": 0,
              "ticks": ""
             }
            },
            "marker": {
             "colorbar": {
              "outlinewidth": 0,
              "ticks": ""
             }
            },
            "type": "scatter3d"
           }
          ],
          "scattercarpet": [
           {
            "marker": {
             "colorbar": {
              "outlinewidth": 0,
              "ticks": ""
             }
            },
            "type": "scattercarpet"
           }
          ],
          "scattergeo": [
           {
            "marker": {
             "colorbar": {
              "outlinewidth": 0,
              "ticks": ""
             }
            },
            "type": "scattergeo"
           }
          ],
          "scattergl": [
           {
            "marker": {
             "colorbar": {
              "outlinewidth": 0,
              "ticks": ""
             }
            },
            "type": "scattergl"
           }
          ],
          "scattermapbox": [
           {
            "marker": {
             "colorbar": {
              "outlinewidth": 0,
              "ticks": ""
             }
            },
            "type": "scattermapbox"
           }
          ],
          "scatterpolar": [
           {
            "marker": {
             "colorbar": {
              "outlinewidth": 0,
              "ticks": ""
             }
            },
            "type": "scatterpolar"
           }
          ],
          "scatterpolargl": [
           {
            "marker": {
             "colorbar": {
              "outlinewidth": 0,
              "ticks": ""
             }
            },
            "type": "scatterpolargl"
           }
          ],
          "scatterternary": [
           {
            "marker": {
             "colorbar": {
              "outlinewidth": 0,
              "ticks": ""
             }
            },
            "type": "scatterternary"
           }
          ],
          "surface": [
           {
            "colorbar": {
             "outlinewidth": 0,
             "ticks": ""
            },
            "colorscale": [
             [
              0,
              "#0d0887"
             ],
             [
              0.1111111111111111,
              "#46039f"
             ],
             [
              0.2222222222222222,
              "#7201a8"
             ],
             [
              0.3333333333333333,
              "#9c179e"
             ],
             [
              0.4444444444444444,
              "#bd3786"
             ],
             [
              0.5555555555555556,
              "#d8576b"
             ],
             [
              0.6666666666666666,
              "#ed7953"
             ],
             [
              0.7777777777777778,
              "#fb9f3a"
             ],
             [
              0.8888888888888888,
              "#fdca26"
             ],
             [
              1,
              "#f0f921"
             ]
            ],
            "type": "surface"
           }
          ],
          "table": [
           {
            "cells": {
             "fill": {
              "color": "#EBF0F8"
             },
             "line": {
              "color": "white"
             }
            },
            "header": {
             "fill": {
              "color": "#C8D4E3"
             },
             "line": {
              "color": "white"
             }
            },
            "type": "table"
           }
          ]
         },
         "layout": {
          "annotationdefaults": {
           "arrowcolor": "#2a3f5f",
           "arrowhead": 0,
           "arrowwidth": 1
          },
          "autotypenumbers": "strict",
          "coloraxis": {
           "colorbar": {
            "outlinewidth": 0,
            "ticks": ""
           }
          },
          "colorscale": {
           "diverging": [
            [
             0,
             "#8e0152"
            ],
            [
             0.1,
             "#c51b7d"
            ],
            [
             0.2,
             "#de77ae"
            ],
            [
             0.3,
             "#f1b6da"
            ],
            [
             0.4,
             "#fde0ef"
            ],
            [
             0.5,
             "#f7f7f7"
            ],
            [
             0.6,
             "#e6f5d0"
            ],
            [
             0.7,
             "#b8e186"
            ],
            [
             0.8,
             "#7fbc41"
            ],
            [
             0.9,
             "#4d9221"
            ],
            [
             1,
             "#276419"
            ]
           ],
           "sequential": [
            [
             0,
             "#0d0887"
            ],
            [
             0.1111111111111111,
             "#46039f"
            ],
            [
             0.2222222222222222,
             "#7201a8"
            ],
            [
             0.3333333333333333,
             "#9c179e"
            ],
            [
             0.4444444444444444,
             "#bd3786"
            ],
            [
             0.5555555555555556,
             "#d8576b"
            ],
            [
             0.6666666666666666,
             "#ed7953"
            ],
            [
             0.7777777777777778,
             "#fb9f3a"
            ],
            [
             0.8888888888888888,
             "#fdca26"
            ],
            [
             1,
             "#f0f921"
            ]
           ],
           "sequentialminus": [
            [
             0,
             "#0d0887"
            ],
            [
             0.1111111111111111,
             "#46039f"
            ],
            [
             0.2222222222222222,
             "#7201a8"
            ],
            [
             0.3333333333333333,
             "#9c179e"
            ],
            [
             0.4444444444444444,
             "#bd3786"
            ],
            [
             0.5555555555555556,
             "#d8576b"
            ],
            [
             0.6666666666666666,
             "#ed7953"
            ],
            [
             0.7777777777777778,
             "#fb9f3a"
            ],
            [
             0.8888888888888888,
             "#fdca26"
            ],
            [
             1,
             "#f0f921"
            ]
           ]
          },
          "colorway": [
           "#636efa",
           "#EF553B",
           "#00cc96",
           "#ab63fa",
           "#FFA15A",
           "#19d3f3",
           "#FF6692",
           "#B6E880",
           "#FF97FF",
           "#FECB52"
          ],
          "font": {
           "color": "#2a3f5f"
          },
          "geo": {
           "bgcolor": "white",
           "lakecolor": "white",
           "landcolor": "#E5ECF6",
           "showlakes": true,
           "showland": true,
           "subunitcolor": "white"
          },
          "hoverlabel": {
           "align": "left"
          },
          "hovermode": "closest",
          "mapbox": {
           "style": "light"
          },
          "paper_bgcolor": "white",
          "plot_bgcolor": "#E5ECF6",
          "polar": {
           "angularaxis": {
            "gridcolor": "white",
            "linecolor": "white",
            "ticks": ""
           },
           "bgcolor": "#E5ECF6",
           "radialaxis": {
            "gridcolor": "white",
            "linecolor": "white",
            "ticks": ""
           }
          },
          "scene": {
           "xaxis": {
            "backgroundcolor": "#E5ECF6",
            "gridcolor": "white",
            "gridwidth": 2,
            "linecolor": "white",
            "showbackground": true,
            "ticks": "",
            "zerolinecolor": "white"
           },
           "yaxis": {
            "backgroundcolor": "#E5ECF6",
            "gridcolor": "white",
            "gridwidth": 2,
            "linecolor": "white",
            "showbackground": true,
            "ticks": "",
            "zerolinecolor": "white"
           },
           "zaxis": {
            "backgroundcolor": "#E5ECF6",
            "gridcolor": "white",
            "gridwidth": 2,
            "linecolor": "white",
            "showbackground": true,
            "ticks": "",
            "zerolinecolor": "white"
           }
          },
          "shapedefaults": {
           "line": {
            "color": "#2a3f5f"
           }
          },
          "ternary": {
           "aaxis": {
            "gridcolor": "white",
            "linecolor": "white",
            "ticks": ""
           },
           "baxis": {
            "gridcolor": "white",
            "linecolor": "white",
            "ticks": ""
           },
           "bgcolor": "#E5ECF6",
           "caxis": {
            "gridcolor": "white",
            "linecolor": "white",
            "ticks": ""
           }
          },
          "title": {
           "x": 0.05
          },
          "xaxis": {
           "automargin": true,
           "gridcolor": "white",
           "linecolor": "white",
           "ticks": "",
           "title": {
            "standoff": 15
           },
           "zerolinecolor": "white",
           "zerolinewidth": 2
          },
          "yaxis": {
           "automargin": true,
           "gridcolor": "white",
           "linecolor": "white",
           "ticks": "",
           "title": {
            "standoff": 15
           },
           "zerolinecolor": "white",
           "zerolinewidth": 2
          }
         }
        },
        "title": {
         "text": "Top 15 Players with the Highest Points Per Game"
        },
        "xaxis": {
         "anchor": "y",
         "domain": [
          0,
          1
         ],
         "title": {
          "text": "Points Per Game"
         }
        },
        "yaxis": {
         "anchor": "x",
         "domain": [
          0,
          1
         ],
         "title": {
          "text": "Player Name"
         }
        }
       }
      }
     },
     "metadata": {},
     "output_type": "display_data"
    }
   ],
   "source": [
    "# Horizontal bar chart of the top 15 players with the highest points per game\n",
    "fig3 = px.bar(top15_scorers, x='PTS', y='Player', \n",
    "              title='Top 15 Players with the Highest Points Per Game',\n",
    "              labels={'PTS': 'Points Per Game', 'Player': 'Player Name'},\n",
    "              color='PTS', orientation = 'h')\n",
    "\n",
    "fig3.show()"
   ]
  },
  {
   "cell_type": "markdown",
   "metadata": {},
   "source": [
    "The bar graph above shows the top 15 players who have the highest points per game. The top scorer of 2020-2024 is Joel Embiid with 31.7 PTS. "
   ]
  },
  {
   "cell_type": "code",
   "execution_count": 472,
   "metadata": {},
   "outputs": [
    {
     "data": {
      "application/vnd.plotly.v1+json": {
       "config": {
        "plotlyServerURL": "https://plot.ly"
       },
       "data": [
        {
         "hovertemplate": "<b>%{hovertext}</b><br><br>Points Per Game=%{marker.size}<br>Field Goal Percentage=%{y}<extra></extra>",
         "hovertext": [
          "Zion Williamson",
          "Nikola Jokić",
          "Trae Young",
          "Donovan Mitchell",
          "Kyrie Irving",
          "Devin Booker",
          "Damian Lillard",
          "Shai Gilgeous-Alexander",
          "LeBron James",
          "Jayson Tatum",
          "Kevin Durant",
          "Stephen Curry",
          "Giannis Antetokounmpo",
          "Luka Dončić",
          "Joel Embiid"
         ],
         "legendgroup": "",
         "marker": {
          "color": "#636efa",
          "size": [
           25.3,
           26.1,
           26.4,
           26.8,
           26.8,
           26.8,
           27.3,
           27.4,
           27.5,
           27.6,
           28.1,
           28.3,
           29.9,
           30.6,
           31.7
          ],
          "sizemode": "area",
          "sizeref": 0.07925,
          "symbol": "circle"
         },
         "mode": "markers",
         "name": "",
         "orientation": "v",
         "showlegend": false,
         "type": "scatter",
         "x": [
          25.3,
          26.1,
          26.4,
          26.8,
          26.8,
          26.8,
          27.3,
          27.4,
          27.5,
          27.6,
          28.1,
          28.3,
          29.9,
          30.6,
          31.7
         ],
         "xaxis": "x",
         "y": [
          0.596,
          0.591,
          0.439,
          0.458,
          0.494,
          0.484,
          0.435,
          0.502,
          0.519,
          0.462,
          0.545,
          0.466,
          0.572,
          0.48,
          0.522
         ],
         "yaxis": "y"
        }
       ],
       "layout": {
        "legend": {
         "itemsizing": "constant",
         "tracegroupgap": 0
        },
        "template": {
         "data": {
          "bar": [
           {
            "error_x": {
             "color": "#2a3f5f"
            },
            "error_y": {
             "color": "#2a3f5f"
            },
            "marker": {
             "line": {
              "color": "#E5ECF6",
              "width": 0.5
             },
             "pattern": {
              "fillmode": "overlay",
              "size": 10,
              "solidity": 0.2
             }
            },
            "type": "bar"
           }
          ],
          "barpolar": [
           {
            "marker": {
             "line": {
              "color": "#E5ECF6",
              "width": 0.5
             },
             "pattern": {
              "fillmode": "overlay",
              "size": 10,
              "solidity": 0.2
             }
            },
            "type": "barpolar"
           }
          ],
          "carpet": [
           {
            "aaxis": {
             "endlinecolor": "#2a3f5f",
             "gridcolor": "white",
             "linecolor": "white",
             "minorgridcolor": "white",
             "startlinecolor": "#2a3f5f"
            },
            "baxis": {
             "endlinecolor": "#2a3f5f",
             "gridcolor": "white",
             "linecolor": "white",
             "minorgridcolor": "white",
             "startlinecolor": "#2a3f5f"
            },
            "type": "carpet"
           }
          ],
          "choropleth": [
           {
            "colorbar": {
             "outlinewidth": 0,
             "ticks": ""
            },
            "type": "choropleth"
           }
          ],
          "contour": [
           {
            "colorbar": {
             "outlinewidth": 0,
             "ticks": ""
            },
            "colorscale": [
             [
              0,
              "#0d0887"
             ],
             [
              0.1111111111111111,
              "#46039f"
             ],
             [
              0.2222222222222222,
              "#7201a8"
             ],
             [
              0.3333333333333333,
              "#9c179e"
             ],
             [
              0.4444444444444444,
              "#bd3786"
             ],
             [
              0.5555555555555556,
              "#d8576b"
             ],
             [
              0.6666666666666666,
              "#ed7953"
             ],
             [
              0.7777777777777778,
              "#fb9f3a"
             ],
             [
              0.8888888888888888,
              "#fdca26"
             ],
             [
              1,
              "#f0f921"
             ]
            ],
            "type": "contour"
           }
          ],
          "contourcarpet": [
           {
            "colorbar": {
             "outlinewidth": 0,
             "ticks": ""
            },
            "type": "contourcarpet"
           }
          ],
          "heatmap": [
           {
            "colorbar": {
             "outlinewidth": 0,
             "ticks": ""
            },
            "colorscale": [
             [
              0,
              "#0d0887"
             ],
             [
              0.1111111111111111,
              "#46039f"
             ],
             [
              0.2222222222222222,
              "#7201a8"
             ],
             [
              0.3333333333333333,
              "#9c179e"
             ],
             [
              0.4444444444444444,
              "#bd3786"
             ],
             [
              0.5555555555555556,
              "#d8576b"
             ],
             [
              0.6666666666666666,
              "#ed7953"
             ],
             [
              0.7777777777777778,
              "#fb9f3a"
             ],
             [
              0.8888888888888888,
              "#fdca26"
             ],
             [
              1,
              "#f0f921"
             ]
            ],
            "type": "heatmap"
           }
          ],
          "heatmapgl": [
           {
            "colorbar": {
             "outlinewidth": 0,
             "ticks": ""
            },
            "colorscale": [
             [
              0,
              "#0d0887"
             ],
             [
              0.1111111111111111,
              "#46039f"
             ],
             [
              0.2222222222222222,
              "#7201a8"
             ],
             [
              0.3333333333333333,
              "#9c179e"
             ],
             [
              0.4444444444444444,
              "#bd3786"
             ],
             [
              0.5555555555555556,
              "#d8576b"
             ],
             [
              0.6666666666666666,
              "#ed7953"
             ],
             [
              0.7777777777777778,
              "#fb9f3a"
             ],
             [
              0.8888888888888888,
              "#fdca26"
             ],
             [
              1,
              "#f0f921"
             ]
            ],
            "type": "heatmapgl"
           }
          ],
          "histogram": [
           {
            "marker": {
             "pattern": {
              "fillmode": "overlay",
              "size": 10,
              "solidity": 0.2
             }
            },
            "type": "histogram"
           }
          ],
          "histogram2d": [
           {
            "colorbar": {
             "outlinewidth": 0,
             "ticks": ""
            },
            "colorscale": [
             [
              0,
              "#0d0887"
             ],
             [
              0.1111111111111111,
              "#46039f"
             ],
             [
              0.2222222222222222,
              "#7201a8"
             ],
             [
              0.3333333333333333,
              "#9c179e"
             ],
             [
              0.4444444444444444,
              "#bd3786"
             ],
             [
              0.5555555555555556,
              "#d8576b"
             ],
             [
              0.6666666666666666,
              "#ed7953"
             ],
             [
              0.7777777777777778,
              "#fb9f3a"
             ],
             [
              0.8888888888888888,
              "#fdca26"
             ],
             [
              1,
              "#f0f921"
             ]
            ],
            "type": "histogram2d"
           }
          ],
          "histogram2dcontour": [
           {
            "colorbar": {
             "outlinewidth": 0,
             "ticks": ""
            },
            "colorscale": [
             [
              0,
              "#0d0887"
             ],
             [
              0.1111111111111111,
              "#46039f"
             ],
             [
              0.2222222222222222,
              "#7201a8"
             ],
             [
              0.3333333333333333,
              "#9c179e"
             ],
             [
              0.4444444444444444,
              "#bd3786"
             ],
             [
              0.5555555555555556,
              "#d8576b"
             ],
             [
              0.6666666666666666,
              "#ed7953"
             ],
             [
              0.7777777777777778,
              "#fb9f3a"
             ],
             [
              0.8888888888888888,
              "#fdca26"
             ],
             [
              1,
              "#f0f921"
             ]
            ],
            "type": "histogram2dcontour"
           }
          ],
          "mesh3d": [
           {
            "colorbar": {
             "outlinewidth": 0,
             "ticks": ""
            },
            "type": "mesh3d"
           }
          ],
          "parcoords": [
           {
            "line": {
             "colorbar": {
              "outlinewidth": 0,
              "ticks": ""
             }
            },
            "type": "parcoords"
           }
          ],
          "pie": [
           {
            "automargin": true,
            "type": "pie"
           }
          ],
          "scatter": [
           {
            "fillpattern": {
             "fillmode": "overlay",
             "size": 10,
             "solidity": 0.2
            },
            "type": "scatter"
           }
          ],
          "scatter3d": [
           {
            "line": {
             "colorbar": {
              "outlinewidth": 0,
              "ticks": ""
             }
            },
            "marker": {
             "colorbar": {
              "outlinewidth": 0,
              "ticks": ""
             }
            },
            "type": "scatter3d"
           }
          ],
          "scattercarpet": [
           {
            "marker": {
             "colorbar": {
              "outlinewidth": 0,
              "ticks": ""
             }
            },
            "type": "scattercarpet"
           }
          ],
          "scattergeo": [
           {
            "marker": {
             "colorbar": {
              "outlinewidth": 0,
              "ticks": ""
             }
            },
            "type": "scattergeo"
           }
          ],
          "scattergl": [
           {
            "marker": {
             "colorbar": {
              "outlinewidth": 0,
              "ticks": ""
             }
            },
            "type": "scattergl"
           }
          ],
          "scattermapbox": [
           {
            "marker": {
             "colorbar": {
              "outlinewidth": 0,
              "ticks": ""
             }
            },
            "type": "scattermapbox"
           }
          ],
          "scatterpolar": [
           {
            "marker": {
             "colorbar": {
              "outlinewidth": 0,
              "ticks": ""
             }
            },
            "type": "scatterpolar"
           }
          ],
          "scatterpolargl": [
           {
            "marker": {
             "colorbar": {
              "outlinewidth": 0,
              "ticks": ""
             }
            },
            "type": "scatterpolargl"
           }
          ],
          "scatterternary": [
           {
            "marker": {
             "colorbar": {
              "outlinewidth": 0,
              "ticks": ""
             }
            },
            "type": "scatterternary"
           }
          ],
          "surface": [
           {
            "colorbar": {
             "outlinewidth": 0,
             "ticks": ""
            },
            "colorscale": [
             [
              0,
              "#0d0887"
             ],
             [
              0.1111111111111111,
              "#46039f"
             ],
             [
              0.2222222222222222,
              "#7201a8"
             ],
             [
              0.3333333333333333,
              "#9c179e"
             ],
             [
              0.4444444444444444,
              "#bd3786"
             ],
             [
              0.5555555555555556,
              "#d8576b"
             ],
             [
              0.6666666666666666,
              "#ed7953"
             ],
             [
              0.7777777777777778,
              "#fb9f3a"
             ],
             [
              0.8888888888888888,
              "#fdca26"
             ],
             [
              1,
              "#f0f921"
             ]
            ],
            "type": "surface"
           }
          ],
          "table": [
           {
            "cells": {
             "fill": {
              "color": "#EBF0F8"
             },
             "line": {
              "color": "white"
             }
            },
            "header": {
             "fill": {
              "color": "#C8D4E3"
             },
             "line": {
              "color": "white"
             }
            },
            "type": "table"
           }
          ]
         },
         "layout": {
          "annotationdefaults": {
           "arrowcolor": "#2a3f5f",
           "arrowhead": 0,
           "arrowwidth": 1
          },
          "autotypenumbers": "strict",
          "coloraxis": {
           "colorbar": {
            "outlinewidth": 0,
            "ticks": ""
           }
          },
          "colorscale": {
           "diverging": [
            [
             0,
             "#8e0152"
            ],
            [
             0.1,
             "#c51b7d"
            ],
            [
             0.2,
             "#de77ae"
            ],
            [
             0.3,
             "#f1b6da"
            ],
            [
             0.4,
             "#fde0ef"
            ],
            [
             0.5,
             "#f7f7f7"
            ],
            [
             0.6,
             "#e6f5d0"
            ],
            [
             0.7,
             "#b8e186"
            ],
            [
             0.8,
             "#7fbc41"
            ],
            [
             0.9,
             "#4d9221"
            ],
            [
             1,
             "#276419"
            ]
           ],
           "sequential": [
            [
             0,
             "#0d0887"
            ],
            [
             0.1111111111111111,
             "#46039f"
            ],
            [
             0.2222222222222222,
             "#7201a8"
            ],
            [
             0.3333333333333333,
             "#9c179e"
            ],
            [
             0.4444444444444444,
             "#bd3786"
            ],
            [
             0.5555555555555556,
             "#d8576b"
            ],
            [
             0.6666666666666666,
             "#ed7953"
            ],
            [
             0.7777777777777778,
             "#fb9f3a"
            ],
            [
             0.8888888888888888,
             "#fdca26"
            ],
            [
             1,
             "#f0f921"
            ]
           ],
           "sequentialminus": [
            [
             0,
             "#0d0887"
            ],
            [
             0.1111111111111111,
             "#46039f"
            ],
            [
             0.2222222222222222,
             "#7201a8"
            ],
            [
             0.3333333333333333,
             "#9c179e"
            ],
            [
             0.4444444444444444,
             "#bd3786"
            ],
            [
             0.5555555555555556,
             "#d8576b"
            ],
            [
             0.6666666666666666,
             "#ed7953"
            ],
            [
             0.7777777777777778,
             "#fb9f3a"
            ],
            [
             0.8888888888888888,
             "#fdca26"
            ],
            [
             1,
             "#f0f921"
            ]
           ]
          },
          "colorway": [
           "#636efa",
           "#EF553B",
           "#00cc96",
           "#ab63fa",
           "#FFA15A",
           "#19d3f3",
           "#FF6692",
           "#B6E880",
           "#FF97FF",
           "#FECB52"
          ],
          "font": {
           "color": "#2a3f5f"
          },
          "geo": {
           "bgcolor": "white",
           "lakecolor": "white",
           "landcolor": "#E5ECF6",
           "showlakes": true,
           "showland": true,
           "subunitcolor": "white"
          },
          "hoverlabel": {
           "align": "left"
          },
          "hovermode": "closest",
          "mapbox": {
           "style": "light"
          },
          "paper_bgcolor": "white",
          "plot_bgcolor": "#E5ECF6",
          "polar": {
           "angularaxis": {
            "gridcolor": "white",
            "linecolor": "white",
            "ticks": ""
           },
           "bgcolor": "#E5ECF6",
           "radialaxis": {
            "gridcolor": "white",
            "linecolor": "white",
            "ticks": ""
           }
          },
          "scene": {
           "xaxis": {
            "backgroundcolor": "#E5ECF6",
            "gridcolor": "white",
            "gridwidth": 2,
            "linecolor": "white",
            "showbackground": true,
            "ticks": "",
            "zerolinecolor": "white"
           },
           "yaxis": {
            "backgroundcolor": "#E5ECF6",
            "gridcolor": "white",
            "gridwidth": 2,
            "linecolor": "white",
            "showbackground": true,
            "ticks": "",
            "zerolinecolor": "white"
           },
           "zaxis": {
            "backgroundcolor": "#E5ECF6",
            "gridcolor": "white",
            "gridwidth": 2,
            "linecolor": "white",
            "showbackground": true,
            "ticks": "",
            "zerolinecolor": "white"
           }
          },
          "shapedefaults": {
           "line": {
            "color": "#2a3f5f"
           }
          },
          "ternary": {
           "aaxis": {
            "gridcolor": "white",
            "linecolor": "white",
            "ticks": ""
           },
           "baxis": {
            "gridcolor": "white",
            "linecolor": "white",
            "ticks": ""
           },
           "bgcolor": "#E5ECF6",
           "caxis": {
            "gridcolor": "white",
            "linecolor": "white",
            "ticks": ""
           }
          },
          "title": {
           "x": 0.05
          },
          "xaxis": {
           "automargin": true,
           "gridcolor": "white",
           "linecolor": "white",
           "ticks": "",
           "title": {
            "standoff": 15
           },
           "zerolinecolor": "white",
           "zerolinewidth": 2
          },
          "yaxis": {
           "automargin": true,
           "gridcolor": "white",
           "linecolor": "white",
           "ticks": "",
           "title": {
            "standoff": 15
           },
           "zerolinecolor": "white",
           "zerolinewidth": 2
          }
         }
        },
        "title": {
         "text": "Points Per Game vs. Field Goal Percentage"
        },
        "xaxis": {
         "anchor": "y",
         "domain": [
          0,
          1
         ],
         "title": {
          "text": "Points Per Game"
         }
        },
        "yaxis": {
         "anchor": "x",
         "domain": [
          0,
          1
         ],
         "title": {
          "text": "Field Goal Percentage"
         }
        }
       }
      }
     },
     "metadata": {},
     "output_type": "display_data"
    }
   ],
   "source": [
    "# Scatter plot of Points Per Game vs. Field Goal Percentage of Top 15 Scorers\n",
    "fig4 = px.scatter(top15_scorers, x='PTS', y='FG%', \n",
    "                 title='Points Per Game vs. Field Goal Percentage',\n",
    "                 labels={'PTS': 'Points Per Game', 'FG%': 'Field Goal Percentage'},\n",
    "                 size='PTS', hover_name='Player')\n",
    "\n",
    "fig4.show()"
   ]
  },
  {
   "cell_type": "markdown",
   "metadata": {},
   "source": [
    "The scatterplot shows the Points vs. Field Goal Percentage, to show the efficiency of the top 30 scorers. Although, Joel Embiid is the top scorer, he is not the most efficient. The most efficient scorers are Zion Williamson scoring 25.3 PTS on 59.6% of shooting, Nikola Jokic scoring 26.1 PTS on 59.1% of shooting, and then Giannis Antetokounmpo scoring 29.9 PTS on 57.2% of shooting."
   ]
  },
  {
   "cell_type": "code",
   "execution_count": 473,
   "metadata": {},
   "outputs": [
    {
     "data": {
      "application/vnd.plotly.v1+json": {
       "config": {
        "plotlyServerURL": "https://plot.ly"
       },
       "data": [
        {
         "hovertemplate": "<b>%{hovertext}</b><br><br>Defensive Rebounds=%{x}<br>Offensive Rebounds=%{y}<br>REB=%{marker.size}<extra></extra>",
         "hovertext": [
          "Rudy Gobert",
          "Domantas Sabonis",
          "Nikola Jokić",
          "Clint Capela",
          "Giannis Antetokounmpo",
          "Nikola Vučević",
          "Joel Embiid",
          "Anthony Davis",
          "Jonas Valančiūnas",
          "Victor Wembanyama",
          "Deandre Ayton",
          "Jarrett Allen",
          "Jalen Duren",
          "Steven Adams",
          "Jusuf Nurkić"
         ],
         "legendgroup": "",
         "marker": {
          "color": "#636efa",
          "size": [
           13.2,
           12.4,
           12.2,
           12,
           11.5,
           11.2,
           10.9,
           10.7,
           10.7,
           10.6,
           10.4,
           10.2,
           10.2,
           10.1,
           10
          ],
          "sizemode": "area",
          "sizeref": 0.033,
          "symbol": "circle"
         },
         "mode": "markers",
         "name": "",
         "orientation": "v",
         "showlegend": false,
         "type": "scatter",
         "x": [
          9.6,
          9.3,
          9.5,
          7.7,
          9.4,
          9.1,
          8.8,
          8,
          7.6,
          8.4,
          7.6,
          7,
          7,
          5.7,
          7.4
         ],
         "xaxis": "x",
         "y": [
          3.6,
          3.1,
          2.7,
          4.3,
          2.1,
          2.2,
          2.1,
          2.8,
          3.1,
          2.3,
          2.9,
          3.2,
          3.2,
          4.5,
          2.6
         ],
         "yaxis": "y"
        }
       ],
       "layout": {
        "legend": {
         "itemsizing": "constant",
         "tracegroupgap": 0
        },
        "template": {
         "data": {
          "bar": [
           {
            "error_x": {
             "color": "#2a3f5f"
            },
            "error_y": {
             "color": "#2a3f5f"
            },
            "marker": {
             "line": {
              "color": "#E5ECF6",
              "width": 0.5
             },
             "pattern": {
              "fillmode": "overlay",
              "size": 10,
              "solidity": 0.2
             }
            },
            "type": "bar"
           }
          ],
          "barpolar": [
           {
            "marker": {
             "line": {
              "color": "#E5ECF6",
              "width": 0.5
             },
             "pattern": {
              "fillmode": "overlay",
              "size": 10,
              "solidity": 0.2
             }
            },
            "type": "barpolar"
           }
          ],
          "carpet": [
           {
            "aaxis": {
             "endlinecolor": "#2a3f5f",
             "gridcolor": "white",
             "linecolor": "white",
             "minorgridcolor": "white",
             "startlinecolor": "#2a3f5f"
            },
            "baxis": {
             "endlinecolor": "#2a3f5f",
             "gridcolor": "white",
             "linecolor": "white",
             "minorgridcolor": "white",
             "startlinecolor": "#2a3f5f"
            },
            "type": "carpet"
           }
          ],
          "choropleth": [
           {
            "colorbar": {
             "outlinewidth": 0,
             "ticks": ""
            },
            "type": "choropleth"
           }
          ],
          "contour": [
           {
            "colorbar": {
             "outlinewidth": 0,
             "ticks": ""
            },
            "colorscale": [
             [
              0,
              "#0d0887"
             ],
             [
              0.1111111111111111,
              "#46039f"
             ],
             [
              0.2222222222222222,
              "#7201a8"
             ],
             [
              0.3333333333333333,
              "#9c179e"
             ],
             [
              0.4444444444444444,
              "#bd3786"
             ],
             [
              0.5555555555555556,
              "#d8576b"
             ],
             [
              0.6666666666666666,
              "#ed7953"
             ],
             [
              0.7777777777777778,
              "#fb9f3a"
             ],
             [
              0.8888888888888888,
              "#fdca26"
             ],
             [
              1,
              "#f0f921"
             ]
            ],
            "type": "contour"
           }
          ],
          "contourcarpet": [
           {
            "colorbar": {
             "outlinewidth": 0,
             "ticks": ""
            },
            "type": "contourcarpet"
           }
          ],
          "heatmap": [
           {
            "colorbar": {
             "outlinewidth": 0,
             "ticks": ""
            },
            "colorscale": [
             [
              0,
              "#0d0887"
             ],
             [
              0.1111111111111111,
              "#46039f"
             ],
             [
              0.2222222222222222,
              "#7201a8"
             ],
             [
              0.3333333333333333,
              "#9c179e"
             ],
             [
              0.4444444444444444,
              "#bd3786"
             ],
             [
              0.5555555555555556,
              "#d8576b"
             ],
             [
              0.6666666666666666,
              "#ed7953"
             ],
             [
              0.7777777777777778,
              "#fb9f3a"
             ],
             [
              0.8888888888888888,
              "#fdca26"
             ],
             [
              1,
              "#f0f921"
             ]
            ],
            "type": "heatmap"
           }
          ],
          "heatmapgl": [
           {
            "colorbar": {
             "outlinewidth": 0,
             "ticks": ""
            },
            "colorscale": [
             [
              0,
              "#0d0887"
             ],
             [
              0.1111111111111111,
              "#46039f"
             ],
             [
              0.2222222222222222,
              "#7201a8"
             ],
             [
              0.3333333333333333,
              "#9c179e"
             ],
             [
              0.4444444444444444,
              "#bd3786"
             ],
             [
              0.5555555555555556,
              "#d8576b"
             ],
             [
              0.6666666666666666,
              "#ed7953"
             ],
             [
              0.7777777777777778,
              "#fb9f3a"
             ],
             [
              0.8888888888888888,
              "#fdca26"
             ],
             [
              1,
              "#f0f921"
             ]
            ],
            "type": "heatmapgl"
           }
          ],
          "histogram": [
           {
            "marker": {
             "pattern": {
              "fillmode": "overlay",
              "size": 10,
              "solidity": 0.2
             }
            },
            "type": "histogram"
           }
          ],
          "histogram2d": [
           {
            "colorbar": {
             "outlinewidth": 0,
             "ticks": ""
            },
            "colorscale": [
             [
              0,
              "#0d0887"
             ],
             [
              0.1111111111111111,
              "#46039f"
             ],
             [
              0.2222222222222222,
              "#7201a8"
             ],
             [
              0.3333333333333333,
              "#9c179e"
             ],
             [
              0.4444444444444444,
              "#bd3786"
             ],
             [
              0.5555555555555556,
              "#d8576b"
             ],
             [
              0.6666666666666666,
              "#ed7953"
             ],
             [
              0.7777777777777778,
              "#fb9f3a"
             ],
             [
              0.8888888888888888,
              "#fdca26"
             ],
             [
              1,
              "#f0f921"
             ]
            ],
            "type": "histogram2d"
           }
          ],
          "histogram2dcontour": [
           {
            "colorbar": {
             "outlinewidth": 0,
             "ticks": ""
            },
            "colorscale": [
             [
              0,
              "#0d0887"
             ],
             [
              0.1111111111111111,
              "#46039f"
             ],
             [
              0.2222222222222222,
              "#7201a8"
             ],
             [
              0.3333333333333333,
              "#9c179e"
             ],
             [
              0.4444444444444444,
              "#bd3786"
             ],
             [
              0.5555555555555556,
              "#d8576b"
             ],
             [
              0.6666666666666666,
              "#ed7953"
             ],
             [
              0.7777777777777778,
              "#fb9f3a"
             ],
             [
              0.8888888888888888,
              "#fdca26"
             ],
             [
              1,
              "#f0f921"
             ]
            ],
            "type": "histogram2dcontour"
           }
          ],
          "mesh3d": [
           {
            "colorbar": {
             "outlinewidth": 0,
             "ticks": ""
            },
            "type": "mesh3d"
           }
          ],
          "parcoords": [
           {
            "line": {
             "colorbar": {
              "outlinewidth": 0,
              "ticks": ""
             }
            },
            "type": "parcoords"
           }
          ],
          "pie": [
           {
            "automargin": true,
            "type": "pie"
           }
          ],
          "scatter": [
           {
            "fillpattern": {
             "fillmode": "overlay",
             "size": 10,
             "solidity": 0.2
            },
            "type": "scatter"
           }
          ],
          "scatter3d": [
           {
            "line": {
             "colorbar": {
              "outlinewidth": 0,
              "ticks": ""
             }
            },
            "marker": {
             "colorbar": {
              "outlinewidth": 0,
              "ticks": ""
             }
            },
            "type": "scatter3d"
           }
          ],
          "scattercarpet": [
           {
            "marker": {
             "colorbar": {
              "outlinewidth": 0,
              "ticks": ""
             }
            },
            "type": "scattercarpet"
           }
          ],
          "scattergeo": [
           {
            "marker": {
             "colorbar": {
              "outlinewidth": 0,
              "ticks": ""
             }
            },
            "type": "scattergeo"
           }
          ],
          "scattergl": [
           {
            "marker": {
             "colorbar": {
              "outlinewidth": 0,
              "ticks": ""
             }
            },
            "type": "scattergl"
           }
          ],
          "scattermapbox": [
           {
            "marker": {
             "colorbar": {
              "outlinewidth": 0,
              "ticks": ""
             }
            },
            "type": "scattermapbox"
           }
          ],
          "scatterpolar": [
           {
            "marker": {
             "colorbar": {
              "outlinewidth": 0,
              "ticks": ""
             }
            },
            "type": "scatterpolar"
           }
          ],
          "scatterpolargl": [
           {
            "marker": {
             "colorbar": {
              "outlinewidth": 0,
              "ticks": ""
             }
            },
            "type": "scatterpolargl"
           }
          ],
          "scatterternary": [
           {
            "marker": {
             "colorbar": {
              "outlinewidth": 0,
              "ticks": ""
             }
            },
            "type": "scatterternary"
           }
          ],
          "surface": [
           {
            "colorbar": {
             "outlinewidth": 0,
             "ticks": ""
            },
            "colorscale": [
             [
              0,
              "#0d0887"
             ],
             [
              0.1111111111111111,
              "#46039f"
             ],
             [
              0.2222222222222222,
              "#7201a8"
             ],
             [
              0.3333333333333333,
              "#9c179e"
             ],
             [
              0.4444444444444444,
              "#bd3786"
             ],
             [
              0.5555555555555556,
              "#d8576b"
             ],
             [
              0.6666666666666666,
              "#ed7953"
             ],
             [
              0.7777777777777778,
              "#fb9f3a"
             ],
             [
              0.8888888888888888,
              "#fdca26"
             ],
             [
              1,
              "#f0f921"
             ]
            ],
            "type": "surface"
           }
          ],
          "table": [
           {
            "cells": {
             "fill": {
              "color": "#EBF0F8"
             },
             "line": {
              "color": "white"
             }
            },
            "header": {
             "fill": {
              "color": "#C8D4E3"
             },
             "line": {
              "color": "white"
             }
            },
            "type": "table"
           }
          ]
         },
         "layout": {
          "annotationdefaults": {
           "arrowcolor": "#2a3f5f",
           "arrowhead": 0,
           "arrowwidth": 1
          },
          "autotypenumbers": "strict",
          "coloraxis": {
           "colorbar": {
            "outlinewidth": 0,
            "ticks": ""
           }
          },
          "colorscale": {
           "diverging": [
            [
             0,
             "#8e0152"
            ],
            [
             0.1,
             "#c51b7d"
            ],
            [
             0.2,
             "#de77ae"
            ],
            [
             0.3,
             "#f1b6da"
            ],
            [
             0.4,
             "#fde0ef"
            ],
            [
             0.5,
             "#f7f7f7"
            ],
            [
             0.6,
             "#e6f5d0"
            ],
            [
             0.7,
             "#b8e186"
            ],
            [
             0.8,
             "#7fbc41"
            ],
            [
             0.9,
             "#4d9221"
            ],
            [
             1,
             "#276419"
            ]
           ],
           "sequential": [
            [
             0,
             "#0d0887"
            ],
            [
             0.1111111111111111,
             "#46039f"
            ],
            [
             0.2222222222222222,
             "#7201a8"
            ],
            [
             0.3333333333333333,
             "#9c179e"
            ],
            [
             0.4444444444444444,
             "#bd3786"
            ],
            [
             0.5555555555555556,
             "#d8576b"
            ],
            [
             0.6666666666666666,
             "#ed7953"
            ],
            [
             0.7777777777777778,
             "#fb9f3a"
            ],
            [
             0.8888888888888888,
             "#fdca26"
            ],
            [
             1,
             "#f0f921"
            ]
           ],
           "sequentialminus": [
            [
             0,
             "#0d0887"
            ],
            [
             0.1111111111111111,
             "#46039f"
            ],
            [
             0.2222222222222222,
             "#7201a8"
            ],
            [
             0.3333333333333333,
             "#9c179e"
            ],
            [
             0.4444444444444444,
             "#bd3786"
            ],
            [
             0.5555555555555556,
             "#d8576b"
            ],
            [
             0.6666666666666666,
             "#ed7953"
            ],
            [
             0.7777777777777778,
             "#fb9f3a"
            ],
            [
             0.8888888888888888,
             "#fdca26"
            ],
            [
             1,
             "#f0f921"
            ]
           ]
          },
          "colorway": [
           "#636efa",
           "#EF553B",
           "#00cc96",
           "#ab63fa",
           "#FFA15A",
           "#19d3f3",
           "#FF6692",
           "#B6E880",
           "#FF97FF",
           "#FECB52"
          ],
          "font": {
           "color": "#2a3f5f"
          },
          "geo": {
           "bgcolor": "white",
           "lakecolor": "white",
           "landcolor": "#E5ECF6",
           "showlakes": true,
           "showland": true,
           "subunitcolor": "white"
          },
          "hoverlabel": {
           "align": "left"
          },
          "hovermode": "closest",
          "mapbox": {
           "style": "light"
          },
          "paper_bgcolor": "white",
          "plot_bgcolor": "#E5ECF6",
          "polar": {
           "angularaxis": {
            "gridcolor": "white",
            "linecolor": "white",
            "ticks": ""
           },
           "bgcolor": "#E5ECF6",
           "radialaxis": {
            "gridcolor": "white",
            "linecolor": "white",
            "ticks": ""
           }
          },
          "scene": {
           "xaxis": {
            "backgroundcolor": "#E5ECF6",
            "gridcolor": "white",
            "gridwidth": 2,
            "linecolor": "white",
            "showbackground": true,
            "ticks": "",
            "zerolinecolor": "white"
           },
           "yaxis": {
            "backgroundcolor": "#E5ECF6",
            "gridcolor": "white",
            "gridwidth": 2,
            "linecolor": "white",
            "showbackground": true,
            "ticks": "",
            "zerolinecolor": "white"
           },
           "zaxis": {
            "backgroundcolor": "#E5ECF6",
            "gridcolor": "white",
            "gridwidth": 2,
            "linecolor": "white",
            "showbackground": true,
            "ticks": "",
            "zerolinecolor": "white"
           }
          },
          "shapedefaults": {
           "line": {
            "color": "#2a3f5f"
           }
          },
          "ternary": {
           "aaxis": {
            "gridcolor": "white",
            "linecolor": "white",
            "ticks": ""
           },
           "baxis": {
            "gridcolor": "white",
            "linecolor": "white",
            "ticks": ""
           },
           "bgcolor": "#E5ECF6",
           "caxis": {
            "gridcolor": "white",
            "linecolor": "white",
            "ticks": ""
           }
          },
          "title": {
           "x": 0.05
          },
          "xaxis": {
           "automargin": true,
           "gridcolor": "white",
           "linecolor": "white",
           "ticks": "",
           "title": {
            "standoff": 15
           },
           "zerolinecolor": "white",
           "zerolinewidth": 2
          },
          "yaxis": {
           "automargin": true,
           "gridcolor": "white",
           "linecolor": "white",
           "ticks": "",
           "title": {
            "standoff": 15
           },
           "zerolinecolor": "white",
           "zerolinewidth": 2
          }
         }
        },
        "title": {
         "text": "Defensive Rebounds vs. Offensive Rebounds"
        },
        "xaxis": {
         "anchor": "y",
         "domain": [
          0,
          1
         ],
         "title": {
          "text": "Defensive Rebounds"
         }
        },
        "yaxis": {
         "anchor": "x",
         "domain": [
          0,
          1
         ],
         "title": {
          "text": "Offensive Rebounds"
         }
        }
       }
      }
     },
     "metadata": {},
     "output_type": "display_data"
    }
   ],
   "source": [
    "# Scatter plot of Defensive Rebounds vs. Offensive Rebounds of Top 15 Rebounders\n",
    "fig4 = px.scatter(top15_rebounders, x='DRB', y='ORB', \n",
    "                 title='Defensive Rebounds vs. Offensive Rebounds',\n",
    "                 labels={'DRB': 'Defensive Rebounds', 'ORB': 'Offensive Rebounds'},\n",
    "                 size='REB', hover_name='Player')\n",
    "\n",
    "fig4.show()"
   ]
  },
  {
   "cell_type": "markdown",
   "metadata": {},
   "source": [
    "Above shows the top rebounders in the league, but with the amount of rebounds on either the offensive or defensive side. Rudy Gobert is the top rebounder, but is about 3:1 ratio of defensive to offensive rebounds, which means most of his rebounds come from the defensive side of the floor. The top offensive rebounder is Steven Adams with about 4.5 rebounds, but is ranked number 14 in total rebounds."
   ]
  },
  {
   "cell_type": "code",
   "execution_count": 474,
   "metadata": {},
   "outputs": [
    {
     "data": {
      "application/vnd.plotly.v1+json": {
       "config": {
        "plotlyServerURL": "https://plot.ly"
       },
       "data": [
        {
         "hovertemplate": "<b>%{hovertext}</b><br><br>3-Point Attempts Per Game=%{marker.size}<br>3-Point Percentage=%{y}<extra></extra>",
         "hovertext": [
          "Kevin Durant",
          "Norman Powell",
          "Grayson Allen",
          "Desmond Bane",
          "Jamal Murray",
          "Stephen Curry",
          "Wayne Ellington",
          "Mike Conley",
          "Jrue Holiday",
          "Tyrese Haliburton",
          "Lonzo Ball",
          "Cameron Johnson",
          "Anfernee Simons",
          "CJ McCollum",
          "Bogdan Bogdanović",
          "Kyrie Irving",
          "Klay Thompson",
          "Karl-Anthony Towns",
          "Bojan Bogdanović",
          "Carmelo Anthony",
          "Darius Garland",
          "D'Angelo Russell",
          "Malcolm Brogdon",
          "Trey Murphy III",
          "Lauri Markkanen",
          "Paul George",
          "Corey Kispert",
          "Mikal Bridges",
          "Buddy Hield",
          "Keegan Murray"
         ],
         "legendgroup": "",
         "marker": {
          "color": "#636efa",
          "size": [
           5.2,
           5.5,
           5.6,
           6.6,
           6.3,
           11.9,
           5.4,
           5.6,
           5.1,
           5.9,
           7.8,
           6,
           7.5,
           7.8,
           7.4,
           7.8,
           9.6,
           5.6,
           6.1,
           5.2,
           6,
           7.2,
           5.4,
           5.7,
           6.9,
           7.9,
           5.1,
           5.4,
           8.2,
           6.4
          ],
          "sizemode": "area",
          "sizeref": 0.029750000000000002,
          "symbol": "circle"
         },
         "mode": "markers",
         "name": "",
         "orientation": "v",
         "showlegend": false,
         "type": "scatter",
         "x": [
          5.2,
          5.5,
          5.6,
          6.6,
          6.3,
          11.9,
          5.4,
          5.6,
          5.1,
          5.9,
          7.8,
          6,
          7.5,
          7.8,
          7.4,
          7.8,
          9.6,
          5.6,
          6.1,
          5.2,
          6,
          7.2,
          5.4,
          5.7,
          6.9,
          7.9,
          5.1,
          5.4,
          8.2,
          6.4
         ],
         "xaxis": "x",
         "y": [
          0.427,
          0.426,
          0.415,
          0.414,
          0.41,
          0.409,
          0.406,
          0.405,
          0.404,
          0.403,
          0.4,
          0.399,
          0.398,
          0.398,
          0.396,
          0.396,
          0.395,
          0.395,
          0.395,
          0.392,
          0.39,
          0.39,
          0.389,
          0.389,
          0.388,
          0.387,
          0.386,
          0.385,
          0.384,
          0.384
         ],
         "yaxis": "y"
        }
       ],
       "layout": {
        "legend": {
         "itemsizing": "constant",
         "tracegroupgap": 0
        },
        "template": {
         "data": {
          "bar": [
           {
            "error_x": {
             "color": "#2a3f5f"
            },
            "error_y": {
             "color": "#2a3f5f"
            },
            "marker": {
             "line": {
              "color": "#E5ECF6",
              "width": 0.5
             },
             "pattern": {
              "fillmode": "overlay",
              "size": 10,
              "solidity": 0.2
             }
            },
            "type": "bar"
           }
          ],
          "barpolar": [
           {
            "marker": {
             "line": {
              "color": "#E5ECF6",
              "width": 0.5
             },
             "pattern": {
              "fillmode": "overlay",
              "size": 10,
              "solidity": 0.2
             }
            },
            "type": "barpolar"
           }
          ],
          "carpet": [
           {
            "aaxis": {
             "endlinecolor": "#2a3f5f",
             "gridcolor": "white",
             "linecolor": "white",
             "minorgridcolor": "white",
             "startlinecolor": "#2a3f5f"
            },
            "baxis": {
             "endlinecolor": "#2a3f5f",
             "gridcolor": "white",
             "linecolor": "white",
             "minorgridcolor": "white",
             "startlinecolor": "#2a3f5f"
            },
            "type": "carpet"
           }
          ],
          "choropleth": [
           {
            "colorbar": {
             "outlinewidth": 0,
             "ticks": ""
            },
            "type": "choropleth"
           }
          ],
          "contour": [
           {
            "colorbar": {
             "outlinewidth": 0,
             "ticks": ""
            },
            "colorscale": [
             [
              0,
              "#0d0887"
             ],
             [
              0.1111111111111111,
              "#46039f"
             ],
             [
              0.2222222222222222,
              "#7201a8"
             ],
             [
              0.3333333333333333,
              "#9c179e"
             ],
             [
              0.4444444444444444,
              "#bd3786"
             ],
             [
              0.5555555555555556,
              "#d8576b"
             ],
             [
              0.6666666666666666,
              "#ed7953"
             ],
             [
              0.7777777777777778,
              "#fb9f3a"
             ],
             [
              0.8888888888888888,
              "#fdca26"
             ],
             [
              1,
              "#f0f921"
             ]
            ],
            "type": "contour"
           }
          ],
          "contourcarpet": [
           {
            "colorbar": {
             "outlinewidth": 0,
             "ticks": ""
            },
            "type": "contourcarpet"
           }
          ],
          "heatmap": [
           {
            "colorbar": {
             "outlinewidth": 0,
             "ticks": ""
            },
            "colorscale": [
             [
              0,
              "#0d0887"
             ],
             [
              0.1111111111111111,
              "#46039f"
             ],
             [
              0.2222222222222222,
              "#7201a8"
             ],
             [
              0.3333333333333333,
              "#9c179e"
             ],
             [
              0.4444444444444444,
              "#bd3786"
             ],
             [
              0.5555555555555556,
              "#d8576b"
             ],
             [
              0.6666666666666666,
              "#ed7953"
             ],
             [
              0.7777777777777778,
              "#fb9f3a"
             ],
             [
              0.8888888888888888,
              "#fdca26"
             ],
             [
              1,
              "#f0f921"
             ]
            ],
            "type": "heatmap"
           }
          ],
          "heatmapgl": [
           {
            "colorbar": {
             "outlinewidth": 0,
             "ticks": ""
            },
            "colorscale": [
             [
              0,
              "#0d0887"
             ],
             [
              0.1111111111111111,
              "#46039f"
             ],
             [
              0.2222222222222222,
              "#7201a8"
             ],
             [
              0.3333333333333333,
              "#9c179e"
             ],
             [
              0.4444444444444444,
              "#bd3786"
             ],
             [
              0.5555555555555556,
              "#d8576b"
             ],
             [
              0.6666666666666666,
              "#ed7953"
             ],
             [
              0.7777777777777778,
              "#fb9f3a"
             ],
             [
              0.8888888888888888,
              "#fdca26"
             ],
             [
              1,
              "#f0f921"
             ]
            ],
            "type": "heatmapgl"
           }
          ],
          "histogram": [
           {
            "marker": {
             "pattern": {
              "fillmode": "overlay",
              "size": 10,
              "solidity": 0.2
             }
            },
            "type": "histogram"
           }
          ],
          "histogram2d": [
           {
            "colorbar": {
             "outlinewidth": 0,
             "ticks": ""
            },
            "colorscale": [
             [
              0,
              "#0d0887"
             ],
             [
              0.1111111111111111,
              "#46039f"
             ],
             [
              0.2222222222222222,
              "#7201a8"
             ],
             [
              0.3333333333333333,
              "#9c179e"
             ],
             [
              0.4444444444444444,
              "#bd3786"
             ],
             [
              0.5555555555555556,
              "#d8576b"
             ],
             [
              0.6666666666666666,
              "#ed7953"
             ],
             [
              0.7777777777777778,
              "#fb9f3a"
             ],
             [
              0.8888888888888888,
              "#fdca26"
             ],
             [
              1,
              "#f0f921"
             ]
            ],
            "type": "histogram2d"
           }
          ],
          "histogram2dcontour": [
           {
            "colorbar": {
             "outlinewidth": 0,
             "ticks": ""
            },
            "colorscale": [
             [
              0,
              "#0d0887"
             ],
             [
              0.1111111111111111,
              "#46039f"
             ],
             [
              0.2222222222222222,
              "#7201a8"
             ],
             [
              0.3333333333333333,
              "#9c179e"
             ],
             [
              0.4444444444444444,
              "#bd3786"
             ],
             [
              0.5555555555555556,
              "#d8576b"
             ],
             [
              0.6666666666666666,
              "#ed7953"
             ],
             [
              0.7777777777777778,
              "#fb9f3a"
             ],
             [
              0.8888888888888888,
              "#fdca26"
             ],
             [
              1,
              "#f0f921"
             ]
            ],
            "type": "histogram2dcontour"
           }
          ],
          "mesh3d": [
           {
            "colorbar": {
             "outlinewidth": 0,
             "ticks": ""
            },
            "type": "mesh3d"
           }
          ],
          "parcoords": [
           {
            "line": {
             "colorbar": {
              "outlinewidth": 0,
              "ticks": ""
             }
            },
            "type": "parcoords"
           }
          ],
          "pie": [
           {
            "automargin": true,
            "type": "pie"
           }
          ],
          "scatter": [
           {
            "fillpattern": {
             "fillmode": "overlay",
             "size": 10,
             "solidity": 0.2
            },
            "type": "scatter"
           }
          ],
          "scatter3d": [
           {
            "line": {
             "colorbar": {
              "outlinewidth": 0,
              "ticks": ""
             }
            },
            "marker": {
             "colorbar": {
              "outlinewidth": 0,
              "ticks": ""
             }
            },
            "type": "scatter3d"
           }
          ],
          "scattercarpet": [
           {
            "marker": {
             "colorbar": {
              "outlinewidth": 0,
              "ticks": ""
             }
            },
            "type": "scattercarpet"
           }
          ],
          "scattergeo": [
           {
            "marker": {
             "colorbar": {
              "outlinewidth": 0,
              "ticks": ""
             }
            },
            "type": "scattergeo"
           }
          ],
          "scattergl": [
           {
            "marker": {
             "colorbar": {
              "outlinewidth": 0,
              "ticks": ""
             }
            },
            "type": "scattergl"
           }
          ],
          "scattermapbox": [
           {
            "marker": {
             "colorbar": {
              "outlinewidth": 0,
              "ticks": ""
             }
            },
            "type": "scattermapbox"
           }
          ],
          "scatterpolar": [
           {
            "marker": {
             "colorbar": {
              "outlinewidth": 0,
              "ticks": ""
             }
            },
            "type": "scatterpolar"
           }
          ],
          "scatterpolargl": [
           {
            "marker": {
             "colorbar": {
              "outlinewidth": 0,
              "ticks": ""
             }
            },
            "type": "scatterpolargl"
           }
          ],
          "scatterternary": [
           {
            "marker": {
             "colorbar": {
              "outlinewidth": 0,
              "ticks": ""
             }
            },
            "type": "scatterternary"
           }
          ],
          "surface": [
           {
            "colorbar": {
             "outlinewidth": 0,
             "ticks": ""
            },
            "colorscale": [
             [
              0,
              "#0d0887"
             ],
             [
              0.1111111111111111,
              "#46039f"
             ],
             [
              0.2222222222222222,
              "#7201a8"
             ],
             [
              0.3333333333333333,
              "#9c179e"
             ],
             [
              0.4444444444444444,
              "#bd3786"
             ],
             [
              0.5555555555555556,
              "#d8576b"
             ],
             [
              0.6666666666666666,
              "#ed7953"
             ],
             [
              0.7777777777777778,
              "#fb9f3a"
             ],
             [
              0.8888888888888888,
              "#fdca26"
             ],
             [
              1,
              "#f0f921"
             ]
            ],
            "type": "surface"
           }
          ],
          "table": [
           {
            "cells": {
             "fill": {
              "color": "#EBF0F8"
             },
             "line": {
              "color": "white"
             }
            },
            "header": {
             "fill": {
              "color": "#C8D4E3"
             },
             "line": {
              "color": "white"
             }
            },
            "type": "table"
           }
          ]
         },
         "layout": {
          "annotationdefaults": {
           "arrowcolor": "#2a3f5f",
           "arrowhead": 0,
           "arrowwidth": 1
          },
          "autotypenumbers": "strict",
          "coloraxis": {
           "colorbar": {
            "outlinewidth": 0,
            "ticks": ""
           }
          },
          "colorscale": {
           "diverging": [
            [
             0,
             "#8e0152"
            ],
            [
             0.1,
             "#c51b7d"
            ],
            [
             0.2,
             "#de77ae"
            ],
            [
             0.3,
             "#f1b6da"
            ],
            [
             0.4,
             "#fde0ef"
            ],
            [
             0.5,
             "#f7f7f7"
            ],
            [
             0.6,
             "#e6f5d0"
            ],
            [
             0.7,
             "#b8e186"
            ],
            [
             0.8,
             "#7fbc41"
            ],
            [
             0.9,
             "#4d9221"
            ],
            [
             1,
             "#276419"
            ]
           ],
           "sequential": [
            [
             0,
             "#0d0887"
            ],
            [
             0.1111111111111111,
             "#46039f"
            ],
            [
             0.2222222222222222,
             "#7201a8"
            ],
            [
             0.3333333333333333,
             "#9c179e"
            ],
            [
             0.4444444444444444,
             "#bd3786"
            ],
            [
             0.5555555555555556,
             "#d8576b"
            ],
            [
             0.6666666666666666,
             "#ed7953"
            ],
            [
             0.7777777777777778,
             "#fb9f3a"
            ],
            [
             0.8888888888888888,
             "#fdca26"
            ],
            [
             1,
             "#f0f921"
            ]
           ],
           "sequentialminus": [
            [
             0,
             "#0d0887"
            ],
            [
             0.1111111111111111,
             "#46039f"
            ],
            [
             0.2222222222222222,
             "#7201a8"
            ],
            [
             0.3333333333333333,
             "#9c179e"
            ],
            [
             0.4444444444444444,
             "#bd3786"
            ],
            [
             0.5555555555555556,
             "#d8576b"
            ],
            [
             0.6666666666666666,
             "#ed7953"
            ],
            [
             0.7777777777777778,
             "#fb9f3a"
            ],
            [
             0.8888888888888888,
             "#fdca26"
            ],
            [
             1,
             "#f0f921"
            ]
           ]
          },
          "colorway": [
           "#636efa",
           "#EF553B",
           "#00cc96",
           "#ab63fa",
           "#FFA15A",
           "#19d3f3",
           "#FF6692",
           "#B6E880",
           "#FF97FF",
           "#FECB52"
          ],
          "font": {
           "color": "#2a3f5f"
          },
          "geo": {
           "bgcolor": "white",
           "lakecolor": "white",
           "landcolor": "#E5ECF6",
           "showlakes": true,
           "showland": true,
           "subunitcolor": "white"
          },
          "hoverlabel": {
           "align": "left"
          },
          "hovermode": "closest",
          "mapbox": {
           "style": "light"
          },
          "paper_bgcolor": "white",
          "plot_bgcolor": "#E5ECF6",
          "polar": {
           "angularaxis": {
            "gridcolor": "white",
            "linecolor": "white",
            "ticks": ""
           },
           "bgcolor": "#E5ECF6",
           "radialaxis": {
            "gridcolor": "white",
            "linecolor": "white",
            "ticks": ""
           }
          },
          "scene": {
           "xaxis": {
            "backgroundcolor": "#E5ECF6",
            "gridcolor": "white",
            "gridwidth": 2,
            "linecolor": "white",
            "showbackground": true,
            "ticks": "",
            "zerolinecolor": "white"
           },
           "yaxis": {
            "backgroundcolor": "#E5ECF6",
            "gridcolor": "white",
            "gridwidth": 2,
            "linecolor": "white",
            "showbackground": true,
            "ticks": "",
            "zerolinecolor": "white"
           },
           "zaxis": {
            "backgroundcolor": "#E5ECF6",
            "gridcolor": "white",
            "gridwidth": 2,
            "linecolor": "white",
            "showbackground": true,
            "ticks": "",
            "zerolinecolor": "white"
           }
          },
          "shapedefaults": {
           "line": {
            "color": "#2a3f5f"
           }
          },
          "ternary": {
           "aaxis": {
            "gridcolor": "white",
            "linecolor": "white",
            "ticks": ""
           },
           "baxis": {
            "gridcolor": "white",
            "linecolor": "white",
            "ticks": ""
           },
           "bgcolor": "#E5ECF6",
           "caxis": {
            "gridcolor": "white",
            "linecolor": "white",
            "ticks": ""
           }
          },
          "title": {
           "x": 0.05
          },
          "xaxis": {
           "automargin": true,
           "gridcolor": "white",
           "linecolor": "white",
           "ticks": "",
           "title": {
            "standoff": 15
           },
           "zerolinecolor": "white",
           "zerolinewidth": 2
          },
          "yaxis": {
           "automargin": true,
           "gridcolor": "white",
           "linecolor": "white",
           "ticks": "",
           "title": {
            "standoff": 15
           },
           "zerolinecolor": "white",
           "zerolinewidth": 2
          }
         }
        },
        "title": {
         "text": "3PT Attempts vs. 3PT Percentage (Shooting More Than 5 3PTs Per Game)"
        },
        "xaxis": {
         "anchor": "y",
         "domain": [
          0,
          1
         ],
         "title": {
          "text": "3-Point Attempts Per Game"
         }
        },
        "yaxis": {
         "anchor": "x",
         "domain": [
          0,
          1
         ],
         "title": {
          "text": "3-Point Percentage"
         }
        }
       }
      }
     },
     "metadata": {},
     "output_type": "display_data"
    }
   ],
   "source": [
    "# Scatter plot of 3PT Attempts vs. 3PT Percentage of Top 30 3PT Shooters\n",
    "fig6 = px.scatter(top30_3pt, x='3PA', y='3P%', \n",
    "                 title='3PT Attempts vs. 3PT Percentage (Shooting More Than 5 3PTs Per Game)',\n",
    "                 labels={'3PA': '3-Point Attempts Per Game', '3P%': '3-Point Percentage'},\n",
    "                 size='3PA', hover_name='Player')\n",
    "\n",
    "fig6.show()"
   ]
  },
  {
   "cell_type": "markdown",
   "metadata": {},
   "source": [
    "This shows the effiency of the top 30 three point shooters (in three point field percentages shooting more than 5 threes a game). There seems to be an outlier of this group, it being Stephen Curry with his attempts. He attempts about 11.9 threes a game, but shooting 40.9% from three. While the player who tends to make his threes more often, is Kevin Durant with 42.7% from three, but only shooting about 5.2 threes a game."
   ]
  },
  {
   "cell_type": "code",
   "execution_count": 477,
   "metadata": {},
   "outputs": [
    {
     "data": {
      "application/vnd.plotly.v1+json": {
       "config": {
        "plotlyServerURL": "https://plot.ly"
       },
       "data": [
        {
         "hovertemplate": "<b>%{hovertext}</b><br><br>Pos=PG<br>Assists Per Game=%{marker.size}<br>Turnovers Per Game=%{y}<extra></extra>",
         "hovertext": [
          "James Harden",
          "Trae Young",
          "Luka Dončić",
          "Chris Paul",
          "Russell Westbrook",
          "Ja Morant",
          "LaMelo Ball",
          "Damian Lillard",
          "Darius Garland",
          "Derrick Walton"
         ],
         "legendgroup": "PG",
         "marker": {
          "color": "#636efa",
          "size": [
           10.3,
           10,
           8.8,
           8.8,
           7.6,
           7.6,
           7.5,
           7.3,
           7.2,
           7
          ],
          "sizemode": "area",
          "sizeref": 0.025750000000000002,
          "symbol": "circle"
         },
         "mode": "markers",
         "name": "PG",
         "orientation": "v",
         "showlegend": true,
         "type": "scatter",
         "x": [
          10.3,
          10,
          8.8,
          8.8,
          7.6,
          7.6,
          7.5,
          7.3,
          7.2,
          7
         ],
         "xaxis": "x",
         "y": [
          3.9,
          4.2,
          4.1,
          2,
          3.5,
          3.2,
          3.4,
          3,
          3.2,
          3.7
         ],
         "yaxis": "y"
        },
        {
         "hovertemplate": "<b>%{hovertext}</b><br><br>Pos=C<br>Assists Per Game=%{marker.size}<br>Turnovers Per Game=%{y}<extra></extra>",
         "hovertext": [
          "Nikola Jokić"
         ],
         "legendgroup": "C",
         "marker": {
          "color": "#EF553B",
          "size": [
           8.8
          ],
          "sizemode": "area",
          "sizeref": 0.025750000000000002,
          "symbol": "circle"
         },
         "mode": "markers",
         "name": "C",
         "orientation": "v",
         "showlegend": true,
         "type": "scatter",
         "x": [
          8.8
         ],
         "xaxis": "x",
         "y": [
          3.4
         ],
         "yaxis": "y"
        },
        {
         "hovertemplate": "<b>%{hovertext}</b><br><br>Pos=PG, SG<br>Assists Per Game=%{marker.size}<br>Turnovers Per Game=%{y}<extra></extra>",
         "hovertext": [
          "Tyrese Haliburton",
          "Fred VanVleet"
         ],
         "legendgroup": "PG, SG",
         "marker": {
          "color": "#00cc96",
          "size": [
           8.6,
           7.1
          ],
          "sizemode": "area",
          "sizeref": 0.025750000000000002,
          "symbol": "circle"
         },
         "mode": "markers",
         "name": "PG, SG",
         "orientation": "v",
         "showlegend": true,
         "type": "scatter",
         "x": [
          8.6,
          7.1
         ],
         "xaxis": "x",
         "y": [
          2.4,
          2
         ],
         "yaxis": "y"
        },
        {
         "hovertemplate": "<b>%{hovertext}</b><br><br>Pos=PG, C, PF<br>Assists Per Game=%{marker.size}<br>Turnovers Per Game=%{y}<extra></extra>",
         "hovertext": [
          "LeBron James"
         ],
         "legendgroup": "PG, C, PF",
         "marker": {
          "color": "#ab63fa",
          "size": [
           7.3
          ],
          "sizemode": "area",
          "sizeref": 0.025750000000000002,
          "symbol": "circle"
         },
         "mode": "markers",
         "name": "PG, C, PF",
         "orientation": "v",
         "showlegend": true,
         "type": "scatter",
         "x": [
          7.3
         ],
         "xaxis": "x",
         "y": [
          3.5
         ],
         "yaxis": "y"
        },
        {
         "hovertemplate": "<b>%{hovertext}</b><br><br>Pos=PF<br>Assists Per Game=%{marker.size}<br>Turnovers Per Game=%{y}<extra></extra>",
         "hovertext": [
          "Draymond Green"
         ],
         "legendgroup": "PF",
         "marker": {
          "color": "#FFA15A",
          "size": [
           7.2
          ],
          "sizemode": "area",
          "sizeref": 0.025750000000000002,
          "symbol": "circle"
         },
         "mode": "markers",
         "name": "PF",
         "orientation": "v",
         "showlegend": true,
         "type": "scatter",
         "x": [
          7.2
         ],
         "xaxis": "x",
         "y": [
          2.8
         ],
         "yaxis": "y"
        }
       ],
       "layout": {
        "legend": {
         "itemsizing": "constant",
         "title": {
          "text": "Pos"
         },
         "tracegroupgap": 0
        },
        "template": {
         "data": {
          "bar": [
           {
            "error_x": {
             "color": "#2a3f5f"
            },
            "error_y": {
             "color": "#2a3f5f"
            },
            "marker": {
             "line": {
              "color": "#E5ECF6",
              "width": 0.5
             },
             "pattern": {
              "fillmode": "overlay",
              "size": 10,
              "solidity": 0.2
             }
            },
            "type": "bar"
           }
          ],
          "barpolar": [
           {
            "marker": {
             "line": {
              "color": "#E5ECF6",
              "width": 0.5
             },
             "pattern": {
              "fillmode": "overlay",
              "size": 10,
              "solidity": 0.2
             }
            },
            "type": "barpolar"
           }
          ],
          "carpet": [
           {
            "aaxis": {
             "endlinecolor": "#2a3f5f",
             "gridcolor": "white",
             "linecolor": "white",
             "minorgridcolor": "white",
             "startlinecolor": "#2a3f5f"
            },
            "baxis": {
             "endlinecolor": "#2a3f5f",
             "gridcolor": "white",
             "linecolor": "white",
             "minorgridcolor": "white",
             "startlinecolor": "#2a3f5f"
            },
            "type": "carpet"
           }
          ],
          "choropleth": [
           {
            "colorbar": {
             "outlinewidth": 0,
             "ticks": ""
            },
            "type": "choropleth"
           }
          ],
          "contour": [
           {
            "colorbar": {
             "outlinewidth": 0,
             "ticks": ""
            },
            "colorscale": [
             [
              0,
              "#0d0887"
             ],
             [
              0.1111111111111111,
              "#46039f"
             ],
             [
              0.2222222222222222,
              "#7201a8"
             ],
             [
              0.3333333333333333,
              "#9c179e"
             ],
             [
              0.4444444444444444,
              "#bd3786"
             ],
             [
              0.5555555555555556,
              "#d8576b"
             ],
             [
              0.6666666666666666,
              "#ed7953"
             ],
             [
              0.7777777777777778,
              "#fb9f3a"
             ],
             [
              0.8888888888888888,
              "#fdca26"
             ],
             [
              1,
              "#f0f921"
             ]
            ],
            "type": "contour"
           }
          ],
          "contourcarpet": [
           {
            "colorbar": {
             "outlinewidth": 0,
             "ticks": ""
            },
            "type": "contourcarpet"
           }
          ],
          "heatmap": [
           {
            "colorbar": {
             "outlinewidth": 0,
             "ticks": ""
            },
            "colorscale": [
             [
              0,
              "#0d0887"
             ],
             [
              0.1111111111111111,
              "#46039f"
             ],
             [
              0.2222222222222222,
              "#7201a8"
             ],
             [
              0.3333333333333333,
              "#9c179e"
             ],
             [
              0.4444444444444444,
              "#bd3786"
             ],
             [
              0.5555555555555556,
              "#d8576b"
             ],
             [
              0.6666666666666666,
              "#ed7953"
             ],
             [
              0.7777777777777778,
              "#fb9f3a"
             ],
             [
              0.8888888888888888,
              "#fdca26"
             ],
             [
              1,
              "#f0f921"
             ]
            ],
            "type": "heatmap"
           }
          ],
          "heatmapgl": [
           {
            "colorbar": {
             "outlinewidth": 0,
             "ticks": ""
            },
            "colorscale": [
             [
              0,
              "#0d0887"
             ],
             [
              0.1111111111111111,
              "#46039f"
             ],
             [
              0.2222222222222222,
              "#7201a8"
             ],
             [
              0.3333333333333333,
              "#9c179e"
             ],
             [
              0.4444444444444444,
              "#bd3786"
             ],
             [
              0.5555555555555556,
              "#d8576b"
             ],
             [
              0.6666666666666666,
              "#ed7953"
             ],
             [
              0.7777777777777778,
              "#fb9f3a"
             ],
             [
              0.8888888888888888,
              "#fdca26"
             ],
             [
              1,
              "#f0f921"
             ]
            ],
            "type": "heatmapgl"
           }
          ],
          "histogram": [
           {
            "marker": {
             "pattern": {
              "fillmode": "overlay",
              "size": 10,
              "solidity": 0.2
             }
            },
            "type": "histogram"
           }
          ],
          "histogram2d": [
           {
            "colorbar": {
             "outlinewidth": 0,
             "ticks": ""
            },
            "colorscale": [
             [
              0,
              "#0d0887"
             ],
             [
              0.1111111111111111,
              "#46039f"
             ],
             [
              0.2222222222222222,
              "#7201a8"
             ],
             [
              0.3333333333333333,
              "#9c179e"
             ],
             [
              0.4444444444444444,
              "#bd3786"
             ],
             [
              0.5555555555555556,
              "#d8576b"
             ],
             [
              0.6666666666666666,
              "#ed7953"
             ],
             [
              0.7777777777777778,
              "#fb9f3a"
             ],
             [
              0.8888888888888888,
              "#fdca26"
             ],
             [
              1,
              "#f0f921"
             ]
            ],
            "type": "histogram2d"
           }
          ],
          "histogram2dcontour": [
           {
            "colorbar": {
             "outlinewidth": 0,
             "ticks": ""
            },
            "colorscale": [
             [
              0,
              "#0d0887"
             ],
             [
              0.1111111111111111,
              "#46039f"
             ],
             [
              0.2222222222222222,
              "#7201a8"
             ],
             [
              0.3333333333333333,
              "#9c179e"
             ],
             [
              0.4444444444444444,
              "#bd3786"
             ],
             [
              0.5555555555555556,
              "#d8576b"
             ],
             [
              0.6666666666666666,
              "#ed7953"
             ],
             [
              0.7777777777777778,
              "#fb9f3a"
             ],
             [
              0.8888888888888888,
              "#fdca26"
             ],
             [
              1,
              "#f0f921"
             ]
            ],
            "type": "histogram2dcontour"
           }
          ],
          "mesh3d": [
           {
            "colorbar": {
             "outlinewidth": 0,
             "ticks": ""
            },
            "type": "mesh3d"
           }
          ],
          "parcoords": [
           {
            "line": {
             "colorbar": {
              "outlinewidth": 0,
              "ticks": ""
             }
            },
            "type": "parcoords"
           }
          ],
          "pie": [
           {
            "automargin": true,
            "type": "pie"
           }
          ],
          "scatter": [
           {
            "fillpattern": {
             "fillmode": "overlay",
             "size": 10,
             "solidity": 0.2
            },
            "type": "scatter"
           }
          ],
          "scatter3d": [
           {
            "line": {
             "colorbar": {
              "outlinewidth": 0,
              "ticks": ""
             }
            },
            "marker": {
             "colorbar": {
              "outlinewidth": 0,
              "ticks": ""
             }
            },
            "type": "scatter3d"
           }
          ],
          "scattercarpet": [
           {
            "marker": {
             "colorbar": {
              "outlinewidth": 0,
              "ticks": ""
             }
            },
            "type": "scattercarpet"
           }
          ],
          "scattergeo": [
           {
            "marker": {
             "colorbar": {
              "outlinewidth": 0,
              "ticks": ""
             }
            },
            "type": "scattergeo"
           }
          ],
          "scattergl": [
           {
            "marker": {
             "colorbar": {
              "outlinewidth": 0,
              "ticks": ""
             }
            },
            "type": "scattergl"
           }
          ],
          "scattermapbox": [
           {
            "marker": {
             "colorbar": {
              "outlinewidth": 0,
              "ticks": ""
             }
            },
            "type": "scattermapbox"
           }
          ],
          "scatterpolar": [
           {
            "marker": {
             "colorbar": {
              "outlinewidth": 0,
              "ticks": ""
             }
            },
            "type": "scatterpolar"
           }
          ],
          "scatterpolargl": [
           {
            "marker": {
             "colorbar": {
              "outlinewidth": 0,
              "ticks": ""
             }
            },
            "type": "scatterpolargl"
           }
          ],
          "scatterternary": [
           {
            "marker": {
             "colorbar": {
              "outlinewidth": 0,
              "ticks": ""
             }
            },
            "type": "scatterternary"
           }
          ],
          "surface": [
           {
            "colorbar": {
             "outlinewidth": 0,
             "ticks": ""
            },
            "colorscale": [
             [
              0,
              "#0d0887"
             ],
             [
              0.1111111111111111,
              "#46039f"
             ],
             [
              0.2222222222222222,
              "#7201a8"
             ],
             [
              0.3333333333333333,
              "#9c179e"
             ],
             [
              0.4444444444444444,
              "#bd3786"
             ],
             [
              0.5555555555555556,
              "#d8576b"
             ],
             [
              0.6666666666666666,
              "#ed7953"
             ],
             [
              0.7777777777777778,
              "#fb9f3a"
             ],
             [
              0.8888888888888888,
              "#fdca26"
             ],
             [
              1,
              "#f0f921"
             ]
            ],
            "type": "surface"
           }
          ],
          "table": [
           {
            "cells": {
             "fill": {
              "color": "#EBF0F8"
             },
             "line": {
              "color": "white"
             }
            },
            "header": {
             "fill": {
              "color": "#C8D4E3"
             },
             "line": {
              "color": "white"
             }
            },
            "type": "table"
           }
          ]
         },
         "layout": {
          "annotationdefaults": {
           "arrowcolor": "#2a3f5f",
           "arrowhead": 0,
           "arrowwidth": 1
          },
          "autotypenumbers": "strict",
          "coloraxis": {
           "colorbar": {
            "outlinewidth": 0,
            "ticks": ""
           }
          },
          "colorscale": {
           "diverging": [
            [
             0,
             "#8e0152"
            ],
            [
             0.1,
             "#c51b7d"
            ],
            [
             0.2,
             "#de77ae"
            ],
            [
             0.3,
             "#f1b6da"
            ],
            [
             0.4,
             "#fde0ef"
            ],
            [
             0.5,
             "#f7f7f7"
            ],
            [
             0.6,
             "#e6f5d0"
            ],
            [
             0.7,
             "#b8e186"
            ],
            [
             0.8,
             "#7fbc41"
            ],
            [
             0.9,
             "#4d9221"
            ],
            [
             1,
             "#276419"
            ]
           ],
           "sequential": [
            [
             0,
             "#0d0887"
            ],
            [
             0.1111111111111111,
             "#46039f"
            ],
            [
             0.2222222222222222,
             "#7201a8"
            ],
            [
             0.3333333333333333,
             "#9c179e"
            ],
            [
             0.4444444444444444,
             "#bd3786"
            ],
            [
             0.5555555555555556,
             "#d8576b"
            ],
            [
             0.6666666666666666,
             "#ed7953"
            ],
            [
             0.7777777777777778,
             "#fb9f3a"
            ],
            [
             0.8888888888888888,
             "#fdca26"
            ],
            [
             1,
             "#f0f921"
            ]
           ],
           "sequentialminus": [
            [
             0,
             "#0d0887"
            ],
            [
             0.1111111111111111,
             "#46039f"
            ],
            [
             0.2222222222222222,
             "#7201a8"
            ],
            [
             0.3333333333333333,
             "#9c179e"
            ],
            [
             0.4444444444444444,
             "#bd3786"
            ],
            [
             0.5555555555555556,
             "#d8576b"
            ],
            [
             0.6666666666666666,
             "#ed7953"
            ],
            [
             0.7777777777777778,
             "#fb9f3a"
            ],
            [
             0.8888888888888888,
             "#fdca26"
            ],
            [
             1,
             "#f0f921"
            ]
           ]
          },
          "colorway": [
           "#636efa",
           "#EF553B",
           "#00cc96",
           "#ab63fa",
           "#FFA15A",
           "#19d3f3",
           "#FF6692",
           "#B6E880",
           "#FF97FF",
           "#FECB52"
          ],
          "font": {
           "color": "#2a3f5f"
          },
          "geo": {
           "bgcolor": "white",
           "lakecolor": "white",
           "landcolor": "#E5ECF6",
           "showlakes": true,
           "showland": true,
           "subunitcolor": "white"
          },
          "hoverlabel": {
           "align": "left"
          },
          "hovermode": "closest",
          "mapbox": {
           "style": "light"
          },
          "paper_bgcolor": "white",
          "plot_bgcolor": "#E5ECF6",
          "polar": {
           "angularaxis": {
            "gridcolor": "white",
            "linecolor": "white",
            "ticks": ""
           },
           "bgcolor": "#E5ECF6",
           "radialaxis": {
            "gridcolor": "white",
            "linecolor": "white",
            "ticks": ""
           }
          },
          "scene": {
           "xaxis": {
            "backgroundcolor": "#E5ECF6",
            "gridcolor": "white",
            "gridwidth": 2,
            "linecolor": "white",
            "showbackground": true,
            "ticks": "",
            "zerolinecolor": "white"
           },
           "yaxis": {
            "backgroundcolor": "#E5ECF6",
            "gridcolor": "white",
            "gridwidth": 2,
            "linecolor": "white",
            "showbackground": true,
            "ticks": "",
            "zerolinecolor": "white"
           },
           "zaxis": {
            "backgroundcolor": "#E5ECF6",
            "gridcolor": "white",
            "gridwidth": 2,
            "linecolor": "white",
            "showbackground": true,
            "ticks": "",
            "zerolinecolor": "white"
           }
          },
          "shapedefaults": {
           "line": {
            "color": "#2a3f5f"
           }
          },
          "ternary": {
           "aaxis": {
            "gridcolor": "white",
            "linecolor": "white",
            "ticks": ""
           },
           "baxis": {
            "gridcolor": "white",
            "linecolor": "white",
            "ticks": ""
           },
           "bgcolor": "#E5ECF6",
           "caxis": {
            "gridcolor": "white",
            "linecolor": "white",
            "ticks": ""
           }
          },
          "title": {
           "x": 0.05
          },
          "xaxis": {
           "automargin": true,
           "gridcolor": "white",
           "linecolor": "white",
           "ticks": "",
           "title": {
            "standoff": 15
           },
           "zerolinecolor": "white",
           "zerolinewidth": 2
          },
          "yaxis": {
           "automargin": true,
           "gridcolor": "white",
           "linecolor": "white",
           "ticks": "",
           "title": {
            "standoff": 15
           },
           "zerolinecolor": "white",
           "zerolinewidth": 2
          }
         }
        },
        "title": {
         "text": "Assists vs. Turnovers (Playmaking Efficiency)"
        },
        "xaxis": {
         "anchor": "y",
         "domain": [
          0,
          1
         ],
         "title": {
          "text": "Assists Per Game"
         }
        },
        "yaxis": {
         "anchor": "x",
         "domain": [
          0,
          1
         ],
         "title": {
          "text": "Turnovers Per Game"
         }
        }
       }
      }
     },
     "metadata": {},
     "output_type": "display_data"
    }
   ],
   "source": [
    "# Scatter plot of Assists vs. Turnovers (Playmaking Efficiency)\n",
    "fig7 = px.scatter(top15_playmakers, x='AST', y='TOV', \n",
    "                 title='Assists vs. Turnovers (Playmaking Efficiency)',\n",
    "                 labels={'AST': 'Assists Per Game', 'TOV': 'Turnovers Per Game'},\n",
    "                 color='Pos', size='AST', hover_name='Player')\n",
    "\n",
    "fig7.show()"
   ]
  },
  {
   "cell_type": "markdown",
   "metadata": {},
   "source": [
    "This shows the assist vs. turnovers, meaning how efficient of a playmaker is. The less of turnovers is the better, but with the increase amount of assists tends to be more turnovers. Typically, the ratio to aim for in assists to turnover is 2:1. Anything less, would usually mean the player is not an elite playmaker, or the designated playmaker for their team. The player with best assist to turnover ratio is Chris Paul with about a 4:1 ratio."
   ]
  },
  {
   "cell_type": "markdown",
   "metadata": {},
   "source": []
  }
 ],
 "metadata": {
  "kernelspec": {
   "display_name": "base",
   "language": "python",
   "name": "python3"
  },
  "language_info": {
   "codemirror_mode": {
    "name": "ipython",
    "version": 3
   },
   "file_extension": ".py",
   "mimetype": "text/x-python",
   "name": "python",
   "nbconvert_exporter": "python",
   "pygments_lexer": "ipython3",
   "version": "3.12.7"
  }
 },
 "nbformat": 4,
 "nbformat_minor": 2
}
